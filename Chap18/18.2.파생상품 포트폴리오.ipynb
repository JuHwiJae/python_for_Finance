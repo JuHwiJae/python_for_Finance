{
 "cells": [
  {
   "cell_type": "markdown",
   "id": "af83626b",
   "metadata": {},
   "source": [
    "# 18.2.1 클래스"
   ]
  },
  {
   "cell_type": "code",
   "execution_count": 1,
   "id": "af6b8a89",
   "metadata": {},
   "outputs": [],
   "source": [
    "import numpy as np\n",
    "import pandas as pd\n",
    "\n",
    "from dx_frame import *\n",
    "from sn_random_numbers import sn_random_numbers\n",
    "from geometric_brownian_motion import geometric_brownian_motion\n",
    "from jump_diffusion import jump_diffusion\n",
    "from square_root_diffusion import square_root_diffusion\n",
    "from simulation_class import simulation_class\n",
    "\n",
    "from valuation_class import valuation_class\n",
    "from valuation_mcs_european import valuation_mcs_european\n",
    "from valuation_mcs_american import valuation_mcs_american\n",
    "\n",
    "from derivatives_position import derivatives_position"
   ]
  },
  {
   "cell_type": "code",
   "execution_count": 2,
   "id": "9f68488c",
   "metadata": {},
   "outputs": [],
   "source": [
    "# 위험 요인 모형화에 필요한 모형\n",
    "models = {'gbm' : geometric_brownian_motion,\n",
    "          'jd' : jump_diffusion,\n",
    "          'srd' : square_root_diffusion}\n",
    "\n",
    "# 행사 유형\n",
    "otypes = {'European' : valuation_mcs_european,\n",
    "          'American' : valuation_mcs_american}\n",
    "\n",
    "class derivatives_portfolio(object):\n",
    "    ''' 파생상품 포지션 포트폴리오 생성용 클래스\n",
    "    \n",
    "    속성\n",
    "    ====\n",
    "    name : str\n",
    "        객체 이름\n",
    "    positions : dict\n",
    "        포지션용 사전(derivatives_position 클래스 인스턴스)\n",
    "    val_env : market_environment\n",
    "        가치 평가용 시장 환경\n",
    "    assets : dict\n",
    "        각 자산용 시장 환경 사전\n",
    "    correlations : list\n",
    "        자산간의 상관관계\n",
    "    fixed_seed : Boolean\n",
    "        랜덤 변수용 시드 플래그\n",
    "    '''\n",
    "    \n",
    "    def __init__(self, name, positions, val_env, assets,correlations = None, fixed_seed = False):\n",
    "        self.name = name\n",
    "        self.positions = positions\n",
    "        self.val_env = val_env\n",
    "        self.assets = assets\n",
    "        self.underlyings = set()\n",
    "        self.correlations = correlations\n",
    "        self.time_grid = None\n",
    "        self.underlying_objects = {}\n",
    "        self.valuation_objects = {}\n",
    "        self.fixed_seed = fixed_seed\n",
    "        self.special_dates = []\n",
    "        \n",
    "        for pos in self.positions:\n",
    "            # 가장 빠른 starting_date 결정\n",
    "            self.val_env.constants['starting_date'] = min(self.val_env.constants['starting_date'], positions[pos].mar_env.pricing_date)\n",
    "            \n",
    "            # 관련 있는 최신 날짜 결정\n",
    "            self.val_env.constants['final_date'] = max(self.val_env.constants['final_date'], positions[pos].mar_env.constants['maturity'])\n",
    "            \n",
    "            # 모든 기초자산을 집합으로 모아서 중복 제거\n",
    "            self.underlyings.add(positions[pos].underlying)\n",
    "            \n",
    "        # 시간 그리드 생성\n",
    "        start = self.val_env.constants['starting_date']\n",
    "        end = self.val_env.constants['final_date']\n",
    "        time_grid = pd.date_range(start = start, end = end, freq = self.val_env.constants['frequency']).to_pydatetime()\n",
    "        time_grid = list(time_grid)\n",
    "        \n",
    "        for pos in self.positions:\n",
    "            maturity_date = positions[pos].mar_env.constants['maturity']\n",
    "            \n",
    "            if maturity_date not in time_grid:\n",
    "                time_grid.insert(0, maturity_date)\n",
    "                self.special_dates.append(maturity_date)\n",
    "        \n",
    "        if start not in time_grid:\n",
    "            time_grid.insert(0, start)\n",
    "        \n",
    "        if end not in time_grid:\n",
    "            time_grid.append(0, end)\n",
    "        \n",
    "        # 중복 요소 제거\n",
    "        time_grid = list(set(time_grid))\n",
    "        \n",
    "        # time_grid 안의 날짜 정렬\n",
    "        time_grid.sort()\n",
    "        self.time_grid = np.array(time_grid)\n",
    "        self.val_env.add_list('time_grid', self.time_grid)\n",
    "        if correlations is not None:\n",
    "            # 상관관계 계산\n",
    "            ul_list = sorted(self.underlyings)\n",
    "            correlation_matrix = np.zeros((len(ul_list), len(ul_list)))\n",
    "            np.fill_diagonal(correlation_matrix, 1.0)\n",
    "            correlation_matrix = pd.DataFrame(correlation_matrix, index = ul_list, columns = ul_list)\n",
    "            \n",
    "            for i, j, corr in correlations:\n",
    "                corr = min(corr, 0.999999999999)\n",
    "                correlation_matrix.loc[i, j] = corr\n",
    "                correlation_matrix.loc[j, i] = corr\n",
    "                \n",
    "            # 숄레스키 행렬 계산\n",
    "            cholesky_matrix = np.linalg.cholesky(np.array(correlation_matrix))\n",
    "            \n",
    "            # 각각의 기초자산과 랜덤 넘버 슬라이스에 대한 인덱스 위치 저장\n",
    "            rn_set = {asset : ul_list.index(asset) for asset in self.underlyings}\n",
    "            \n",
    "            # (상관관계가 있는 경우) 모든 기초자산이 사용하는 랜덤 넘버 배열\n",
    "            random_numbers = sn_random_numbers((len(rn_set), len(self.time_grid), self.val_env.constants['paths']), fixed_seed = self.fixed_seed)\n",
    "            \n",
    "            # 모든 기초자산이 공유하는 가치 계산용 환경 정보 추가\n",
    "            self.val_env.add_list('cholesky_matrix', cholesky_matrix)\n",
    "            self.val_env.add_list('random_numbers', random_numbers)\n",
    "            self.val_env.add_list('rn_set', rn_set)\n",
    "        \n",
    "        for asset in self.underlyings:\n",
    "            # 각 자산에 대한 시장 환경 선택\n",
    "            mar_env = self.assets[asset]\n",
    "            \n",
    "            # 시장환경에 가치 계산용 환경 정보 추가\n",
    "            mar_env.add_environment(val_env)\n",
    "            \n",
    "            # 시뮬레이션 클래스 선택\n",
    "            model = models[mar_env.constants['model']]\n",
    "            \n",
    "            # 시뮬레이션 객체 생성\n",
    "            if correlations is not None:\n",
    "                self.underlying_objects[asset] = model(asset, mar_env, corr = True)\n",
    "            \n",
    "            else:\n",
    "                self.underlying_objects[asset] = model(asset, mar_env, corr = False)\n",
    "                \n",
    "        for pos in positions:\n",
    "            # 가치평가 클래스 선택\n",
    "            val_class = otypes[positions[pos].otype]\n",
    "            \n",
    "            # 시장 환경 및 가치 계산용 환경 선택\n",
    "            mar_env = positions[pos].mar_env\n",
    "            mar_env.add_environment(self.val_env)\n",
    "            \n",
    "            # 가치 평가용 클래스 인스턴스 생성\n",
    "            self.valuation_objects[pos] = val_class(name = positions[pos].name,\n",
    "                                                    mar_env = mar_env, \n",
    "                                                    underlying = self.underlying_objects[positions[pos].underlying], \n",
    "                                                    payoff_func = positions[pos].payoff_func)\n",
    "    \n",
    "    def get_positions(self):\n",
    "        ''' 포트폴리오 내의 모든 파생상품 포지션에 대한 정보를 얻기 위한 Method\n",
    "        '''\n",
    "        for pos in self.positions:\n",
    "            bar = '\\n' + 50 * '-'\n",
    "            print(bar)\n",
    "            \n",
    "            self.positions[pos].get_info()\n",
    "            print(bar)\n",
    "            \n",
    "    def get_statistics(self, fixed_seed = False):\n",
    "        ''' 포트폴리오 통계 제공 '''\n",
    "        res_list = []\n",
    "        \n",
    "        # 포트폴리오 내의 모든 포지션에 대해 반복\n",
    "        for pos, value in self.valuation_objects.items():\n",
    "            p = self.positions[pos]\n",
    "            pv = value.present_value(fixed_seed = fixed_seed)\n",
    "            res_list.append([p.name,\n",
    "                             p.quantity,\n",
    "                             pv,\n",
    "                             value.currency,\n",
    "                             pv * p.quantity,\n",
    "                             value.delta() * p.quantity,\n",
    "                             value.vega() * p.quantity])\n",
    "        res_df = pd.DataFrame(res_list, columns = ['name', 'quant', 'value', 'curr.',\n",
    "                                                       'pos_value', 'pos_delta', 'pos_vega'])\n",
    "        return res_df\n",
    "            "
   ]
  },
  {
   "cell_type": "markdown",
   "id": "e0c68161",
   "metadata": {},
   "source": [
    "# 18.2.2 사용법"
   ]
  },
  {
   "cell_type": "code",
   "execution_count": 3,
   "id": "49fe6bda",
   "metadata": {},
   "outputs": [],
   "source": [
    "me_gbm = market_environment('me_gbm', dt.datetime(2015, 1, 1))"
   ]
  },
  {
   "cell_type": "code",
   "execution_count": 4,
   "id": "b262a3f8",
   "metadata": {},
   "outputs": [],
   "source": [
    "me_gbm.add_constant('initial_value', 36.)\n",
    "me_gbm.add_constant('volatility', 0.2)\n",
    "me_gbm.add_constant('currency', 'EUR')"
   ]
  },
  {
   "cell_type": "code",
   "execution_count": 5,
   "id": "aa9e66e6",
   "metadata": {},
   "outputs": [],
   "source": [
    "me_gbm.add_constant('model', 'gbm')"
   ]
  },
  {
   "cell_type": "code",
   "execution_count": 6,
   "id": "a9ecf587",
   "metadata": {},
   "outputs": [],
   "source": [
    "me_am_put = market_environment('me_am_put', dt.datetime(2015, 1, 1))"
   ]
  },
  {
   "cell_type": "code",
   "execution_count": 7,
   "id": "69460b41",
   "metadata": {},
   "outputs": [],
   "source": [
    "me_am_put.add_constant('maturity', dt.datetime(2015, 12, 31))\n",
    "me_am_put.add_constant('strike', 40.)\n",
    "me_am_put.add_constant('currency', 'EUR')"
   ]
  },
  {
   "cell_type": "code",
   "execution_count": 8,
   "id": "9387a4a7",
   "metadata": {},
   "outputs": [],
   "source": [
    "payoff_func = 'np.maximum(strike - instrument_values, 0)'"
   ]
  },
  {
   "cell_type": "code",
   "execution_count": 9,
   "id": "01bf21b4",
   "metadata": {},
   "outputs": [],
   "source": [
    "am_put_pos = derivatives_position(name = 'am_put_pos',\n",
    "                                 quantity = 3,\n",
    "                                 underlying = 'gbm',\n",
    "                                 mar_env = me_am_put,\n",
    "                                 otype = 'American',\n",
    "                                 payoff_func = payoff_func)"
   ]
  },
  {
   "cell_type": "code",
   "execution_count": 10,
   "id": "0b3374be",
   "metadata": {},
   "outputs": [
    {
     "name": "stdout",
     "output_type": "stream",
     "text": [
      "NAME\n",
      "am_put_pos \n",
      "\n",
      "QUANTITY\n",
      "3 \n",
      "\n",
      "UNDERLYING\n",
      "gbm \n",
      "\n",
      "MARKET ENVIRONMENT\n",
      "\n",
      "**Lists**\n",
      "maturity 2015-12-31 00:00:00\n",
      "strike 40.0\n",
      "currency EUR\n",
      "\n",
      "**Curves**\n",
      "\n",
      "OPTION TYPE\n",
      "American \n",
      "\n",
      "PAYOFF FUNCTION\n",
      "np.maximum(strike - instrument_values, 0)\n"
     ]
    }
   ],
   "source": [
    "am_put_pos.get_info()"
   ]
  },
  {
   "cell_type": "code",
   "execution_count": 11,
   "id": "f1494c38",
   "metadata": {},
   "outputs": [],
   "source": [
    "me_jd = market_environment('me_jd', me_gbm.pricing_date)"
   ]
  },
  {
   "cell_type": "code",
   "execution_count": 12,
   "id": "b902c0e9",
   "metadata": {},
   "outputs": [],
   "source": [
    "me_jd.add_constant('lambda', 0.3)\n",
    "me_jd.add_constant('mu', -0.75)\n",
    "me_jd.add_constant('delta', 0.1)\n",
    "me_jd.add_environment(me_gbm)"
   ]
  },
  {
   "cell_type": "code",
   "execution_count": 13,
   "id": "1c83a836",
   "metadata": {},
   "outputs": [],
   "source": [
    "me_jd.add_constant('model', 'jd')"
   ]
  },
  {
   "cell_type": "code",
   "execution_count": 14,
   "id": "52afa5f3",
   "metadata": {},
   "outputs": [],
   "source": [
    "me_eur_call = market_environment('me_eur_call', me_jd.pricing_date)"
   ]
  },
  {
   "cell_type": "code",
   "execution_count": 15,
   "id": "305ab452",
   "metadata": {},
   "outputs": [],
   "source": [
    "me_eur_call.add_constant('maturity', dt.datetime(2015, 6, 30))\n",
    "me_eur_call.add_constant('strike', 38.)\n",
    "me_eur_call.add_constant('currency', 'EUR')"
   ]
  },
  {
   "cell_type": "code",
   "execution_count": 16,
   "id": "a9e53c9b",
   "metadata": {},
   "outputs": [],
   "source": [
    "payoff_func = 'np.maximum(maturity_value - strike, 0)'"
   ]
  },
  {
   "cell_type": "code",
   "execution_count": 17,
   "id": "206ddfe6",
   "metadata": {},
   "outputs": [],
   "source": [
    "eur_call_pos = derivatives_position(name = 'eur_call_pos',\n",
    "                                   quantity = 5,\n",
    "                                   underlying = 'jd',\n",
    "                                   mar_env = me_eur_call,\n",
    "                                   otype = 'European',\n",
    "                                   payoff_func = payoff_func)"
   ]
  },
  {
   "cell_type": "code",
   "execution_count": 18,
   "id": "4200a7c8",
   "metadata": {},
   "outputs": [],
   "source": [
    "# 포트폴리오 관점에서 필요한 시장 정보\n",
    "underlyings = {'gbm' : me_gbm, 'jd' : me_jd}\n",
    "positions = {'am_put_pos' : am_put_pos, 'eur_call_pos' : eur_call_pos}"
   ]
  },
  {
   "cell_type": "code",
   "execution_count": 19,
   "id": "f878d035",
   "metadata": {},
   "outputs": [],
   "source": [
    "# 기초자산 간의 상관관계 모형화\n",
    "# derivatives_portfolio 클래스 인트턴스를 만들기 위한 포트폴리오에 필요한 market_environment 생성\n",
    "# 가치평가를 위한 할인 객체\n",
    "csr = constant_short_rate('csr', 0.06)"
   ]
  },
  {
   "cell_type": "code",
   "execution_count": 20,
   "id": "7a06d130",
   "metadata": {},
   "outputs": [],
   "source": [
    "val_env = market_environment('general', me_gbm.pricing_date)"
   ]
  },
  {
   "cell_type": "code",
   "execution_count": 21,
   "id": "41031d39",
   "metadata": {},
   "outputs": [],
   "source": [
    "val_env.add_constant('frequency', 'W')\n",
    "# 주간 단위\n",
    "val_env.add_constant('paths', 25000)\n",
    "val_env.add_constant('starting_date', val_env.pricing_date)\n",
    "val_env.add_constant('final_date', val_env.pricing_date)\n",
    "# 임시로 pricing_date 사용\n",
    "val_env.add_curve('discount_curve', csr)"
   ]
  },
  {
   "cell_type": "code",
   "execution_count": 22,
   "id": "04948eda",
   "metadata": {},
   "outputs": [],
   "source": [
    "# form derivatives_portfolio import derivatives_portfolio\n",
    "portfolio = derivatives_portfolio(name = 'portfolio',\n",
    "                                  positions = positions,\n",
    "                                  val_env = val_env,\n",
    "                                  assets = underlyings,\n",
    "                                  fixed_seed = True)"
   ]
  },
  {
   "cell_type": "code",
   "execution_count": 23,
   "id": "349c5ff2",
   "metadata": {},
   "outputs": [
    {
     "data": {
      "text/html": [
       "<div>\n",
       "<style scoped>\n",
       "    .dataframe tbody tr th:only-of-type {\n",
       "        vertical-align: middle;\n",
       "    }\n",
       "\n",
       "    .dataframe tbody tr th {\n",
       "        vertical-align: top;\n",
       "    }\n",
       "\n",
       "    .dataframe thead th {\n",
       "        text-align: right;\n",
       "    }\n",
       "</style>\n",
       "<table border=\"1\" class=\"dataframe\">\n",
       "  <thead>\n",
       "    <tr style=\"text-align: right;\">\n",
       "      <th></th>\n",
       "      <th>name</th>\n",
       "      <th>quant</th>\n",
       "      <th>value</th>\n",
       "      <th>curr.</th>\n",
       "      <th>pos_value</th>\n",
       "      <th>pos_delta</th>\n",
       "      <th>pos_vega</th>\n",
       "    </tr>\n",
       "  </thead>\n",
       "  <tbody>\n",
       "    <tr>\n",
       "      <th>0</th>\n",
       "      <td>am_put_pos</td>\n",
       "      <td>3</td>\n",
       "      <td>4.623340</td>\n",
       "      <td>EUR</td>\n",
       "      <td>13.87002</td>\n",
       "      <td>-1.9590</td>\n",
       "      <td>39.7911</td>\n",
       "    </tr>\n",
       "    <tr>\n",
       "      <th>1</th>\n",
       "      <td>eur_call_pos</td>\n",
       "      <td>5</td>\n",
       "      <td>2.899164</td>\n",
       "      <td>EUR</td>\n",
       "      <td>14.49582</td>\n",
       "      <td>3.4615</td>\n",
       "      <td>44.0750</td>\n",
       "    </tr>\n",
       "  </tbody>\n",
       "</table>\n",
       "</div>"
      ],
      "text/plain": [
       "           name  quant     value curr.  pos_value  pos_delta  pos_vega\n",
       "0    am_put_pos      3  4.623340   EUR   13.87002    -1.9590   39.7911\n",
       "1  eur_call_pos      5  2.899164   EUR   14.49582     3.4615   44.0750"
      ]
     },
     "execution_count": 23,
     "metadata": {},
     "output_type": "execute_result"
    }
   ],
   "source": [
    "portfolio.get_statistics()"
   ]
  },
  {
   "cell_type": "code",
   "execution_count": 24,
   "id": "980b1adc",
   "metadata": {},
   "outputs": [
    {
     "data": {
      "text/plain": [
       "pos_value    28.463127\n",
       "pos_delta     1.367500\n",
       "pos_vega     83.866100\n",
       "dtype: float64"
      ]
     },
     "execution_count": 24,
     "metadata": {},
     "output_type": "execute_result"
    }
   ],
   "source": [
    "portfolio.get_statistics()[['pos_value', 'pos_delta', 'pos_vega']].sum()"
   ]
  },
  {
   "cell_type": "code",
   "execution_count": 25,
   "id": "2de22b66",
   "metadata": {},
   "outputs": [
    {
     "name": "stdout",
     "output_type": "stream",
     "text": [
      "\n",
      "--------------------------------------------------\n",
      "NAME\n",
      "am_put_pos \n",
      "\n",
      "QUANTITY\n",
      "3 \n",
      "\n",
      "UNDERLYING\n",
      "gbm \n",
      "\n",
      "MARKET ENVIRONMENT\n",
      "\n",
      "**Lists**\n",
      "maturity 2015-12-31 00:00:00\n",
      "strike 40.0\n",
      "currency EUR\n",
      "frequency W\n",
      "paths 25000\n",
      "starting_date 2015-01-01 00:00:00\n",
      "final_date 2015-12-31 00:00:00\n",
      "\n",
      "**Curves**\n",
      "final_date 2015-12-31 00:00:00\n",
      "\n",
      "OPTION TYPE\n",
      "American \n",
      "\n",
      "PAYOFF FUNCTION\n",
      "np.maximum(strike - instrument_values, 0)\n",
      "\n",
      "--------------------------------------------------\n",
      "\n",
      "--------------------------------------------------\n",
      "NAME\n",
      "eur_call_pos \n",
      "\n",
      "QUANTITY\n",
      "5 \n",
      "\n",
      "UNDERLYING\n",
      "jd \n",
      "\n",
      "MARKET ENVIRONMENT\n",
      "\n",
      "**Lists**\n",
      "maturity 2015-06-30 00:00:00\n",
      "strike 38.0\n",
      "currency EUR\n",
      "frequency W\n",
      "paths 25000\n",
      "starting_date 2015-01-01 00:00:00\n",
      "final_date 2015-12-31 00:00:00\n",
      "\n",
      "**Curves**\n",
      "final_date 2015-12-31 00:00:00\n",
      "\n",
      "OPTION TYPE\n",
      "European \n",
      "\n",
      "PAYOFF FUNCTION\n",
      "np.maximum(maturity_value - strike, 0)\n",
      "\n",
      "--------------------------------------------------\n"
     ]
    }
   ],
   "source": [
    "portfolio.get_positions()"
   ]
  },
  {
   "cell_type": "code",
   "execution_count": 26,
   "id": "f5e39059",
   "metadata": {},
   "outputs": [
    {
     "data": {
      "text/plain": [
       "4.655769"
      ]
     },
     "execution_count": 26,
     "metadata": {},
     "output_type": "execute_result"
    }
   ],
   "source": [
    "portfolio.valuation_objects['am_put_pos'].present_value()"
   ]
  },
  {
   "cell_type": "code",
   "execution_count": 27,
   "id": "0b218b58",
   "metadata": {},
   "outputs": [
    {
     "data": {
      "text/plain": [
       "0.6693"
      ]
     },
     "execution_count": 27,
     "metadata": {},
     "output_type": "execute_result"
    }
   ],
   "source": [
    "portfolio.valuation_objects['eur_call_pos'].delta()"
   ]
  },
  {
   "cell_type": "code",
   "execution_count": 28,
   "id": "7495c655",
   "metadata": {},
   "outputs": [],
   "source": [
    "path_no = 777\n",
    "path_gbm = portfolio.underlying_objects['gbm'].get_instrument_values()[:, path_no]\n",
    "path_jd = portfolio.underlying_objects['jd'].get_instrument_values()[:, path_no]"
   ]
  },
  {
   "cell_type": "code",
   "execution_count": 29,
   "id": "a4cb0c54",
   "metadata": {},
   "outputs": [],
   "source": [
    "import matplotlib.pyplot as plt\n",
    "%matplotlib inline"
   ]
  },
  {
   "cell_type": "code",
   "execution_count": 45,
   "id": "e5e5949b",
   "metadata": {},
   "outputs": [
    {
     "data": {
      "image/png": "[encoded data removed]",
      "text/plain": [
       "<Figure size 504x288 with 1 Axes>"
      ]
     },
     "metadata": {
      "needs_background": "light"
     },
     "output_type": "display_data"
    }
   ],
   "source": [
    "plt.figure(figsize = (7, 4))\n",
    "plt.plot(portfolio.time_grid, path_gbm, 'r', label = 'gbm')\n",
    "plt.plot(portfolio.time_grid, path_jd, 'b', label = 'jd')\n",
    "plt.xticks(rotation = 30)\n",
    "plt.legend(loc = 0)\n",
    "plt.grid(True)"
   ]
  },
  {
   "cell_type": "code",
   "execution_count": 31,
   "id": "5317b61a",
   "metadata": {},
   "outputs": [],
   "source": [
    "# 상관관계가 있을경우\n",
    "correlations = [['gbm', 'jd', 0.9]]"
   ]
  },
  {
   "cell_type": "code",
   "execution_count": 32,
   "id": "3bc420b6",
   "metadata": {},
   "outputs": [],
   "source": [
    "# 상관관계를 추가하여 새로운 derivatives_portfolio 객체 생성\n",
    "port_corr = derivatives_portfolio(name = 'portfolio',\n",
    "                                  positions = positions,\n",
    "                                  val_env = val_env,\n",
    "                                  assets = underlyings,\n",
    "                                  correlations = correlations,\n",
    "                                  fixed_seed = True)"
   ]
  },
  {
   "cell_type": "code",
   "execution_count": 33,
   "id": "a4400acd",
   "metadata": {},
   "outputs": [
    {
     "data": {
      "text/html": [
       "<div>\n",
       "<style scoped>\n",
       "    .dataframe tbody tr th:only-of-type {\n",
       "        vertical-align: middle;\n",
       "    }\n",
       "\n",
       "    .dataframe tbody tr th {\n",
       "        vertical-align: top;\n",
       "    }\n",
       "\n",
       "    .dataframe thead th {\n",
       "        text-align: right;\n",
       "    }\n",
       "</style>\n",
       "<table border=\"1\" class=\"dataframe\">\n",
       "  <thead>\n",
       "    <tr style=\"text-align: right;\">\n",
       "      <th></th>\n",
       "      <th>name</th>\n",
       "      <th>quant</th>\n",
       "      <th>value</th>\n",
       "      <th>curr.</th>\n",
       "      <th>pos_value</th>\n",
       "      <th>pos_delta</th>\n",
       "      <th>pos_vega</th>\n",
       "    </tr>\n",
       "  </thead>\n",
       "  <tbody>\n",
       "    <tr>\n",
       "      <th>0</th>\n",
       "      <td>am_put_pos</td>\n",
       "      <td>3</td>\n",
       "      <td>4.619792</td>\n",
       "      <td>EUR</td>\n",
       "      <td>13.859376</td>\n",
       "      <td>-1.9284</td>\n",
       "      <td>40.7187</td>\n",
       "    </tr>\n",
       "    <tr>\n",
       "      <th>1</th>\n",
       "      <td>eur_call_pos</td>\n",
       "      <td>5</td>\n",
       "      <td>2.888685</td>\n",
       "      <td>EUR</td>\n",
       "      <td>14.443425</td>\n",
       "      <td>3.4775</td>\n",
       "      <td>43.6220</td>\n",
       "    </tr>\n",
       "  </tbody>\n",
       "</table>\n",
       "</div>"
      ],
      "text/plain": [
       "           name  quant     value curr.  pos_value  pos_delta  pos_vega\n",
       "0    am_put_pos      3  4.619792   EUR  13.859376    -1.9284   40.7187\n",
       "1  eur_call_pos      5  2.888685   EUR  14.443425     3.4775   43.6220"
      ]
     },
     "execution_count": 33,
     "metadata": {},
     "output_type": "execute_result"
    }
   ],
   "source": [
    "port_corr.get_statistics()\n",
    "# 각 포지션의 가치에는 영향 없음"
   ]
  },
  {
   "cell_type": "code",
   "execution_count": 34,
   "id": "074ee5c7",
   "metadata": {},
   "outputs": [],
   "source": [
    "path_gbm = port_corr.underlying_objects['gbm'].get_instrument_values()[:, path_no]\n",
    "path_jd = port_corr.underlying_objects['jd'].get_instrument_values()[:, path_no]"
   ]
  },
  {
   "cell_type": "code",
   "execution_count": 35,
   "id": "0efddc40",
   "metadata": {},
   "outputs": [
    {
     "data": {
      "image/png": "[encoded data removed]",
      "text/plain": [
       "<Figure size 504x288 with 1 Axes>"
      ]
     },
     "metadata": {
      "needs_background": "light"
     },
     "output_type": "display_data"
    }
   ],
   "source": [
    "plt.figure(figsize = (7, 4))\n",
    "plt.plot(portfolio.time_grid, path_gbm, 'r', label = 'gbm')\n",
    "plt.plot(portfolio.time_grid, path_jd, 'b', label = 'jd')\n",
    "plt.xticks(rotation = 30)\n",
    "plt.legend(loc = 0)\n",
    "plt.grid(True)"
   ]
  },
  {
   "cell_type": "code",
   "execution_count": 36,
   "id": "eb31766d",
   "metadata": {},
   "outputs": [],
   "source": [
    "# 포트폴리오의 현재가치에 대한 분포\n",
    "pv1 = 5 * port_corr.valuation_objects['eur_call_pos'].present_value(full = True)[1]"
   ]
  },
  {
   "cell_type": "code",
   "execution_count": 37,
   "id": "29001307",
   "metadata": {},
   "outputs": [
    {
     "data": {
      "text/plain": [
       "array([ 0.        , 40.46758828, 24.54420555, ...,  0.        ,\n",
       "        6.5125118 ,  8.18851653])"
      ]
     },
     "execution_count": 37,
     "metadata": {},
     "output_type": "execute_result"
    }
   ],
   "source": [
    "pv1"
   ]
  },
  {
   "cell_type": "code",
   "execution_count": 38,
   "id": "ef24658a",
   "metadata": {},
   "outputs": [],
   "source": [
    "pv2 = 3 * port_corr.valuation_objects['am_put_pos'].present_value(full = True)[1]"
   ]
  },
  {
   "cell_type": "code",
   "execution_count": 39,
   "id": "213eb73e",
   "metadata": {},
   "outputs": [
    {
     "data": {
      "text/plain": [
       "array([22.33631582, 12.1476107 , 20.33098087, ..., 22.01996731,\n",
       "       12.9969704 ,  0.        ])"
      ]
     },
     "execution_count": 39,
     "metadata": {},
     "output_type": "execute_result"
    }
   ],
   "source": [
    "pv2"
   ]
  },
  {
   "cell_type": "code",
   "execution_count": 40,
   "id": "dd09413c",
   "metadata": {},
   "outputs": [
    {
     "data": {
      "text/plain": [
       "<matplotlib.legend.Legend at 0x1abc6a72c48>"
      ]
     },
     "execution_count": 40,
     "metadata": {},
     "output_type": "execute_result"
    },
    {
     "data": {
      "image/png": "[encoded data removed]",
      "text/plain": [
       "<Figure size 432x288 with 1 Axes>"
      ]
     },
     "metadata": {
      "needs_background": "light"
     },
     "output_type": "display_data"
    }
   ],
   "source": [
    "plt.hist([pv1, pv2], bins = 25, label = ['European call', 'American put'])\n",
    "plt.axvline(pv1.mean(), color = 'r', ls = 'dashed', lw = 1.5, label = 'call mean = %4.2f' % pv1.mean())\n",
    "plt.axvline(pv2.mean(), color = 'r', ls = 'dotted', lw = 1.5, label = 'put mean = %4.2f' % pv2.mean())\n",
    "plt.xlim(0, 80)\n",
    "plt.ylim(0, 10000)\n",
    "plt.grid()\n",
    "plt.legend()"
   ]
  },
  {
   "cell_type": "code",
   "execution_count": 41,
   "id": "f8bbae0a",
   "metadata": {},
   "outputs": [
    {
     "data": {
      "text/plain": [
       "<matplotlib.legend.Legend at 0x1abc5ef1dc8>"
      ]
     },
     "execution_count": 41,
     "metadata": {},
     "output_type": "execute_result"
    },
    {
     "data": {
      "image/png": "[encoded data removed]",
      "text/plain": [
       "<Figure size 432x288 with 1 Axes>"
      ]
     },
     "metadata": {
      "needs_background": "light"
     },
     "output_type": "display_data"
    }
   ],
   "source": [
    "pvs = pv1 + pv2\n",
    "plt.hist(pvs, bins = 50, label = 'portfolio')\n",
    "plt.axvline(pvs.mean(), color = 'r', ls = 'dashed', lw = 1.5, label = 'mean = %4.2f' % pvs.mean())\n",
    "plt.xlim(0, 80)\n",
    "plt.ylim(0, 7000)\n",
    "plt.grid()\n",
    "plt.legend()"
   ]
  },
  {
   "cell_type": "code",
   "execution_count": 42,
   "id": "0b34a947",
   "metadata": {},
   "outputs": [
    {
     "data": {
      "text/plain": [
       "16.958325400506318"
      ]
     },
     "execution_count": 42,
     "metadata": {},
     "output_type": "execute_result"
    }
   ],
   "source": [
    "# 상관관계가 있는 포트폴리오의 변동성 \n",
    "pvs.std()"
   ]
  },
  {
   "cell_type": "code",
   "execution_count": 43,
   "id": "7bc23598",
   "metadata": {},
   "outputs": [],
   "source": [
    "# 상관관계가 없는 포트폴리오의 변동성\n",
    "pv1 = 5 * portfolio.valuation_objects['eur_call_pos'].present_value(full = True)[1]\n",
    "pv2 = 3 * portfolio.valuation_objects['am_put_pos'].present_value(full = True)[1]"
   ]
  },
  {
   "cell_type": "code",
   "execution_count": 44,
   "id": "14068c7c",
   "metadata": {},
   "outputs": [
    {
     "data": {
      "text/plain": [
       "22.862366370089898"
      ]
     },
     "execution_count": 44,
     "metadata": {},
     "output_type": "execute_result"
    }
   ],
   "source": [
    "(pv1 + pv2).std()"
   ]
  },
  {
   "cell_type": "markdown",
   "id": "385d2c4a",
   "metadata": {},
   "source": [
    "상관관계가 증가하면 평균값은 거의 그대로지만 전체 변동성은 크게 감소함!"
   ]
  },
  {
   "cell_type": "code",
   "execution_count": null,
   "id": "1f60c259",
   "metadata": {},
   "outputs": [],
   "source": []
  }
 ],
 "metadata": {
  "kernelspec": {
   "display_name": "Python 3",
   "language": "python",
   "name": "python3"
  },
  "language_info": {
   "codemirror_mode": {
    "name": "ipython",
    "version": 3
   },
   "file_extension": ".py",
   "mimetype": "text/x-python",
   "name": "python",
   "nbconvert_exporter": "python",
   "pygments_lexer": "ipython3",
   "version": "3.7.6"
  }
 },
 "nbformat": 4,
 "nbformat_minor": 5
}
