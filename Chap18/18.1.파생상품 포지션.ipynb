{
 "cells": [
  {
   "cell_type": "markdown",
   "id": "ccbc6ca2",
   "metadata": {},
   "source": [
    "전체 분석 \n",
    " - 할인 : constant_short_rate 클래스 인스턴스가 수행\n",
    " - 관련 데이터 : 관련 데이터, 파라미터, 다른 입력값들은 복수의 market_environment 클래스 인스턴스에 저장\n",
    " - 시뮬레이션 객체 : 기초자산 등의 위험요인은 다음의 세가지 시뮬레이션 클래스 중 하나의 인스턴스로 모형화\n",
    "   - geometric_brownian_motion\n",
    "   - jump_diffusion\n",
    "   - square_root_diffusion\n",
    " - 가치 평가 객체 : 옵션과 파생상품은 다음 두가지 가치 평가 클래스 중 하나의 인스턴스로 평가\n",
    "   - valuation_mcs_european\n",
    "   - valuation_mcs_american"
   ]
  },
  {
   "cell_type": "markdown",
   "id": "38736f32",
   "metadata": {},
   "source": [
    "옵션과 파생상품으로 구성된 포트폴리오에 대한 가치평가를 위해 필요한 추가적인 고려요소\n",
    " - 중복 금지 : 기초자산 등의 위험 요인은 복수의 가치 평가 객체가 사용되더라도 단 한번만 모형화 되어야함\n",
    " - 상관관계 : 위험 요인간 상관관계\n",
    " - 포지션 : ex) 옵션 포지션은 복수개의 같은 옵션을 가질 수도 있다"
   ]
  },
  {
   "cell_type": "markdown",
   "id": "65429f70",
   "metadata": {},
   "source": [
    "# 18.1.1 클래스"
   ]
  },
  {
   "cell_type": "code",
   "execution_count": 3,
   "id": "e240b857",
   "metadata": {},
   "outputs": [],
   "source": [
    "class derivatives_position(object):\n",
    "    ''' 파생상품 포지션 모형 클래스\n",
    "    \n",
    "    속성\n",
    "    ====\n",
    "    name : string\n",
    "        객체의 이름\n",
    "    quantity : float\n",
    "        포지션을 이루는 자산이나 파생상품의 숫자\n",
    "    underlying : string\n",
    "        파생상품 자산/리스트 요인의 이름\n",
    "    mar_env : instance of market_environment\n",
    "        가치 평가 클래스와 관련된 상수, 리스트, 커브\n",
    "    otype : string\n",
    "        사용할 가치 평가 클래스('European' or 'American')\n",
    "    payoff_func : string\n",
    "        파생상품의 페이오프를 나타내는 문자열\n",
    "    \n",
    "    Method\n",
    "    =======\n",
    "    \n",
    "    get_info : \n",
    "        파생상품 포지션과 관련된 정보 인쇄\n",
    "    \n",
    "    '''\n",
    "    \n",
    "    def __init__(self, name, quantity, underlying, mar_env, otype, payoff_func):\n",
    "        self.name = name\n",
    "        self.quantity = quantity\n",
    "        self.underlying = underlying\n",
    "        self.mar_env = mar_env\n",
    "        self.otype = otype\n",
    "        self.payoff_func = payoff_func\n",
    "        \n",
    "    def get_info(self):\n",
    "        print('NAME')\n",
    "        print(self.name, '\\n')\n",
    "        print('QUANTITY')\n",
    "        print(self.quantity, '\\n')\n",
    "        print('UNDERLYING')\n",
    "        print(self.underlying, '\\n')\n",
    "        print('MARKET ENVIRONMENT')\n",
    "        \n",
    "        print('\\n**Lists**')\n",
    "        for key, value in self.mar_env.constants.items():\n",
    "            print(key, value)\n",
    "        \n",
    "        print('\\n**Curves**')\n",
    "        for kdy in self.mar_env.curves.items():\n",
    "            print(key, value)\n",
    "        \n",
    "        print('\\nOPTION TYPE')\n",
    "        print(self.otype, '\\n')\n",
    "        print('PAYOFF FUNCTION')\n",
    "        print(self.payoff_func)\n",
    "        "
   ]
  },
  {
   "cell_type": "markdown",
   "id": "dd0c3afd",
   "metadata": {},
   "source": [
    "# 18.1.2 사용법"
   ]
  },
  {
   "cell_type": "code",
   "execution_count": 4,
   "id": "eae4a614",
   "metadata": {},
   "outputs": [],
   "source": [
    "from dx_frame import *"
   ]
  },
  {
   "cell_type": "code",
   "execution_count": 5,
   "id": "dbe113ab",
   "metadata": {},
   "outputs": [],
   "source": [
    "me_gbm = market_environment('me_gbm', dt.datetime(2015, 1, 1))"
   ]
  },
  {
   "cell_type": "code",
   "execution_count": 6,
   "id": "6e1509fd",
   "metadata": {},
   "outputs": [],
   "source": [
    "me_gbm.add_constant('initial_value', 36.)\n",
    "me_gbm.add_constant('volatility', 0.2)\n",
    "me_gbm.add_constant('currency', 'EUR')"
   ]
  },
  {
   "cell_type": "code",
   "execution_count": 7,
   "id": "b62fb82c",
   "metadata": {},
   "outputs": [],
   "source": [
    "# 포트폴리오 가치 평가를 위해 어떤 모형을 사용할지 나타내는 추가 상수 필요\n",
    "me_gbm.add_constant('model', 'gbm')"
   ]
  },
  {
   "cell_type": "code",
   "execution_count": 8,
   "id": "f15925df",
   "metadata": {},
   "outputs": [],
   "source": [
    "# from derivatives_position import derivatives_position\n",
    "me_am_put = market_environment('me_am_put', dt.datetime(2015, 1, 1))"
   ]
  },
  {
   "cell_type": "code",
   "execution_count": 10,
   "id": "f295964d",
   "metadata": {},
   "outputs": [],
   "source": [
    "me_am_put.add_constant('maturity', dt.datetime(2015, 12, 31))\n",
    "me_am_put.add_constant('strike', 40.)\n",
    "me_am_put.add_constant('currency', 'EUR')"
   ]
  },
  {
   "cell_type": "code",
   "execution_count": 11,
   "id": "f439a7f3",
   "metadata": {},
   "outputs": [],
   "source": [
    "payoff_func = 'np.maximum(strike - instrument_values, 0)'"
   ]
  },
  {
   "cell_type": "code",
   "execution_count": 12,
   "id": "0f43e5b0",
   "metadata": {},
   "outputs": [],
   "source": [
    "am_put_pos = derivatives_position(name = 'am_put_pos',\n",
    "                                 quantity = 3,\n",
    "                                 underlying = 'gbm',\n",
    "                                 mar_env = me_am_put,\n",
    "                                 otype = 'American',\n",
    "                                 payoff_func = payoff_func)"
   ]
  },
  {
   "cell_type": "code",
   "execution_count": 13,
   "id": "75538e3e",
   "metadata": {},
   "outputs": [
    {
     "name": "stdout",
     "output_type": "stream",
     "text": [
      "NAME\n",
      "am_put_pos \n",
      "\n",
      "QUANTITY\n",
      "3 \n",
      "\n",
      "UNDERLYING\n",
      "gbm \n",
      "\n",
      "MARKET ENVIRONMENT\n",
      "\n",
      "**Lists**\n",
      "maturity 2015-12-31 00:00:00\n",
      "strike 40.0\n",
      "currency EUR\n",
      "\n",
      "**Curves**\n",
      "\n",
      "OPTION TYPE\n",
      "American \n",
      "\n",
      "PAYOFF FUNCTION\n",
      "np.maximum(strike - instrument_values, 0)\n"
     ]
    }
   ],
   "source": [
    "am_put_pos.get_info()"
   ]
  },
  {
   "cell_type": "code",
   "execution_count": null,
   "id": "08a84305",
   "metadata": {},
   "outputs": [],
   "source": []
  }
 ],
 "metadata": {
  "kernelspec": {
   "display_name": "Python 3",
   "language": "python",
   "name": "python3"
  },
  "language_info": {
   "codemirror_mode": {
    "name": "ipython",
    "version": 3
   },
   "file_extension": ".py",
   "mimetype": "text/x-python",
   "name": "python",
   "nbconvert_exporter": "python",
   "pygments_lexer": "ipython3",
   "version": "3.7.6"
  }
 },
 "nbformat": 4,
 "nbformat_minor": 5
}
