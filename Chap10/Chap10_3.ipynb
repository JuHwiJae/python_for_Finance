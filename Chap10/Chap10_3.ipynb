{
 "cells": [
  {
   "cell_type": "markdown",
   "metadata": {},
   "source": [
    "### 몬테카를로 시뮬레이션의 활용\n",
    " - 옵션, 파생상품 등의 조건부 청구권의 가치 평가\n",
    "   - 조건부 청구권의 가치 : 위험 중립 or 마틴게일 측도 하에서 기대 페이오프를 현재가치화 한것\n",
    "     - 위험 중립 측도 : 주식, 지수 등의 모든 위험 요인이 무위험 단기 이자율에 따라 증가하도록 하는 확률 측도"
   ]
  },
  {
   "cell_type": "markdown",
   "metadata": {},
   "source": [
    "# 10.3.1 European Option\n",
    " - 만기 Pay-Off : $h(S_T) ≡ max(S_T -K, 0)$"
   ]
  },
  {
   "cell_type": "markdown",
   "metadata": {},
   "source": [
    " - 위험 중립 기대값을 사용한 가격결정\n",
    " \n",
    "   - $C_0 = e^{-rT}E^Q_0(h(S_T)) = e^{-rT}∫^∞_0h(s)q(s)ds$\n",
    "  \n",
    "  \n",
    "  - -> 위험 중립 몬테카를로 추정법\n",
    "  \n",
    "    - $C_0 = e^{-rT}{1 \\over I}∑^I_{i = 1}h(S^i_T)$"
   ]
  },
  {
   "cell_type": "code",
   "execution_count": 1,
   "metadata": {},
   "outputs": [],
   "source": [
    "import numpy as np\n",
    "import numpy.random as npr\n",
    "import matplotlib.pyplot as plt\n",
    "%matplotlib inline"
   ]
  },
  {
   "cell_type": "code",
   "execution_count": 2,
   "metadata": {},
   "outputs": [],
   "source": [
    "# chap 10_2 표준정규분포 따르는 난수 생성함수\n",
    "def gen_sn(M, i, anti_paths = True, mo_match = True):\n",
    "    \n",
    "    if anti_paths == True:\n",
    "        sn = npr.standard_normal((M + 1, int(i/2)))\n",
    "        sn = np.concatenate((sn, -sn), axis = 1)\n",
    "    \n",
    "    else:\n",
    "        sn = npr.standard_normal((M + 1, i))\n",
    "    \n",
    "    if mo_match == True:\n",
    "        sn = (sn - sn.mean()) / sn.std()\n",
    "    \n",
    "    return sn"
   ]
  },
  {
   "cell_type": "code",
   "execution_count": 3,
   "metadata": {},
   "outputs": [],
   "source": [
    "S0 = 100.\n",
    "r = 0.05\n",
    "sig = 0.25\n",
    "T = 1.0\n",
    "i = 50000"
   ]
  },
  {
   "cell_type": "code",
   "execution_count": 4,
   "metadata": {},
   "outputs": [],
   "source": [
    "# 만기 주가만을 시뮬레이션\n",
    "def gbm_mcs_stat(K):\n",
    "    \n",
    "    sn = gen_sn(1,i)                              # 난수 생성\n",
    "    ST = S0 * np.exp((r - 0.5 * sig ** 2) * T     \n",
    "                    + sig * np.sqrt(T) * sn[1])   # 만기 주가 시뮬레이션\n",
    "    hT = np.maximum(ST - K, 0)                    # 만기 pay-off\n",
    "    C0 = np.exp(-r * T) * 1 / i * np.sum(hT)      # 몬테카를로 추정\n",
    "    \n",
    "    return C0"
   ]
  },
  {
   "cell_type": "code",
   "execution_count": 5,
   "metadata": {},
   "outputs": [
    {
     "data": {
      "text/plain": [
       "10.01781164790435"
      ]
     },
     "execution_count": 5,
     "metadata": {},
     "output_type": "execute_result"
    }
   ],
   "source": [
    "# 행사가 105인 Call Option\n",
    "\n",
    "gbm_mcs_stat(105.)"
   ]
  },
  {
   "cell_type": "code",
   "execution_count": 6,
   "metadata": {},
   "outputs": [],
   "source": [
    "# 동적 시뮬레이션 ( 주가 path 시뮬레이션 )\n",
    "\n",
    "M = 50\n",
    "\n",
    "def gbm_mcs_dyna(K, option = 'call'):\n",
    "    \n",
    "    dt = T / M\n",
    "    S = np.zeros((M + 1, i))\n",
    "    S[0] = S0\n",
    "    sn = gen_sn(M, i)\n",
    "    \n",
    "    for t in range(1, M + 1):\n",
    "        S[t] = S[t - 1] * np.exp((r - 0.5 * sig ** 2) * dt\n",
    "                                + sig * np.sqrt(dt) * sn[t])\n",
    "    \n",
    "    if option == 'call':\n",
    "        hT = np.maximum(S[-1] - K, 0)\n",
    "    \n",
    "    else:\n",
    "        hT = np.maximum(K - S[-1], 0)\n",
    "    \n",
    "    C0 = np.exp(-r * T) * 1 / i * np.sum(hT)\n",
    "    \n",
    "    return C0"
   ]
  },
  {
   "cell_type": "code",
   "execution_count": 7,
   "metadata": {},
   "outputs": [
    {
     "name": "stdout",
     "output_type": "stream",
     "text": [
      "8.043498669995227\n",
      "12.635046523368766\n"
     ]
    }
   ],
   "source": [
    "# 행사가 110인 Call Option\n",
    "print(gbm_mcs_dyna(K = 110., option = 'call'))\n",
    "\n",
    "# 행사가 110인 Put Option\n",
    "print(gbm_mcs_dyna(K = 110., option = 'put'))"
   ]
  },
  {
   "cell_type": "markdown",
   "metadata": {},
   "source": [
    "시뮬레이션을 통해 추정한 가격과 블랙-숄즈 가치 평가 공식으로 계산한 가격의 차이가 얼마나 나는지가 중요"
   ]
  },
  {
   "cell_type": "code",
   "execution_count": 8,
   "metadata": {},
   "outputs": [],
   "source": [
    "# 블랙-숄즈 공식\n",
    "\n",
    "from scipy import stats\n",
    "\n",
    "def bsm_call_value(S0, K, T, r, sig): # 블랙-숄즈 공식\n",
    "    \n",
    "    d1 = (np.log(S0/K)+(r + 0.5 * sig ** 2) * T)/(sig * np.sqrt(T))\n",
    "    d2 = (np.log(S0/K)+(r - 0.5 * sig ** 2) * T)/(sig * np.sqrt(T))\n",
    "    value = S0 * stats.norm.cdf(d1,0.0,1.0) - np.exp(-r*T)*K*stats.norm.cdf(d2,0.0,1.0)\n",
    "    \n",
    "    return value"
   ]
  },
  {
   "cell_type": "code",
   "execution_count": 9,
   "metadata": {},
   "outputs": [],
   "source": [
    "stat_res = []\n",
    "dyna_res = []\n",
    "anal_res = []\n",
    "k_list = np.arange(80., 120.1, 5.) # 행사가 list\n",
    "np.random.seed(200000)\n",
    "\n",
    "for K in k_list:\n",
    "    stat_res.append(gbm_mcs_stat(K))\n",
    "    dyna_res.append(gbm_mcs_dyna(K))\n",
    "    anal_res.append(bsm_call_value(S0, K, T, r, sig))\n",
    "\n",
    "stat_res = np.array(stat_res)\n",
    "dyna_res = np.array(dyna_res)\n",
    "anal_res = np.array(anal_res)"
   ]
  },
  {
   "cell_type": "markdown",
   "metadata": {},
   "source": [
    "#### 1. 정적 시뮬레이션 방식과 블랙-숄즈 공식 비교"
   ]
  },
  {
   "cell_type": "code",
   "execution_count": 10,
   "metadata": {},
   "outputs": [
    {
     "data": {
      "image/png": "[encoded data removed]",
      "text/plain": [
       "<Figure size 576x432 with 2 Axes>"
      ]
     },
     "metadata": {
      "needs_background": "light"
     },
     "output_type": "display_data"
    }
   ],
   "source": [
    "fig, (ax1, ax2) = plt.subplots(2, 1, sharex = True, figsize = (8, 6))\n",
    "ax1.plot(k_list, anal_res, 'b', label = 'analytical')\n",
    "ax1.plot(k_list, stat_res, 'ro', label = 'static')\n",
    "ax1.set_ylabel('European Call Option Value')\n",
    "ax1.grid(True)\n",
    "ax1.legend(loc = 0)\n",
    "ax1.set_ylim(ymin = 0)\n",
    "wi = 1.0\n",
    "ax2.bar(k_list - wi / 2, (anal_res - stat_res) / anal_res * 100, wi)\n",
    "ax2.set_xlabel('strike')\n",
    "ax2.set_ylabel('difference in %')\n",
    "ax2.set_xlim(left = 75, right = 125)\n",
    "ax2.grid(True)"
   ]
  },
  {
   "cell_type": "markdown",
   "metadata": {},
   "source": [
    "#### 2. 동적 시뮬레이션 방식과 블랙-숄즈 공식 비교"
   ]
  },
  {
   "cell_type": "code",
   "execution_count": 11,
   "metadata": {},
   "outputs": [
    {
     "data": {
      "image/png": "[encoded data removed]",
      "text/plain": [
       "<Figure size 576x432 with 2 Axes>"
      ]
     },
     "metadata": {
      "needs_background": "light"
     },
     "output_type": "display_data"
    }
   ],
   "source": [
    "fig, (ax1, ax2) = plt.subplots(2, 1, sharex = True, figsize = (8, 6))\n",
    "ax1.plot(k_list, anal_res, 'b', label = 'analytical')\n",
    "ax1.plot(k_list, dyna_res, 'ro', label = 'static')\n",
    "ax1.set_ylabel('European Call Option Value')\n",
    "ax1.grid(True)\n",
    "ax1.legend(loc = 0)\n",
    "ax1.set_ylim(ymin = 0)\n",
    "wi = 1.0\n",
    "ax2.bar(k_list - wi / 2, (anal_res - dyna_res) / anal_res * 100, wi)\n",
    "ax2.set_xlabel('strike')\n",
    "ax2.set_ylabel('difference in %')\n",
    "ax2.set_xlim(left = 75, right = 125)\n",
    "ax2.grid(True)"
   ]
  },
  {
   "cell_type": "markdown",
   "metadata": {},
   "source": [
    "#### 1,2번 방식 모두 오차가 절대값 1% 이하이며, 음의 오차와 양의 오차가 모두 존재한다.\n",
    "\n",
    "#### & 몬테카를로 추정치의 품질 : 시간 간격 수(M)와 시뮬레이션 수(i)를 바꾸어 조절 가능"
   ]
  },
  {
   "cell_type": "markdown",
   "metadata": {},
   "source": [
    "# 10.3.2 American Option\n",
    " - 최적 정지 문제 풀이 -> 시뮬레이션 상에서 이산 시간 그리드 사용\n",
    "   - -> 아메리칸 옵션 X, 버뮤다 옵션 풀이 But, 시간 그리드 간격을 줄이면 아메리칸 옵션으로 수렴"
   ]
  },
  {
   "cell_type": "markdown",
   "metadata": {},
   "source": [
    " - 아메리칸 옵션 가격 계산을 위한 최적 정지 문제\n",
    "   - $V_0 = sup_{\\tau∈｛0,Δt,Δ2t...,T｝} e^{-rT}E^Q_0(h_\\tau(S_\\tau))$"
   ]
  },
  {
   "cell_type": "markdown",
   "metadata": {},
   "source": [
    "####  최소 자승 몬테카를로 방법(LSM)\n",
    "\n",
    "- 특정 시간 t에서 아메리칸 옵션 가치 : $V_t(s) = max(h_t(s), C_t(s))$\n",
    "  - $C_t(s) = E^Q_t(e^{-rΔt}V_{t+Δt}(S_{t+Δt}) | S_t = s)$ : 주가 $S_t = s$에서 옵션 보유 가치\n",
    " \n",
    " \n",
    " - -> 주가를 M개의 동일한 시간 간격 $Δt$로 시뮬레이션한 경로가 있다고 가정 \n",
    "   - -> $Y_{t,i} ≡ e^{-rΔt}V_{t+Δt,i}$는 t시간에서 경로 i에 대해 시뮬레이션한 보유가치 -> 다음 시간 단계의 보유가치를 모든 주가에 대해 알아야함\n",
    "     - -> 최소 자승 회귀법 사용\n",
    "     \n",
    "   최소 자승 회귀법 \n",
    "    - 기저 함수 집합 $b_d,d = 1,...,D$가 주어지면 보유 가치는 $C_{t,i} = ∑^D_{d = 1}\\alpha^*_{d,t}·b_d(S_{t,i})$\n",
    "      - $\\alpha^*$는 $min_{\\alpha_{1,t},...,\\alpha_{D,t}}{1 \\over I}∑^I_{i = 1}(Y_{t,i} - ∑^D_{d = 1}\\alpha_{d,t}·b_d(S_{t,i}))^2$에 따른 최소 자승법으로 도출"
   ]
  },
  {
   "cell_type": "code",
   "execution_count": 12,
   "metadata": {},
   "outputs": [],
   "source": [
    "def gbm_mcs_amer(K, option = 'call'):\n",
    "    dt = T / M\n",
    "    df = np.exp(-r * dt)\n",
    "    S = np.zeros((M + 1, i))\n",
    "    S[0] = S0\n",
    "    sn = gen_sn(M, i)\n",
    "    for t in range(1, M + 1):\n",
    "        S[t] = S[t - 1] * np.exp((r - 0.5 * sig ** 2) * dt\n",
    "                                + sig * np.sqrt(dt) * sn[t])\n",
    "    \n",
    "    if option == 'call':\n",
    "        h = np.maximum(S - K, 0)\n",
    "    \n",
    "    else:\n",
    "        h = np.maximum(K - S, 0)                        # 유형별 Pay-Off\n",
    "    \n",
    "    V = np.copy(h)\n",
    "    for t in range(M - 1, 0, -1):\n",
    "        reg = np.polyfit(S[t], df * V[t + 1], 7)       # 최소 자승 회귀법(9.1.1절 참고)\n",
    "        C = np.polyval(reg, S[t])\n",
    "        V[t] = np.where(C > h[t], V[t + 1] * df, h[t]) \n",
    "        \n",
    "    C0 = df * 1 / i * np.sum(V[1])\n",
    "    return C0"
   ]
  },
  {
   "cell_type": "code",
   "execution_count": 13,
   "metadata": {},
   "outputs": [
    {
     "name": "stdout",
     "output_type": "stream",
     "text": [
      "7.778933279449315\n",
      "13.614023206242445\n"
     ]
    }
   ],
   "source": [
    "print(gbm_mcs_amer(110., option = 'call'))\n",
    "print(gbm_mcs_amer(110., option = 'put'))"
   ]
  },
  {
   "cell_type": "markdown",
   "metadata": {},
   "source": [
    "#### European과 American Put 비교"
   ]
  },
  {
   "cell_type": "code",
   "execution_count": 14,
   "metadata": {},
   "outputs": [],
   "source": [
    "euro_res = []\n",
    "amer_res = []\n",
    "k_list = np.arange(80., 120.1, 5.)\n",
    "\n",
    "for K in k_list:\n",
    "    euro_res.append(gbm_mcs_dyna(K, 'put'))\n",
    "    amer_res.append(gbm_mcs_amer(K, 'put'))\n",
    "\n",
    "euro_res = np.array(euro_res)\n",
    "amer_res = np.array(amer_res)"
   ]
  },
  {
   "cell_type": "code",
   "execution_count": 16,
   "metadata": {},
   "outputs": [
    {
     "data": {
      "image/png": "[encoded data removed]",
      "text/plain": [
       "<Figure size 576x432 with 2 Axes>"
      ]
     },
     "metadata": {
      "needs_background": "light"
     },
     "output_type": "display_data"
    }
   ],
   "source": [
    "fig , (ax1, ax2) = plt.subplots(2, 1, sharex = True, figsize = (8, 6))\n",
    "ax1.plot(k_list, euro_res, 'b', label = 'European Put')\n",
    "ax1.plot(k_list, amer_res, 'ro', label = 'American Put')\n",
    "ax1.set_ylabel('Put Option Value')\n",
    "ax1.grid(True)\n",
    "ax1.legend(loc = 0)\n",
    "\n",
    "wi = 1.0\n",
    "ax2.bar(k_list - wi / 2, (amer_res - euro_res) / amer_res * 100, wi)\n",
    "ax2.set_xlabel('strike')\n",
    "ax2.set_ylabel('early exercise premium in %')\n",
    "ax2.set_xlim(left = 75, right = 125)\n",
    "ax2.grid(True)"
   ]
  },
  {
   "cell_type": "markdown",
   "metadata": {},
   "source": [
    "조기 행사 프리미엄이 최대 약10%까지도 올라가는 것을 확인할 수 있다."
   ]
  },
  {
   "cell_type": "code",
   "execution_count": null,
   "metadata": {},
   "outputs": [],
   "source": []
  }
 ],
 "metadata": {
  "kernelspec": {
   "display_name": "Python 3",
   "language": "python",
   "name": "python3"
  },
  "language_info": {
   "codemirror_mode": {
    "name": "ipython",
    "version": 3
   },
   "file_extension": ".py",
   "mimetype": "text/x-python",
   "name": "python",
   "nbconvert_exporter": "python",
   "pygments_lexer": "ipython3",
   "version": "3.7.6"
  }
 },
 "nbformat": 4,
 "nbformat_minor": 4
}
