{
 "cells": [
  {
   "cell_type": "markdown",
   "id": "06dcfda9",
   "metadata": {},
   "source": [
    "10.2.2 확률과정의 4번(점프 확산) 참고"
   ]
  },
  {
   "cell_type": "code",
   "execution_count": 1,
   "id": "01b16967",
   "metadata": {},
   "outputs": [],
   "source": [
    "import numpy as np\n",
    "from sn_random_numbers import sn_random_numbers\n",
    "from simulation_class import simulation_class"
   ]
  },
  {
   "cell_type": "markdown",
   "id": "acd80ea3",
   "metadata": {},
   "source": [
    "# 16.4.1 시뮬레이션 클래스"
   ]
  },
  {
   "cell_type": "code",
   "execution_count": 2,
   "id": "e0c06df5",
   "metadata": {},
   "outputs": [],
   "source": [
    "class jump_diffusion(simulation_class):\n",
    "    ''' 머튼의 점프 확산 모형에 따른 시뮬레이션 경로를 생성하기 위한 클래스\n",
    "    \n",
    "    속성\n",
    "    ====\n",
    "    name : string\n",
    "        객체 이름\n",
    "    \n",
    "    mar_env : instance of market_environment\n",
    "        시뮬레이션에 필요한 시장 환경\n",
    "    \n",
    "    corr : Boolean\n",
    "        다른 모형 객체와 상관관계가 있으면 True\n",
    "    \n",
    "    Method\n",
    "    =======\n",
    "    update : \n",
    "        파라미터 갱신\n",
    "    \n",
    "    generate_paths :\n",
    "        주어진 시장 환경에 따른 몬테카를로 경로 반환\n",
    "    '''\n",
    "    \n",
    "    def __init__(self, name, mar_env, corr = False):\n",
    "        super(jump_diffusion, self).__init__(name, mar_env, corr)\n",
    "        try:\n",
    "            # 추가 파라미터 필요\n",
    "            self.lamb = mar_env.get_constant('lambda')\n",
    "            self.mu = mar_env.get_constant('mu')\n",
    "            self.delt = mar_env.get_constant('delta')\n",
    "        \n",
    "        except:\n",
    "            print('Error parsing market environment')\n",
    "        \n",
    "    def update(self, initial_value = None, volatility = None, lamb = None, mu = None, delta = None, final_date = None):\n",
    "        if initial_value is not None:\n",
    "            self.initial_value = initial_value\n",
    "        \n",
    "        if volatility is not None:\n",
    "            self.volatility = volatility\n",
    "        \n",
    "        if lamb is not None:\n",
    "            self.lamb = lamb\n",
    "        \n",
    "        if mu is not None:\n",
    "            self.mu = mu\n",
    "        \n",
    "        if delta is not None:\n",
    "            self.delt = delta\n",
    "        \n",
    "        if final_date is not None:\n",
    "            self.final_date = final_date\n",
    "            \n",
    "        self.instrument_values = None\n",
    "\n",
    "    def generate_paths(self, fixed_seed = False, day_count = 365.):\n",
    "        if self.time_grid is None:\n",
    "            self.generate_time_grid()\n",
    "                # 일반적인 시뮬레이션 클래스 Method\n",
    "        \n",
    "        # 시간 그리드의 날짜 수\n",
    "        M = len(self.time_grid)\n",
    "        \n",
    "        # 경로 수\n",
    "        I = self.paths\n",
    "        \n",
    "        # 시뮬레이션에 필요한 배열 초기화\n",
    "        paths = np.zeros((M, I))\n",
    "        \n",
    "        # initial_value로 처음 날짜에 해당하는 값 초기화\n",
    "        paths[0] = self.initial_value\n",
    "        \n",
    "        if self.correlated is False:\n",
    "            sn1 = sn_random_numbers((1, M, I), fixed_seed = fixed_seed)\n",
    "        \n",
    "        else:\n",
    "            sn1 = self.random_numbers\n",
    "        \n",
    "        # 점프 요인에 필요한 표준정규분포 난수 생성\n",
    "        sn2 = sn_random_numbers((1, M, I), fixed_seed = fixed_seed)\n",
    "        \n",
    "        rj = self.lamb * (np.exp(self.mu + 0.5 * self.delt ** 2) - 1)\n",
    "        \n",
    "        short_rate = self.discount_curve.short_rate\n",
    "        for t in range(1, len(self.time_grid)):\n",
    "            if self.correlated is False:\n",
    "                ran = sn1[t]\n",
    "            \n",
    "            else:\n",
    "                ran = np.dot(self.cholesky_matrix, sn1[:, t, :])\n",
    "                ran = ran[self.rn_set]\n",
    "            \n",
    "            dt = (self.time_grid[t] - self.time_grid[t - 1]).days / day_count\n",
    "            poi = np.random.poisson(self.lamb * dt, I)\n",
    "                # 점프 요소에 필요한 포아송 분포 난수\n",
    "            \n",
    "            paths[t] = paths[t - 1] * (np.exp((short_rate - rj - 0.5 * self.volatility ** 2) * dt\n",
    "                                              + self.volatility * np.sqrt(dt) * ran)\n",
    "                                       + (np.exp(self.mu + self.delt * sn2[t]) - 1) * poi)\n",
    "        self.instrument_values = paths\n",
    "        "
   ]
  },
  {
   "cell_type": "markdown",
   "id": "77225bf0",
   "metadata": {},
   "source": [
    "# 16.4.2 사용 예"
   ]
  },
  {
   "cell_type": "code",
   "execution_count": 3,
   "id": "7c3c211f",
   "metadata": {},
   "outputs": [],
   "source": [
    "from dx_frame import *"
   ]
  },
  {
   "cell_type": "code",
   "execution_count": 4,
   "id": "883eac75",
   "metadata": {},
   "outputs": [],
   "source": [
    "me_jd = market_environment('me_jd', dt.datetime(2015, 1, 1))"
   ]
  },
  {
   "cell_type": "code",
   "execution_count": 5,
   "id": "1f645e25",
   "metadata": {},
   "outputs": [],
   "source": [
    "me_jd.add_constant('lambda', 0.3)\n",
    "me_jd.add_constant('mu', -0.75)\n",
    "me_jd.add_constant('delta', 0.1)"
   ]
  },
  {
   "cell_type": "markdown",
   "id": "ed9b8bf4",
   "metadata": {},
   "source": [
    "#### 16.3(기하 브라운 운동)에서 정의된 market_environment 이용"
   ]
  },
  {
   "cell_type": "code",
   "execution_count": 6,
   "id": "986e072f",
   "metadata": {},
   "outputs": [],
   "source": [
    "from geometric_brownian_motion import geometric_brownian_motion"
   ]
  },
  {
   "cell_type": "code",
   "execution_count": 7,
   "id": "6fb3e203",
   "metadata": {},
   "outputs": [],
   "source": [
    "me_gbm = market_environment('me_gbm', dt.datetime(2015, 1, 1))\n",
    "me_gbm.add_constant('initial_value', 36.)\n",
    "me_gbm.add_constant('volatility', 0.2)\n",
    "me_gbm.add_constant('final_date', dt.datetime(2015, 12, 31))\n",
    "me_gbm.add_constant('currency', 'EUR')\n",
    "me_gbm.add_constant('frequency', 'M')\n",
    "me_gbm.add_constant('paths', 10000)"
   ]
  },
  {
   "cell_type": "code",
   "execution_count": 8,
   "id": "9e537e90",
   "metadata": {},
   "outputs": [],
   "source": [
    "csr = constant_short_rate('csr', 0.05)\n",
    "me_gbm.add_curve('discount_curve', csr)\n",
    "gbm = geometric_brownian_motion('gbm', me_gbm)"
   ]
  },
  {
   "cell_type": "code",
   "execution_count": 9,
   "id": "db49c2b6",
   "metadata": {},
   "outputs": [],
   "source": [
    "me_jd.add_environment(me_gbm)"
   ]
  },
  {
   "cell_type": "code",
   "execution_count": 10,
   "id": "a42f4332",
   "metadata": {},
   "outputs": [],
   "source": [
    "jd = jump_diffusion('jd', me_jd)"
   ]
  },
  {
   "cell_type": "code",
   "execution_count": 11,
   "id": "9554efd6",
   "metadata": {},
   "outputs": [
    {
     "name": "stdout",
     "output_type": "stream",
     "text": [
      "Wall time: 26.9 ms\n"
     ]
    }
   ],
   "source": [
    "%time paths_3 = jd.get_instrument_values()"
   ]
  },
  {
   "cell_type": "code",
   "execution_count": 12,
   "id": "b7e89dd7",
   "metadata": {},
   "outputs": [],
   "source": [
    "jd.update(lamb = 0.9)"
   ]
  },
  {
   "cell_type": "code",
   "execution_count": 13,
   "id": "d199b293",
   "metadata": {},
   "outputs": [
    {
     "name": "stdout",
     "output_type": "stream",
     "text": [
      "Wall time: 22.1 ms\n"
     ]
    }
   ],
   "source": [
    "%time paths_4 = jd.get_instrument_values()"
   ]
  },
  {
   "cell_type": "code",
   "execution_count": 14,
   "id": "15960b42",
   "metadata": {},
   "outputs": [],
   "source": [
    "import matplotlib.pyplot as plt\n",
    "%matplotlib inline"
   ]
  },
  {
   "cell_type": "code",
   "execution_count": 15,
   "id": "44b6b774",
   "metadata": {},
   "outputs": [],
   "source": [
    "gbm.generate_time_grid()"
   ]
  },
  {
   "cell_type": "code",
   "execution_count": 16,
   "id": "bf159e0f",
   "metadata": {},
   "outputs": [
    {
     "data": {
      "text/plain": [
       "array([datetime.datetime(2015, 1, 1, 0, 0),\n",
       "       datetime.datetime(2015, 1, 31, 0, 0),\n",
       "       datetime.datetime(2015, 2, 28, 0, 0),\n",
       "       datetime.datetime(2015, 3, 31, 0, 0),\n",
       "       datetime.datetime(2015, 4, 30, 0, 0),\n",
       "       datetime.datetime(2015, 5, 31, 0, 0),\n",
       "       datetime.datetime(2015, 6, 30, 0, 0),\n",
       "       datetime.datetime(2015, 7, 31, 0, 0),\n",
       "       datetime.datetime(2015, 8, 31, 0, 0),\n",
       "       datetime.datetime(2015, 9, 30, 0, 0),\n",
       "       datetime.datetime(2015, 10, 31, 0, 0),\n",
       "       datetime.datetime(2015, 11, 30, 0, 0),\n",
       "       datetime.datetime(2015, 12, 31, 0, 0)], dtype=object)"
      ]
     },
     "execution_count": 16,
     "metadata": {},
     "output_type": "execute_result"
    }
   ],
   "source": [
    "gbm.time_grid"
   ]
  },
  {
   "cell_type": "code",
   "execution_count": 17,
   "id": "65a8a497",
   "metadata": {},
   "outputs": [
    {
     "data": {
      "text/plain": [
       "(array([16436., 16495., 16556., 16617., 16679., 16740., 16801.]),\n",
       " [Text(0, 0, ''),\n",
       "  Text(0, 0, ''),\n",
       "  Text(0, 0, ''),\n",
       "  Text(0, 0, ''),\n",
       "  Text(0, 0, ''),\n",
       "  Text(0, 0, ''),\n",
       "  Text(0, 0, '')])"
      ]
     },
     "execution_count": 17,
     "metadata": {},
     "output_type": "execute_result"
    },
    {
     "data": {
      "image/png": "[encoded data removed]",
      "text/plain": [
       "<Figure size 576x288 with 1 Axes>"
      ]
     },
     "metadata": {
      "needs_background": "light"
     },
     "output_type": "display_data"
    }
   ],
   "source": [
    "plt.figure(figsize = (8,4))\n",
    "p1 = plt.plot(gbm.time_grid, paths_3[:, :10], 'b')\n",
    "p2 = plt.plot(gbm.time_grid, paths_4[:, :10], 'r-.')\n",
    "plt.grid(True)\n",
    "l1 = plt.legend([p1[0], p2[0]], ['low intensity', 'high intensity'], loc = 3)\n",
    "plt.gca().add_artist(l1)\n",
    "plt.xticks(rotation = 30)\n"
   ]
  }
 ],
 "metadata": {
  "kernelspec": {
   "display_name": "Python 3",
   "language": "python",
   "name": "python3"
  },
  "language_info": {
   "codemirror_mode": {
    "name": "ipython",
    "version": 3
   },
   "file_extension": ".py",
   "mimetype": "text/x-python",
   "name": "python",
   "nbconvert_exporter": "python",
   "pygments_lexer": "ipython3",
   "version": "3.7.6"
  }
 },
 "nbformat": 4,
 "nbformat_minor": 5
}
