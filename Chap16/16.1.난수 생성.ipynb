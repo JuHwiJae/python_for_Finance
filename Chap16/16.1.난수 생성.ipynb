{
 "cells": [
  {
   "cell_type": "code",
   "execution_count": 1,
   "id": "8bb77196",
   "metadata": {},
   "outputs": [],
   "source": [
    "import numpy as np"
   ]
  },
  {
   "cell_type": "code",
   "execution_count": 2,
   "id": "069ca1a3",
   "metadata": {},
   "outputs": [],
   "source": [
    "def sn_random_numbers(shape, antithetic = True, moment_matching = True, fixed_seed = False):\n",
    "    ''' shape 인수와 같은 shape를 가지면서 표준정규분포를 따르는 난수 배열 반환\n",
    "    \n",
    "    인수\n",
    "    ====\n",
    "    shape : tuple (0, n, m)\n",
    "        shape (0, n, m) 형태의 배열 생성\n",
    "        \n",
    "    antithetic : Boolean\n",
    "        대조 변수 (antithetic) 생성\n",
    "        \n",
    "    moment_matching : Boolean\n",
    "        1차, 2차 모멘트 정합\n",
    "    \n",
    "    fixed_seed : Boolean\n",
    "        seed를 고정하기 위한 플래그\n",
    "    \n",
    "    반환값\n",
    "    ======\n",
    "    ran : (0, n, m) 형태의 난수 배열\n",
    "    \n",
    "    '''\n",
    "    \n",
    "    if fixed_seed:\n",
    "        np.random.seed(1000)\n",
    "    \n",
    "    if antithetic:\n",
    "        ran = np.random.standard_normal((shape[0], shape[1], shape[2]/2))\n",
    "        ran = np.concatenate((ran, -ran), axis = 2)\n",
    "    \n",
    "    else:\n",
    "        ran = np.random.standard_normal(shape)\n",
    "    \n",
    "    if moment_matching:\n",
    "        ran = ran - np.mean(ran)\n",
    "        ran = ran / np.std(ran)\n",
    "    \n",
    "    if shape[0] == 1:\n",
    "        return ran[0]\n",
    "    \n",
    "    else:\n",
    "        return ran"
   ]
  },
  {
   "cell_type": "code",
   "execution_count": 3,
   "id": "08ecf53a",
   "metadata": {},
   "outputs": [],
   "source": [
    "# from sn_random_numbers import *\n",
    "snrn = sn_random_numbers((2, 2, 2), antithetic = False, moment_matching = False, fixed_seed = True)"
   ]
  },
  {
   "cell_type": "code",
   "execution_count": 4,
   "id": "131812aa",
   "metadata": {},
   "outputs": [
    {
     "data": {
      "text/plain": [
       "array([[[-0.8044583 ,  0.32093155],\n",
       "        [-0.02548288,  0.64432383]],\n",
       "\n",
       "       [[-0.30079667,  0.38947455],\n",
       "        [-0.1074373 , -0.47998308]]])"
      ]
     },
     "execution_count": 4,
     "metadata": {},
     "output_type": "execute_result"
    }
   ],
   "source": [
    "snrn"
   ]
  },
  {
   "cell_type": "code",
   "execution_count": 5,
   "id": "5c308faa",
   "metadata": {},
   "outputs": [],
   "source": [
    "snrn_mm = sn_random_numbers((2, 3, 2), antithetic = False, moment_matching = True, fixed_seed = True)"
   ]
  },
  {
   "cell_type": "code",
   "execution_count": 6,
   "id": "4e7fc147",
   "metadata": {},
   "outputs": [
    {
     "data": {
      "text/plain": [
       "array([[[-1.47414161,  0.67072537],\n",
       "        [ 0.01049828,  1.28707482],\n",
       "        [-0.51421897,  0.80136066]],\n",
       "\n",
       "       [[-0.14569767, -0.85572818],\n",
       "        [ 1.19313679, -0.82653845],\n",
       "        [ 1.3308292 , -1.47730025]]])"
      ]
     },
     "execution_count": 6,
     "metadata": {},
     "output_type": "execute_result"
    }
   ],
   "source": [
    "snrn_mm"
   ]
  },
  {
   "cell_type": "code",
   "execution_count": 7,
   "id": "312fb936",
   "metadata": {},
   "outputs": [
    {
     "data": {
      "text/plain": [
       "(3.700743415417188e-17, 1.0)"
      ]
     },
     "execution_count": 7,
     "metadata": {},
     "output_type": "execute_result"
    }
   ],
   "source": [
    "snrn_mm.mean(), snrn_mm.std()"
   ]
  },
  {
   "cell_type": "code",
   "execution_count": null,
   "id": "7b6280d3",
   "metadata": {},
   "outputs": [],
   "source": []
  }
 ],
 "metadata": {
  "kernelspec": {
   "display_name": "Python 3",
   "language": "python",
   "name": "python3"
  },
  "language_info": {
   "codemirror_mode": {
    "name": "ipython",
    "version": 3
   },
   "file_extension": ".py",
   "mimetype": "text/x-python",
   "name": "python",
   "nbconvert_exporter": "python",
   "pygments_lexer": "ipython3",
   "version": "3.7.6"
  }
 },
 "nbformat": 4,
 "nbformat_minor": 5
}
