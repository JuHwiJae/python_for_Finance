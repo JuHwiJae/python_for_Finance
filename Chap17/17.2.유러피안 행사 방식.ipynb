{
 "cells": [
  {
   "cell_type": "markdown",
   "id": "a48d3351",
   "metadata": {},
   "source": [
    "# 17.2.1 가치 평가 클래스"
   ]
  },
  {
   "cell_type": "code",
   "execution_count": 1,
   "id": "d5440b5e",
   "metadata": {},
   "outputs": [],
   "source": [
    "import numpy as np\n",
    "from valuation_class import valuation_class"
   ]
  },
  {
   "cell_type": "code",
   "execution_count": 2,
   "id": "fb798579",
   "metadata": {},
   "outputs": [],
   "source": [
    "class valuation_mcs_european(valuation_class):\n",
    "    ''' 단일 요인 몬테카를로 시뮬레이션을 사용한 임의의 페이오프에 대한 유로피안 옵션 가치 평가 클래스\n",
    "    \n",
    "    Method\n",
    "    =======\n",
    "    generate_payoff : \n",
    "        주어진 경로와 페이오프 함수를 이용하여 페이오프 계산\n",
    "    present_value :\n",
    "        몬테카를로 방식으로 추정한 현재 가치 반환\n",
    "    \n",
    "    '''\n",
    "    \n",
    "    def generate_payoff(self, fixed_seed = False):\n",
    "        '''\n",
    "        인수\n",
    "        ====\n",
    "        fixed_seed : Boolean\n",
    "             가치 계산용 시드 값을 중복 사용\n",
    "        '''\n",
    "        try:\n",
    "            # 행사가가 정의 되었는지 확인\n",
    "            strike = self.strike\n",
    "        \n",
    "        except:\n",
    "            pass\n",
    "        \n",
    "        paths = self.underlying.get_instrument_values(fixed_seed = fixed_seed)\n",
    "        time_grid = self.underlying.time_grid\n",
    "        \n",
    "        try:\n",
    "            time_index = np.where(time_grid == self.maturity)[0]\n",
    "            time_index = int(time_index)\n",
    "        \n",
    "        except:\n",
    "            print('Maturity date not in time grid of underlying')\n",
    "        \n",
    "        maturity_value = paths[time_index]\n",
    "        # 전체 경로에 대한 평균\n",
    "        mean_value = np.mean(paths[:time_index], axis = 1)\n",
    "        # 전체 경로에 대한 최대값\n",
    "        max_value = np.amax(paths[:time_index], axis = 1)[-1]\n",
    "        # 전체 경로에 대한 최솟값\n",
    "        min_value = np.amin(paths[:time_index], axis = 1)[-1]\n",
    "        \n",
    "        try:\n",
    "            payoff = eval(self.payoff_func)\n",
    "            return payoff\n",
    "        \n",
    "        except:\n",
    "            print('Error evaluating payoff function')\n",
    "            \n",
    "    def present_value(self, accuracy = 6, fixed_seed = False, full = False):\n",
    "        '''\n",
    "        인수\n",
    "        ====\n",
    "        accuracy : int\n",
    "            반환 값의 자리수\n",
    "        fixed_seed : Boolean\n",
    "            가치 계산용 시드 값을 중복 사용\n",
    "        full : Boolean\n",
    "            현재 값에 대한 1차원 배열도 반환\n",
    "        \n",
    "        '''\n",
    "        cash_flow = self.generate_payoff(fixed_seed = fixed_seed)\n",
    "        discount_factor = self.discount_curve.get_discount_factors((self.pricing_date, self.maturity))[0, 1]\n",
    "        result = discount_factor * np.sum(cash_flow) / len(cash_flow)\n",
    "        \n",
    "        if full:\n",
    "            return round(result, accuracy), discount_factor * cash_flow\n",
    "        else:\n",
    "            return round(result, accuracy)"
   ]
  },
  {
   "cell_type": "markdown",
   "id": "226cc657",
   "metadata": {},
   "source": [
    "# 17.2.2 사용법"
   ]
  },
  {
   "cell_type": "code",
   "execution_count": 3,
   "id": "c18f28b2",
   "metadata": {},
   "outputs": [],
   "source": [
    "from dx_frame import *\n",
    "from geometric_brownian_motion import geometric_brownian_motion"
   ]
  },
  {
   "cell_type": "code",
   "execution_count": 4,
   "id": "f3cb61ee",
   "metadata": {},
   "outputs": [],
   "source": [
    "me_gbm = market_environment('me_gbm', dt.datetime(2015, 1, 1))"
   ]
  },
  {
   "cell_type": "code",
   "execution_count": 5,
   "id": "e20fcff4",
   "metadata": {},
   "outputs": [],
   "source": [
    "me_gbm.add_constant('initial_value', 36.)\n",
    "me_gbm.add_constant('volatility', 0.2)\n",
    "me_gbm.add_constant('final_date', dt.datetime(2015, 12, 31))\n",
    "me_gbm.add_constant('currency', 'EUR')\n",
    "me_gbm.add_constant('frequency', 'M')\n",
    "me_gbm.add_constant('paths', 10000)"
   ]
  },
  {
   "cell_type": "code",
   "execution_count": 6,
   "id": "b17adaf7",
   "metadata": {},
   "outputs": [],
   "source": [
    "csr = constant_short_rate('csr', 0.06)"
   ]
  },
  {
   "cell_type": "code",
   "execution_count": 7,
   "id": "46d4ea5a",
   "metadata": {},
   "outputs": [],
   "source": [
    "me_gbm.add_curve('discount_curve', csr)"
   ]
  },
  {
   "cell_type": "code",
   "execution_count": 8,
   "id": "f2938835",
   "metadata": {},
   "outputs": [],
   "source": [
    "gbm = geometric_brownian_motion('gbm', me_gbm)"
   ]
  },
  {
   "cell_type": "code",
   "execution_count": 9,
   "id": "d56d2aad",
   "metadata": {},
   "outputs": [],
   "source": [
    "# 시뮬레이션 객체 이외의 옵션을 위한 시장 환경 정보\n",
    "me_call = market_environment('me_call', me_gbm.pricing_date)"
   ]
  },
  {
   "cell_type": "code",
   "execution_count": 10,
   "id": "bbf4a17a",
   "metadata": {},
   "outputs": [],
   "source": [
    "me_call.add_constant('strike', 40.)\n",
    "me_call.add_constant('maturity', dt.datetime(2015, 12, 31))\n",
    "me_call.add_constant('currency', 'EUR')"
   ]
  },
  {
   "cell_type": "code",
   "execution_count": 11,
   "id": "ebe6a72c",
   "metadata": {},
   "outputs": [],
   "source": [
    "payoff_func = 'np.maximum(maturity_value - strike, 0)'"
   ]
  },
  {
   "cell_type": "code",
   "execution_count": null,
   "id": "8f1cd7cf",
   "metadata": {},
   "outputs": [],
   "source": [
    "from valuation_mcs_european import valuation_mcs_european"
   ]
  },
  {
   "cell_type": "code",
   "execution_count": 12,
   "id": "9223c6ff",
   "metadata": {},
   "outputs": [],
   "source": [
    "eur_call = valuation_mcs_european('eur_call', underlying = gbm, mar_env = me_call, payoff_func = payoff_func)"
   ]
  },
  {
   "cell_type": "code",
   "execution_count": 13,
   "id": "b0ce0280",
   "metadata": {},
   "outputs": [
    {
     "name": "stdout",
     "output_type": "stream",
     "text": [
      "Wall time: 7.96 ms\n"
     ]
    },
    {
     "data": {
      "text/plain": [
       "2.305196"
      ]
     },
     "execution_count": 13,
     "metadata": {},
     "output_type": "execute_result"
    }
   ],
   "source": [
    "%time eur_call.present_value()"
   ]
  },
  {
   "cell_type": "code",
   "execution_count": 14,
   "id": "ab8597d0",
   "metadata": {},
   "outputs": [
    {
     "name": "stdout",
     "output_type": "stream",
     "text": [
      "Wall time: 7.98 ms\n"
     ]
    },
    {
     "data": {
      "text/plain": [
       "0.5015"
      ]
     },
     "execution_count": 14,
     "metadata": {},
     "output_type": "execute_result"
    }
   ],
   "source": [
    "%time eur_call.delta()"
   ]
  },
  {
   "cell_type": "code",
   "execution_count": 15,
   "id": "dbc4abe9",
   "metadata": {},
   "outputs": [
    {
     "name": "stdout",
     "output_type": "stream",
     "text": [
      "Wall time: 10.9 ms\n"
     ]
    },
    {
     "data": {
      "text/plain": [
       "15.1587"
      ]
     },
     "execution_count": 15,
     "metadata": {},
     "output_type": "execute_result"
    }
   ],
   "source": [
    "%time eur_call.vega()"
   ]
  },
  {
   "cell_type": "code",
   "execution_count": 16,
   "id": "d2a54a7f",
   "metadata": {},
   "outputs": [],
   "source": [
    "# 기초자산 가격이 변화 할때 옵션 가치, 델타, 베가 변화 알아보기"
   ]
  },
  {
   "cell_type": "code",
   "execution_count": 17,
   "id": "28bf499f",
   "metadata": {},
   "outputs": [
    {
     "name": "stdout",
     "output_type": "stream",
     "text": [
      "Wall time: 157 ms\n"
     ]
    }
   ],
   "source": [
    "%%time\n",
    "s_list = np.arange(34, 46.1, 2)\n",
    "p_list = []; d_list = []; v_list = []\n",
    "for s in s_list:\n",
    "    eur_call.update(initial_value = s)\n",
    "    p_list.append(eur_call.present_value(fixed_seed = True))\n",
    "    d_list.append(eur_call.delta())\n",
    "    v_list.append(eur_call.vega())"
   ]
  },
  {
   "cell_type": "code",
   "execution_count": 18,
   "id": "27378aa5",
   "metadata": {},
   "outputs": [],
   "source": [
    "# 옵션 통계치를 그리기 위한 보조 함수\n",
    "import matplotlib.pyplot as plt\n",
    "\n",
    "def plot_option_stats(s_list, p_list, d_list, v_list):\n",
    "    ''' 여러가지 기초자산에 대한 옵션 가격, 델타, 베가를 플롯\n",
    "    \n",
    "    인수\n",
    "    ====\n",
    "    s_list : arrray or list\n",
    "        기초자산의 값 집합\n",
    "    p_list : array or list\n",
    "        현재 가치\n",
    "    d_list : array or list\n",
    "        델타 값\n",
    "    v_list : array or list\n",
    "        베가 값\n",
    "    \n",
    "    '''\n",
    "    plt.figure(figsize = (9, 7))\n",
    "    sub1 = plt.subplot(311)\n",
    "    plt.plot(s_list, p_list, 'ro', label = 'present value')\n",
    "    plt.plot(s_list, p_list, 'b')\n",
    "    plt.grid(True); plt.legend(loc = 0)\n",
    "    plt.setp(sub1.get_xticklabels(), visible = False)\n",
    "    sub2 = plt.subplot(312)\n",
    "    plt.plot(s_list, d_list, 'go', label = 'Delta')\n",
    "    plt.plot(s_list, d_list, 'b')\n",
    "    plt.grid(True); plt.legend(loc = 0)\n",
    "    plt.ylim(min(d_list) - 0.1, max(d_list) + 0.1)\n",
    "    plt.setp(sub2.get_xticklabels(), visible = False)\n",
    "    sub3 = plt.subplot(313)\n",
    "    plt.plot(s_list, v_list, 'yo', label = 'Vega')\n",
    "    plt.plot(s_list, v_list, 'b')\n",
    "    plt.xlabel('initial value of underlying')\n",
    "    plt.grid(True); plt.legend(loc = 0)"
   ]
  },
  {
   "cell_type": "code",
   "execution_count": null,
   "id": "c5677412",
   "metadata": {},
   "outputs": [],
   "source": [
    "form plot_option_stats import plot_option_stats"
   ]
  },
  {
   "cell_type": "code",
   "execution_count": 19,
   "id": "73a255d8",
   "metadata": {},
   "outputs": [
    {
     "data": {
      "image/png": "[encoded data removed]",
      "text/plain": [
       "<Figure size 648x504 with 3 Axes>"
      ]
     },
     "metadata": {
      "needs_background": "light"
     },
     "output_type": "display_data"
    }
   ],
   "source": [
    "%matplotlib inline\n",
    "plot_option_stats(s_list, p_list, d_list, v_list)"
   ]
  },
  {
   "cell_type": "code",
   "execution_count": 20,
   "id": "ea3cc8bb",
   "metadata": {},
   "outputs": [],
   "source": [
    "# 일반 옵션 + 아시안 payoff\n",
    "payoff_func = 'np.maximum(0.33 * (maturity_value + max_value) - 40, 0)'"
   ]
  },
  {
   "cell_type": "code",
   "execution_count": 21,
   "id": "eb9ee105",
   "metadata": {},
   "outputs": [],
   "source": [
    "eur_as_call = valuation_mcs_european('eur_as_call', underlying = gbm, mar_env = me_call, payoff_func = payoff_func)"
   ]
  },
  {
   "cell_type": "code",
   "execution_count": 22,
   "id": "9b42c217",
   "metadata": {},
   "outputs": [
    {
     "name": "stdout",
     "output_type": "stream",
     "text": [
      "Wall time: 126 ms\n"
     ]
    }
   ],
   "source": [
    "%%time\n",
    "s_list = np.arange(34, 46.1, 2)\n",
    "p_list = []; d_list = []; v_list = []\n",
    "for s in s_list:\n",
    "    eur_call.update(s)\n",
    "    p_list.append(eur_as_call.present_value(fixed_seed = True))\n",
    "    d_list.append(eur_as_call.delta())\n",
    "    v_list.append(eur_as_call.vega())"
   ]
  },
  {
   "cell_type": "code",
   "execution_count": 23,
   "id": "013a21c8",
   "metadata": {},
   "outputs": [
    {
     "data": {
      "image/png": "[encoded data removed]",
      "text/plain": [
       "<Figure size 648x504 with 3 Axes>"
      ]
     },
     "metadata": {
      "needs_background": "light"
     },
     "output_type": "display_data"
    }
   ],
   "source": [
    "plot_option_stats(s_list, p_list, d_list, v_list)"
   ]
  },
  {
   "cell_type": "code",
   "execution_count": null,
   "id": "6ca2e030",
   "metadata": {},
   "outputs": [],
   "source": []
  }
 ],
 "metadata": {
  "kernelspec": {
   "display_name": "Python 3",
   "language": "python",
   "name": "python3"
  },
  "language_info": {
   "codemirror_mode": {
    "name": "ipython",
    "version": 3
   },
   "file_extension": ".py",
   "mimetype": "text/x-python",
   "name": "python",
   "nbconvert_exporter": "python",
   "pygments_lexer": "ipython3",
   "version": "3.7.6"
  }
 },
 "nbformat": 4,
 "nbformat_minor": 5
}
