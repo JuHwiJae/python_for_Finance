{
 "cells": [
  {
   "cell_type": "markdown",
   "metadata": {},
   "source": [
    "# 객체를 디스크에 쓰기 "
   ]
  },
  {
   "cell_type": "code",
   "execution_count": 1,
   "metadata": {},
   "outputs": [],
   "source": [
    "!mkdir path"
   ]
  },
  {
   "cell_type": "code",
   "execution_count": 2,
   "metadata": {},
   "outputs": [],
   "source": [
    "# 새로운 파일 만들기\n",
    "path = 'C:/Users/anrnd/Desktop/파이썬 금융분석/path/'"
   ]
  },
  {
   "cell_type": "code",
   "execution_count": 3,
   "metadata": {},
   "outputs": [],
   "source": [
    "import numpy as np\n",
    "from random import gauss"
   ]
  },
  {
   "cell_type": "code",
   "execution_count": 4,
   "metadata": {},
   "outputs": [],
   "source": [
    "a = [gauss(1.5,2) for i in range(1000000)]"
   ]
  },
  {
   "cell_type": "code",
   "execution_count": 5,
   "metadata": {},
   "outputs": [],
   "source": [
    "import pickle\n",
    "import time"
   ]
  },
  {
   "cell_type": "markdown",
   "metadata": {},
   "source": [
    "#  1. open( , 'wb') 쓰기위한 파일 열기\n",
    "#  2. .close()\n",
    "#  3. open( , 'rb') 읽기위한 파일 열기\n",
    "#  4. .close() "
   ]
  },
  {
   "cell_type": "markdown",
   "metadata": {},
   "source": [
    "객체 1개"
   ]
  },
  {
   "cell_type": "code",
   "execution_count": 6,
   "metadata": {},
   "outputs": [],
   "source": [
    "pkl_file = open(path + 'data.pkl', 'wb')"
   ]
  },
  {
   "cell_type": "code",
   "execution_count": 7,
   "metadata": {},
   "outputs": [
    {
     "name": "stdout",
     "output_type": "stream",
     "text": [
      "Wall time: 65.4 ms\n"
     ]
    }
   ],
   "source": [
    "%time pickle.dump(a, pkl_file)"
   ]
  },
  {
   "cell_type": "code",
   "execution_count": 8,
   "metadata": {},
   "outputs": [
    {
     "data": {
      "text/plain": [
       "<_io.BufferedWriter name='C:/Users/anrnd/Desktop/파이썬 금융분석/path/data.pkl'>"
      ]
     },
     "execution_count": 8,
     "metadata": {},
     "output_type": "execute_result"
    }
   ],
   "source": [
    "pkl_file"
   ]
  },
  {
   "cell_type": "code",
   "execution_count": 9,
   "metadata": {},
   "outputs": [],
   "source": [
    "pkl_file.close()"
   ]
  },
  {
   "cell_type": "code",
   "execution_count": 10,
   "metadata": {},
   "outputs": [
    {
     "name": "stdout",
     "output_type": "stream",
     "text": [
      " C 드라이브의 볼륨에는 이름이 없습니다.\n",
      " 볼륨 일련 번호: A2A3-CC65\n",
      "\n",
      " C:\\Users\\anrnd\\Desktop\\파이썬 금융분석 디렉터리\n",
      "\n",
      "2021-04-16  오후 09:39    <DIR>          path\n",
      "               0개 파일                   0 바이트\n",
      "               1개 디렉터리  286,056,513,536 바이트 남음\n"
     ]
    }
   ],
   "source": [
    "!dir path*"
   ]
  },
  {
   "cell_type": "code",
   "execution_count": 11,
   "metadata": {},
   "outputs": [
    {
     "name": "stdout",
     "output_type": "stream",
     "text": [
      "Wall time: 146 ms\n"
     ]
    }
   ],
   "source": [
    "pkl_file = open(path + 'data.pkl', 'rb')\n",
    "%time b = pickle.load(pkl_file)"
   ]
  },
  {
   "cell_type": "code",
   "execution_count": 12,
   "metadata": {},
   "outputs": [
    {
     "data": {
      "text/plain": [
       "[2.213490206867527,\n",
       " 2.8468785684665425,\n",
       " 1.4446325861481024,\n",
       " 3.2049088091786357,\n",
       " 2.604065981346074]"
      ]
     },
     "execution_count": 12,
     "metadata": {},
     "output_type": "execute_result"
    }
   ],
   "source": [
    "b[:5]"
   ]
  },
  {
   "cell_type": "code",
   "execution_count": 13,
   "metadata": {},
   "outputs": [
    {
     "data": {
      "text/plain": [
       "[2.213490206867527,\n",
       " 2.8468785684665425,\n",
       " 1.4446325861481024,\n",
       " 3.2049088091786357,\n",
       " 2.604065981346074]"
      ]
     },
     "execution_count": 13,
     "metadata": {},
     "output_type": "execute_result"
    }
   ],
   "source": [
    "a[:5]"
   ]
  },
  {
   "cell_type": "code",
   "execution_count": 14,
   "metadata": {},
   "outputs": [
    {
     "data": {
      "text/plain": [
       "0.0"
      ]
     },
     "execution_count": 14,
     "metadata": {},
     "output_type": "execute_result"
    }
   ],
   "source": [
    "# a,b 가 같은지 확인하는 방법\n",
    "# 1\n",
    "np.allclose(np.array(a),np.array(b))\n",
    "\n",
    "# 2\n",
    "np.sum(np.array(a)-np.array(b))"
   ]
  },
  {
   "cell_type": "markdown",
   "metadata": {},
   "source": [
    "객체 2개"
   ]
  },
  {
   "cell_type": "code",
   "execution_count": 15,
   "metadata": {},
   "outputs": [
    {
     "name": "stdout",
     "output_type": "stream",
     "text": [
      "Wall time: 79.7 ms\n"
     ]
    }
   ],
   "source": [
    "pkl_file = open(path + 'data.pkl', 'wb')\n",
    "%time pickle.dump(np.array(a), pkl_file)"
   ]
  },
  {
   "cell_type": "code",
   "execution_count": 16,
   "metadata": {},
   "outputs": [
    {
     "name": "stdout",
     "output_type": "stream",
     "text": [
      "Wall time: 93.3 ms\n"
     ]
    }
   ],
   "source": [
    "%time pickle.dump(np.array(a)**2, pkl_file)"
   ]
  },
  {
   "cell_type": "code",
   "execution_count": 17,
   "metadata": {},
   "outputs": [],
   "source": [
    "pkl_file.close()"
   ]
  },
  {
   "cell_type": "code",
   "execution_count": 18,
   "metadata": {},
   "outputs": [
    {
     "name": "stdout",
     "output_type": "stream",
     "text": [
      " C 드라이브의 볼륨에는 이름이 없습니다.\n",
      " 볼륨 일련 번호: A2A3-CC65\n",
      "\n",
      " C:\\Users\\anrnd\\Desktop\\파이썬 금융분석 디렉터리\n",
      "\n",
      "2021-04-16  오후 09:39    <DIR>          path\n",
      "               0개 파일                   0 바이트\n",
      "               1개 디렉터리  286,049,513,472 바이트 남음\n"
     ]
    }
   ],
   "source": [
    "!dir path*"
   ]
  },
  {
   "cell_type": "code",
   "execution_count": 19,
   "metadata": {},
   "outputs": [],
   "source": [
    "pkl_file = open(path + 'data.pkl', 'rb')"
   ]
  },
  {
   "cell_type": "code",
   "execution_count": 20,
   "metadata": {},
   "outputs": [
    {
     "data": {
      "text/plain": [
       "array([2.21349021, 2.84687857, 1.44463259, ..., 1.29451141, 3.16663577,\n",
       "       2.48473127])"
      ]
     },
     "execution_count": 20,
     "metadata": {},
     "output_type": "execute_result"
    }
   ],
   "source": [
    "x = pickle.load(pkl_file)          # First in First out : 자동으로 순서대로 출력 \n",
    "x                                  # -> 어떤 객체에 저장되어있는지 모르는 단점"
   ]
  },
  {
   "cell_type": "code",
   "execution_count": 21,
   "metadata": {},
   "outputs": [
    {
     "data": {
      "text/plain": [
       "array([ 4.8995389 ,  8.10471758,  2.08696331, ...,  1.67575979,\n",
       "       10.02758212,  6.17388947])"
      ]
     },
     "execution_count": 21,
     "metadata": {},
     "output_type": "execute_result"
    }
   ],
   "source": [
    "y = pickle.load(pkl_file)\n",
    "y"
   ]
  },
  {
   "cell_type": "code",
   "execution_count": 22,
   "metadata": {},
   "outputs": [],
   "source": [
    "# -> 사전 객체에 다른 객체를 담아서 단점 보완\n",
    "\n",
    "pkl_file = open(path + 'data.pkl', 'wb')\n",
    "pickle.dump({'x': x, 'y': y}, pkl_file)\n",
    "pkl_file.close()"
   ]
  },
  {
   "cell_type": "code",
   "execution_count": 23,
   "metadata": {},
   "outputs": [
    {
     "name": "stdout",
     "output_type": "stream",
     "text": [
      "x [2.21349021 2.84687857 1.44463259 3.20490881]\n",
      "y [ 4.8995389   8.10471758  2.08696331 10.27144048]\n"
     ]
    }
   ],
   "source": [
    "pkl_file = open(path + 'data.pkl', 'rb')\n",
    "data = pickle.load(pkl_file)\n",
    "pkl_file.close()\n",
    "for key in data.keys():\n",
    "    print(key,data[key][:4])"
   ]
  },
  {
   "cell_type": "code",
   "execution_count": null,
   "metadata": {},
   "outputs": [],
   "source": []
  },
  {
   "cell_type": "markdown",
   "metadata": {},
   "source": [
    "# 텍스트 파일 읽고 쓰기"
   ]
  },
  {
   "cell_type": "code",
   "execution_count": 24,
   "metadata": {},
   "outputs": [
    {
     "data": {
      "text/plain": [
       "array([[-0.4064,  0.5429,  0.8653, -0.8358, -0.2521],\n",
       "       [-0.0907, -0.2706, -2.5461,  0.2326, -0.2854],\n",
       "       [-0.1706, -0.5436,  0.6064, -1.051 , -1.6974],\n",
       "       ...,\n",
       "       [-0.2363,  0.3509, -1.2428,  1.8758, -1.6936],\n",
       "       [-0.4866, -0.5231, -0.04  ,  0.377 ,  0.6857],\n",
       "       [ 2.4693,  0.1811, -0.6522,  0.5462,  0.7273]])"
      ]
     },
     "execution_count": 24,
     "metadata": {},
     "output_type": "execute_result"
    }
   ],
   "source": [
    "rows = 5000\n",
    "a = np.random.standard_normal((rows,5)) # 임의의 데이터 \n",
    "a.round(4)"
   ]
  },
  {
   "cell_type": "code",
   "execution_count": 25,
   "metadata": {},
   "outputs": [],
   "source": [
    "# 날짜 - 시간 정보 추가\n",
    "# pandas date_range -> 시간 생성\n",
    "import pandas as pd"
   ]
  },
  {
   "cell_type": "code",
   "execution_count": 26,
   "metadata": {},
   "outputs": [
    {
     "data": {
      "text/plain": [
       "DatetimeIndex(['2014-01-01 00:00:00', '2014-01-01 01:00:00',\n",
       "               '2014-01-01 02:00:00', '2014-01-01 03:00:00',\n",
       "               '2014-01-01 04:00:00', '2014-01-01 05:00:00',\n",
       "               '2014-01-01 06:00:00', '2014-01-01 07:00:00',\n",
       "               '2014-01-01 08:00:00', '2014-01-01 09:00:00',\n",
       "               ...\n",
       "               '2014-07-27 22:00:00', '2014-07-27 23:00:00',\n",
       "               '2014-07-28 00:00:00', '2014-07-28 01:00:00',\n",
       "               '2014-07-28 02:00:00', '2014-07-28 03:00:00',\n",
       "               '2014-07-28 04:00:00', '2014-07-28 05:00:00',\n",
       "               '2014-07-28 06:00:00', '2014-07-28 07:00:00'],\n",
       "              dtype='datetime64[ns]', length=5000, freq='H')"
      ]
     },
     "execution_count": 26,
     "metadata": {},
     "output_type": "execute_result"
    }
   ],
   "source": [
    "t = pd.date_range(start = '2014/1/1', periods = rows, freq = 'H')\n",
    "t"
   ]
  },
  {
   "cell_type": "code",
   "execution_count": 27,
   "metadata": {},
   "outputs": [],
   "source": [
    "# 자료 저장하기 위해 새파일 열기\n",
    "csv_file = open(path + 'data.csv', 'w')"
   ]
  },
  {
   "cell_type": "code",
   "execution_count": 28,
   "metadata": {},
   "outputs": [
    {
     "data": {
      "text/plain": [
       "30"
      ]
     },
     "execution_count": 28,
     "metadata": {},
     "output_type": "execute_result"
    }
   ],
   "source": [
    "header = 'date, no1, no2, no3, no4, no5\\n'\n",
    "csv_file.write(header)"
   ]
  },
  {
   "cell_type": "code",
   "execution_count": 29,
   "metadata": {},
   "outputs": [],
   "source": [
    "for t_, (no1, no2, no3, no4, no5) in zip(t,a):\n",
    "    s = '%s, %f, %f, %f, %f, %f\\n' % (t_, no1, no2, no3, no4, no5)\n",
    "    csv_file.write(s)"
   ]
  },
  {
   "cell_type": "code",
   "execution_count": 30,
   "metadata": {},
   "outputs": [],
   "source": [
    "csv_file.close()"
   ]
  },
  {
   "cell_type": "code",
   "execution_count": 31,
   "metadata": {},
   "outputs": [
    {
     "name": "stdout",
     "output_type": "stream",
     "text": [
      " C 드라이브의 볼륨에는 이름이 없습니다.\n",
      " 볼륨 일련 번호: A2A3-CC65\n",
      "\n",
      " C:\\Users\\anrnd\\Desktop\\파이썬 금융분석 디렉터리\n",
      "\n",
      "2021-04-16  오후 09:39    <DIR>          path\n",
      "               0개 파일                   0 바이트\n",
      "               1개 디렉터리  286,049,144,832 바이트 남음\n"
     ]
    }
   ],
   "source": [
    "!dir path*"
   ]
  },
  {
   "cell_type": "code",
   "execution_count": 32,
   "metadata": {},
   "outputs": [],
   "source": [
    "csv_file = open(path + 'data.csv', 'r')"
   ]
  },
  {
   "cell_type": "code",
   "execution_count": 33,
   "metadata": {},
   "outputs": [
    {
     "name": "stdout",
     "output_type": "stream",
     "text": [
      "date, no1, no2, no3, no4, no5\n",
      "\n",
      "2014-01-01 00:00:00, -0.406398, 0.542858, 0.865289, -0.835844, -0.252131\n",
      "\n",
      "2014-01-01 01:00:00, -0.090718, -0.270563, -2.546067, 0.232605, -0.285400\n",
      "\n",
      "2014-01-01 02:00:00, -0.170620, -0.543581, 0.606424, -1.050957, -1.697355\n",
      "\n",
      "2014-01-01 03:00:00, -0.204401, 0.361007, 0.468794, 1.753692, 0.142165\n",
      "\n"
     ]
    }
   ],
   "source": [
    "# 한줄씩 읽기\n",
    "for i in range(5):\n",
    "    print(csv_file.readline(), )"
   ]
  },
  {
   "cell_type": "code",
   "execution_count": 34,
   "metadata": {},
   "outputs": [
    {
     "name": "stdout",
     "output_type": "stream",
     "text": [
      "date, no1, no2, no3, no4, no5\n",
      "\n",
      "2014-01-01 00:00:00, -0.406398, 0.542858, 0.865289, -0.835844, -0.252131\n",
      "\n",
      "2014-01-01 01:00:00, -0.090718, -0.270563, -2.546067, 0.232605, -0.285400\n",
      "\n",
      "2014-01-01 02:00:00, -0.170620, -0.543581, 0.606424, -1.050957, -1.697355\n",
      "\n",
      "2014-01-01 03:00:00, -0.204401, 0.361007, 0.468794, 1.753692, 0.142165\n",
      "\n"
     ]
    }
   ],
   "source": [
    "# 한번에 읽기\n",
    "csv_file = open(path + 'data.csv', 'r')\n",
    "content = csv_file.readlines()\n",
    "for line in content[:5]:\n",
    "    print(line, )"
   ]
  },
  {
   "cell_type": "code",
   "execution_count": 35,
   "metadata": {},
   "outputs": [],
   "source": [
    "csv_file.close()"
   ]
  },
  {
   "cell_type": "markdown",
   "metadata": {},
   "source": [
    "# SQL 데이터베이스"
   ]
  },
  {
   "cell_type": "code",
   "execution_count": 36,
   "metadata": {},
   "outputs": [],
   "source": [
    "# 파이썬에서 사용하는 데이터베이스 : SQLite3\n",
    "import sqlite3 as sq3"
   ]
  },
  {
   "cell_type": "code",
   "execution_count": 37,
   "metadata": {},
   "outputs": [],
   "source": [
    "# SQL 쿼리 - 문자열 객체로 구성\n",
    "query = 'CREATE TABLE numbs (Date date, No1 real, No2 real)'"
   ]
  },
  {
   "cell_type": "code",
   "execution_count": 38,
   "metadata": {},
   "outputs": [],
   "source": [
    "# 데이터베이스 연결\n",
    "con = sq3.connect(path + 'numbs.db')"
   ]
  },
  {
   "cell_type": "code",
   "execution_count": 39,
   "metadata": {},
   "outputs": [
    {
     "data": {
      "text/plain": [
       "<sqlite3.Cursor at 0x130aea0f880>"
      ]
     },
     "execution_count": 39,
     "metadata": {},
     "output_type": "execute_result"
    }
   ],
   "source": [
    "# 테이블 생성\n",
    "con.execute(query)"
   ]
  },
  {
   "cell_type": "code",
   "execution_count": 40,
   "metadata": {},
   "outputs": [],
   "source": [
    "# 실제로 실행되려면 commit 메서드 호출\n",
    "con.commit()\n",
    "\n",
    "# -> 데이터 베이스, 테이블 존재 -> 자료생성 가능"
   ]
  },
  {
   "cell_type": "code",
   "execution_count": 41,
   "metadata": {},
   "outputs": [],
   "source": [
    "import datetime as dt"
   ]
  },
  {
   "cell_type": "code",
   "execution_count": 42,
   "metadata": {},
   "outputs": [
    {
     "data": {
      "text/plain": [
       "<sqlite3.Cursor at 0x130aea0f3b0>"
      ]
     },
     "execution_count": 42,
     "metadata": {},
     "output_type": "execute_result"
    }
   ],
   "source": [
    "con.execute('INSERT INTO numbs VALUES(?, ?, ?)',\n",
    "           (dt.datetime.now(), 0.12, 7.3))"
   ]
  },
  {
   "cell_type": "code",
   "execution_count": 43,
   "metadata": {},
   "outputs": [],
   "source": [
    "data = np.random.standard_normal((10000,2)).round(5)\n",
    "for row in data:\n",
    "    con.execute('INSERT INTO numbs VALUES(?, ?, ?)',    # execute -> 한줄씩만 가능 -> for문 사용\n",
    "               (dt.datetime.now(), row[0], row[1]))     # executemany -> 한번에 행렬식으로 \n",
    "con.commit()\n",
    "\n",
    "# executemany 도 가능 하지만 날짜 - 시간 추가하기 때문에 사용 불가능"
   ]
  },
  {
   "cell_type": "code",
   "execution_count": 44,
   "metadata": {},
   "outputs": [
    {
     "data": {
      "text/plain": [
       "[('2021-04-16 21:39:31.935859', 0.12, 7.3),\n",
       " ('2021-04-16 21:39:32.143497', 1.34139, 1.74049),\n",
       " ('2021-04-16 21:39:32.143497', 0.4809, -0.96756),\n",
       " ('2021-04-16 21:39:32.143497', 0.87101, 0.97658),\n",
       " ('2021-04-16 21:39:32.143497', 1.37846, -0.17398),\n",
       " ('2021-04-16 21:39:32.143497', -0.85915, -0.62932),\n",
       " ('2021-04-16 21:39:32.143497', 0.54213, 1.14555),\n",
       " ('2021-04-16 21:39:32.143497', 0.21966, -0.24507),\n",
       " ('2021-04-16 21:39:32.143497', -0.28516, -0.60308),\n",
       " ('2021-04-16 21:39:32.143497', -1.07673, 0.21236)]"
      ]
     },
     "execution_count": 44,
     "metadata": {},
     "output_type": "execute_result"
    }
   ],
   "source": [
    "# 여러 자료를 한번에 가져오기 : fetchmany or fetchall\n",
    "\n",
    "con.execute('SELECT * FROM numbs').fetchmany(10)"
   ]
  },
  {
   "cell_type": "code",
   "execution_count": 45,
   "metadata": {},
   "outputs": [
    {
     "data": {
      "text/plain": [
       "array([[ 1.34139,  1.74049],\n",
       "       [ 0.4809 , -0.96756],\n",
       "       [ 0.87101,  0.97658],\n",
       "       ...,\n",
       "       [-0.71479, -1.21913],\n",
       "       [ 0.02432, -0.42668],\n",
       "       [-1.85491,  0.0393 ]])"
      ]
     },
     "execution_count": 45,
     "metadata": {},
     "output_type": "execute_result"
    }
   ],
   "source": [
    "data"
   ]
  },
  {
   "cell_type": "code",
   "execution_count": 46,
   "metadata": {},
   "outputs": [
    {
     "name": "stdout",
     "output_type": "stream",
     "text": [
      "('2021-04-16 21:39:31.935859', 0.12, 7.3)\n",
      "('2021-04-16 21:39:32.143497', 1.34139, 1.74049)\n",
      "('2021-04-16 21:39:32.143497', 0.4809, -0.96756)\n"
     ]
    }
   ],
   "source": [
    "# 한번에 하나의 자료 가져오기 : fetchone\n",
    "\n",
    "pointer = con.execute('SELECT * FROM numbs')\n",
    "\n",
    "for i in range(3):\n",
    "    print(pointer.fetchone())"
   ]
  },
  {
   "cell_type": "code",
   "execution_count": 47,
   "metadata": {},
   "outputs": [],
   "source": [
    "con.close()"
   ]
  },
  {
   "cell_type": "markdown",
   "metadata": {},
   "source": [
    "# numpy 사용"
   ]
  },
  {
   "cell_type": "code",
   "execution_count": 48,
   "metadata": {},
   "outputs": [],
   "source": [
    "import numpy as np"
   ]
  },
  {
   "cell_type": "code",
   "execution_count": 49,
   "metadata": {},
   "outputs": [],
   "source": [
    "dtimes = np.arange('2015-01-01 10:00:00', '2021-12-31 22:00:00', dtype = 'datetime64[m]')"
   ]
  },
  {
   "cell_type": "code",
   "execution_count": 50,
   "metadata": {},
   "outputs": [
    {
     "data": {
      "text/plain": [
       "3681360"
      ]
     },
     "execution_count": 50,
     "metadata": {},
     "output_type": "execute_result"
    }
   ],
   "source": [
    "len(dtimes)"
   ]
  },
  {
   "cell_type": "code",
   "execution_count": 51,
   "metadata": {},
   "outputs": [],
   "source": [
    "dty = np.dtype([('Date', 'datetime64[m]'), ('No1', 'f'), ('No2', 'f')])\n",
    "data = np.zeros(len(dtimes), dtype = dty)                                                          "
   ]
  },
  {
   "cell_type": "code",
   "execution_count": 52,
   "metadata": {},
   "outputs": [
    {
     "data": {
      "text/plain": [
       "array([('1970-01-01T00:00', 0., 0.), ('1970-01-01T00:00', 0., 0.),\n",
       "       ('1970-01-01T00:00', 0., 0.), ..., ('1970-01-01T00:00', 0., 0.),\n",
       "       ('1970-01-01T00:00', 0., 0.), ('1970-01-01T00:00', 0., 0.)],\n",
       "      dtype=[('Date', '<M8[m]'), ('No1', '<f4'), ('No2', '<f4')])"
      ]
     },
     "execution_count": 52,
     "metadata": {},
     "output_type": "execute_result"
    }
   ],
   "source": [
    "data"
   ]
  },
  {
   "cell_type": "code",
   "execution_count": 53,
   "metadata": {},
   "outputs": [],
   "source": [
    "data['Date'] = dtimes"
   ]
  },
  {
   "cell_type": "code",
   "execution_count": 54,
   "metadata": {},
   "outputs": [
    {
     "data": {
      "text/plain": [
       "array([('2015-01-01T10:00', 0., 0.), ('2015-01-01T10:01', 0., 0.),\n",
       "       ('2015-01-01T10:02', 0., 0.), ..., ('2021-12-31T21:57', 0., 0.),\n",
       "       ('2021-12-31T21:58', 0., 0.), ('2021-12-31T21:59', 0., 0.)],\n",
       "      dtype=[('Date', '<M8[m]'), ('No1', '<f4'), ('No2', '<f4')])"
      ]
     },
     "execution_count": 54,
     "metadata": {},
     "output_type": "execute_result"
    }
   ],
   "source": [
    "data"
   ]
  },
  {
   "cell_type": "code",
   "execution_count": 55,
   "metadata": {},
   "outputs": [],
   "source": [
    "a = np.random.standard_normal((len(dtimes),2)).round(5)\n",
    "data['No1'] = a[:, 0]\n",
    "data['No2'] = a[:, 1]"
   ]
  },
  {
   "cell_type": "code",
   "execution_count": 56,
   "metadata": {},
   "outputs": [
    {
     "data": {
      "text/plain": [
       "array([('2015-01-01T10:00',  0.97256,  0.2828 ),\n",
       "       ('2015-01-01T10:01',  0.62306,  1.44371),\n",
       "       ('2015-01-01T10:02', -0.80052, -0.30828), ...,\n",
       "       ('2021-12-31T21:57', -1.14674, -2.57806),\n",
       "       ('2021-12-31T21:58',  0.44764, -0.70008),\n",
       "       ('2021-12-31T21:59',  1.15608, -1.38919)],\n",
       "      dtype=[('Date', '<M8[m]'), ('No1', '<f4'), ('No2', '<f4')])"
      ]
     },
     "execution_count": 56,
     "metadata": {},
     "output_type": "execute_result"
    }
   ],
   "source": [
    "data"
   ]
  },
  {
   "cell_type": "code",
   "execution_count": 57,
   "metadata": {},
   "outputs": [
    {
     "name": "stdout",
     "output_type": "stream",
     "text": [
      "Wall time: 112 ms\n"
     ]
    }
   ],
   "source": [
    "%time np.save(path + 'array', data) # ndarray 객체 저장은 최적화 -> 속도 빨라"
   ]
  },
  {
   "cell_type": "code",
   "execution_count": 58,
   "metadata": {},
   "outputs": [
    {
     "name": "stdout",
     "output_type": "stream",
     "text": [
      " C 드라이브의 볼륨에는 이름이 없습니다.\n",
      " 볼륨 일련 번호: A2A3-CC65\n",
      "\n",
      " C:\\Users\\anrnd\\Desktop\\파이썬 금융분석 디렉터리\n",
      "\n",
      "2021-04-16  오후 09:39    <DIR>          path\n",
      "               0개 파일                   0 바이트\n",
      "               1개 디렉터리  285,989,642,240 바이트 남음\n"
     ]
    }
   ],
   "source": [
    "!dir path*"
   ]
  },
  {
   "cell_type": "code",
   "execution_count": 59,
   "metadata": {},
   "outputs": [
    {
     "name": "stdout",
     "output_type": "stream",
     "text": [
      "Wall time: 49.9 ms\n"
     ]
    },
    {
     "data": {
      "text/plain": [
       "array([('2015-01-01T10:00',  0.97256,  0.2828 ),\n",
       "       ('2015-01-01T10:01',  0.62306,  1.44371),\n",
       "       ('2015-01-01T10:02', -0.80052, -0.30828), ...,\n",
       "       ('2021-12-31T21:57', -1.14674, -2.57806),\n",
       "       ('2021-12-31T21:58',  0.44764, -0.70008),\n",
       "       ('2021-12-31T21:59',  1.15608, -1.38919)],\n",
       "      dtype=[('Date', '<M8[m]'), ('No1', '<f4'), ('No2', '<f4')])"
      ]
     },
     "execution_count": 59,
     "metadata": {},
     "output_type": "execute_result"
    }
   ],
   "source": [
    "# 읽는건 더 빨라\n",
    "%time np.load(path + 'array.npy')"
   ]
  },
  {
   "cell_type": "code",
   "execution_count": 60,
   "metadata": {},
   "outputs": [
    {
     "name": "stdout",
     "output_type": "stream",
     "text": [
      "Wall time: 1.27 s\n"
     ]
    }
   ],
   "source": [
    "# 더 용량큰 데이터 \n",
    "data = np.random.standard_normal((10000,6000))\n",
    "%time np.save(path + 'array', data)"
   ]
  },
  {
   "cell_type": "code",
   "execution_count": 61,
   "metadata": {},
   "outputs": [
    {
     "name": "stdout",
     "output_type": "stream",
     "text": [
      " C 드라이브의 볼륨에는 이름이 없습니다.\n",
      " 볼륨 일련 번호: A2A3-CC65\n",
      "\n",
      " C:\\Users\\anrnd\\Desktop\\파이썬 금융분석 디렉터리\n",
      "\n",
      "2021-04-16  오후 09:39    <DIR>          path\n",
      "               0개 파일                   0 바이트\n",
      "               1개 디렉터리  285,568,663,552 바이트 남음\n"
     ]
    }
   ],
   "source": [
    "!dir path*"
   ]
  },
  {
   "cell_type": "code",
   "execution_count": 62,
   "metadata": {},
   "outputs": [
    {
     "name": "stdout",
     "output_type": "stream",
     "text": [
      "Wall time: 377 ms\n"
     ]
    },
    {
     "data": {
      "text/plain": [
       "array([[ 1.43729742,  0.61415607,  0.04064017, ...,  0.63160869,\n",
       "        -1.59505955, -2.12463938],\n",
       "       [-1.32276944,  1.40947248,  0.29226183, ...,  1.03557147,\n",
       "         0.65364339, -0.96238372],\n",
       "       [-0.72489106,  1.23117679,  0.18129605, ..., -1.08935775,\n",
       "        -0.67019921,  0.07242547],\n",
       "       ...,\n",
       "       [ 0.32540664, -1.61685451, -0.05710973, ..., -0.92469873,\n",
       "        -0.17479359, -0.08315673],\n",
       "       [-0.49876257, -1.91003274,  0.23138731, ...,  0.71476019,\n",
       "         0.26135151, -1.02389222],\n",
       "       [ 0.93239208, -0.32563846, -0.82471285, ..., -0.28015539,\n",
       "         2.19123497, -0.76132621]])"
      ]
     },
     "execution_count": 62,
     "metadata": {},
     "output_type": "execute_result"
    }
   ],
   "source": [
    "%time np.load(path + 'array.npy')"
   ]
  },
  {
   "cell_type": "code",
   "execution_count": 63,
   "metadata": {},
   "outputs": [],
   "source": [
    "data = 0"
   ]
  },
  {
   "cell_type": "markdown",
   "metadata": {},
   "source": [
    "# 어떤 경우든 pickle 라이브러리 사용보다 속도면에서 좋다\n",
    "# but, SQL 데이터베이스 기능 사용X -> PyTable 사용"
   ]
  },
  {
   "cell_type": "markdown",
   "metadata": {},
   "source": [
    "# pandas 이용 입출력"
   ]
  },
  {
   "cell_type": "markdown",
   "metadata": {},
   "source": [
    "SQL / pandas 비교"
   ]
  },
  {
   "cell_type": "code",
   "execution_count": 64,
   "metadata": {},
   "outputs": [],
   "source": [
    "import pandas as pd\n",
    "data = np.random.standard_normal((1000000,5)).round(5)\n",
    "filename = path + 'numbs'"
   ]
  },
  {
   "cell_type": "code",
   "execution_count": 65,
   "metadata": {},
   "outputs": [
    {
     "data": {
      "text/plain": [
       "<sqlite3.Cursor at 0x130ae9e8420>"
      ]
     },
     "execution_count": 65,
     "metadata": {},
     "output_type": "execute_result"
    }
   ],
   "source": [
    "query = 'CREATE TABLE numbers (No1 real, No2 real, No3 real, No4 real, No5 real )'\n",
    "con = sq3.connect(filename + '.db')\n",
    "con.execute(query)"
   ]
  },
  {
   "cell_type": "code",
   "execution_count": 66,
   "metadata": {},
   "outputs": [
    {
     "name": "stdout",
     "output_type": "stream",
     "text": [
      "Wall time: 8.69 s\n"
     ]
    }
   ],
   "source": [
    "%%time \n",
    "con.executemany('INSERT INTO numbers VALUES (?, ?, ?, ?, ?)', data)\n",
    "con.commit()"
   ]
  },
  {
   "cell_type": "code",
   "execution_count": 67,
   "metadata": {},
   "outputs": [
    {
     "name": "stdout",
     "output_type": "stream",
     "text": [
      " C 드라이브의 볼륨에는 이름이 없습니다.\n",
      " 볼륨 일련 번호: A2A3-CC65\n",
      "\n",
      " C:\\Users\\anrnd\\Desktop\\파이썬 금융분석 디렉터리\n",
      "\n",
      "2021-04-16  오후 09:39    <DIR>          path\n",
      "               0개 파일                   0 바이트\n",
      "               1개 디렉터리  285,516,099,584 바이트 남음\n"
     ]
    }
   ],
   "source": [
    "!dir path*"
   ]
  },
  {
   "cell_type": "code",
   "execution_count": 68,
   "metadata": {},
   "outputs": [
    {
     "name": "stdout",
     "output_type": "stream",
     "text": [
      "[(-0.87977, 1.13647, 2.2232, 0.74433, -0.62637), (-2.24477, -1.42771, -0.27894, 0.16787, -0.15008)]\n",
      "Wall time: 3.26 s\n"
     ]
    }
   ],
   "source": [
    "%%time \n",
    "temp = con.execute('SELECT * FROM numbers').fetchall() # 한번에 읽어오기\n",
    "print(temp[:2])\n",
    "temp = 0\n",
    "\n",
    "# 테이블을 리스트 객체로 읽어 -> 속도 개선"
   ]
  },
  {
   "cell_type": "code",
   "execution_count": 69,
   "metadata": {},
   "outputs": [
    {
     "name": "stdout",
     "output_type": "stream",
     "text": [
      "Wall time: 1.56 s\n"
     ]
    }
   ],
   "source": [
    "%%time \n",
    "query = 'SELECT * FROM numbers WHERE No1 > 0 AND No2 < 0'\n",
    "res = np.array(con.execute(query).fetchall()).round(3)\n",
    "\n",
    "# SQL 쿼리 결과 -> numpy ndarray 객체로 바로 읽어들이기"
   ]
  },
  {
   "cell_type": "code",
   "execution_count": 70,
   "metadata": {},
   "outputs": [],
   "source": [
    "res = res[::100] # 100의 배수 자리 자료들 출력"
   ]
  },
  {
   "cell_type": "code",
   "execution_count": 71,
   "metadata": {},
   "outputs": [
    {
     "data": {
      "text/plain": [
       "array([[ 0.515, -1.954, -0.345,  0.304,  1.098],\n",
       "       [ 1.111, -0.145,  2.097, -1.052,  0.634],\n",
       "       [ 0.438, -0.724, -1.668,  0.643,  0.094],\n",
       "       ...,\n",
       "       [ 0.163, -2.086, -0.983, -0.641, -0.202],\n",
       "       [ 1.539, -0.192, -2.42 ,  1.393,  0.193],\n",
       "       [ 0.499, -0.213,  1.036,  0.403, -1.753]])"
      ]
     },
     "execution_count": 71,
     "metadata": {},
     "output_type": "execute_result"
    }
   ],
   "source": [
    "res"
   ]
  },
  {
   "cell_type": "code",
   "execution_count": 72,
   "metadata": {},
   "outputs": [
    {
     "data": {
      "text/plain": [
       "2506"
      ]
     },
     "execution_count": 72,
     "metadata": {},
     "output_type": "execute_result"
    }
   ],
   "source": [
    "len(res)"
   ]
  },
  {
   "cell_type": "code",
   "execution_count": 73,
   "metadata": {},
   "outputs": [],
   "source": [
    "import matplotlib.pyplot as plt"
   ]
  },
  {
   "cell_type": "code",
   "execution_count": 74,
   "metadata": {},
   "outputs": [
    {
     "data": {
      "text/plain": [
       "(-4.5, 0.5)"
      ]
     },
     "execution_count": 74,
     "metadata": {},
     "output_type": "execute_result"
    },
    {
     "data": {
      "image/png": "[encoded data removed]",
      "text/plain": [
       "<Figure size 432x288 with 1 Axes>"
      ]
     },
     "metadata": {
      "needs_background": "light"
     },
     "output_type": "display_data"
    }
   ],
   "source": [
    "%matplotlib inline\n",
    "plt.plot(res[:, 0], res[:, 1], 'ro')\n",
    "plt.grid(True)\n",
    "plt.xlim(-0.5, 4.5)\n",
    "plt.ylim(-4.5, 0.5)"
   ]
  },
  {
   "cell_type": "code",
   "execution_count": 75,
   "metadata": {},
   "outputs": [
    {
     "data": {
      "text/plain": [
       "array([[ 0.515, -1.954, -0.345,  0.304,  1.098],\n",
       "       [ 1.111, -0.145,  2.097, -1.052,  0.634],\n",
       "       [ 0.438, -0.724, -1.668,  0.643,  0.094],\n",
       "       ...,\n",
       "       [ 0.163, -2.086, -0.983, -0.641, -0.202],\n",
       "       [ 1.539, -0.192, -2.42 ,  1.393,  0.193],\n",
       "       [ 0.499, -0.213,  1.036,  0.403, -1.753]])"
      ]
     },
     "execution_count": 75,
     "metadata": {},
     "output_type": "execute_result"
    }
   ],
   "source": [
    "res"
   ]
  },
  {
   "cell_type": "code",
   "execution_count": 76,
   "metadata": {},
   "outputs": [
    {
     "data": {
      "text/plain": [
       "array([0.515, 1.111, 0.438, ..., 0.163, 1.539, 0.499])"
      ]
     },
     "execution_count": 76,
     "metadata": {},
     "output_type": "execute_result"
    }
   ],
   "source": [
    "res[:,0]"
   ]
  },
  {
   "cell_type": "markdown",
   "metadata": {},
   "source": [
    "# SQL에서 pandas로 "
   ]
  },
  {
   "cell_type": "code",
   "execution_count": 77,
   "metadata": {},
   "outputs": [],
   "source": [
    "# pandas로 읽는것이 보다 효율적\n",
    "\n",
    "# pandas.io.sql -> SQL 데이터베이스에 저장된 자료를 다루는 함수 포함"
   ]
  },
  {
   "cell_type": "code",
   "execution_count": 78,
   "metadata": {},
   "outputs": [],
   "source": [
    "import pandas.io.sql as pds"
   ]
  },
  {
   "cell_type": "code",
   "execution_count": 79,
   "metadata": {},
   "outputs": [
    {
     "name": "stdout",
     "output_type": "stream",
     "text": [
      "Wall time: 3.89 s\n"
     ]
    }
   ],
   "source": [
    "%time data = pds.read_sql('SELECT * FROM numbers', con)"
   ]
  },
  {
   "cell_type": "code",
   "execution_count": 80,
   "metadata": {},
   "outputs": [
    {
     "data": {
      "text/html": [
       "<div>\n",
       "<style scoped>\n",
       "    .dataframe tbody tr th:only-of-type {\n",
       "        vertical-align: middle;\n",
       "    }\n",
       "\n",
       "    .dataframe tbody tr th {\n",
       "        vertical-align: top;\n",
       "    }\n",
       "\n",
       "    .dataframe thead th {\n",
       "        text-align: right;\n",
       "    }\n",
       "</style>\n",
       "<table border=\"1\" class=\"dataframe\">\n",
       "  <thead>\n",
       "    <tr style=\"text-align: right;\">\n",
       "      <th></th>\n",
       "      <th>No1</th>\n",
       "      <th>No2</th>\n",
       "      <th>No3</th>\n",
       "      <th>No4</th>\n",
       "      <th>No5</th>\n",
       "    </tr>\n",
       "  </thead>\n",
       "  <tbody>\n",
       "    <tr>\n",
       "      <th>0</th>\n",
       "      <td>-0.87977</td>\n",
       "      <td>1.13647</td>\n",
       "      <td>2.22320</td>\n",
       "      <td>0.74433</td>\n",
       "      <td>-0.62637</td>\n",
       "    </tr>\n",
       "    <tr>\n",
       "      <th>1</th>\n",
       "      <td>-2.24477</td>\n",
       "      <td>-1.42771</td>\n",
       "      <td>-0.27894</td>\n",
       "      <td>0.16787</td>\n",
       "      <td>-0.15008</td>\n",
       "    </tr>\n",
       "    <tr>\n",
       "      <th>2</th>\n",
       "      <td>-0.17818</td>\n",
       "      <td>1.42628</td>\n",
       "      <td>0.27880</td>\n",
       "      <td>-1.57474</td>\n",
       "      <td>0.96605</td>\n",
       "    </tr>\n",
       "    <tr>\n",
       "      <th>3</th>\n",
       "      <td>0.51520</td>\n",
       "      <td>-1.95428</td>\n",
       "      <td>-0.34484</td>\n",
       "      <td>0.30403</td>\n",
       "      <td>1.09791</td>\n",
       "    </tr>\n",
       "    <tr>\n",
       "      <th>4</th>\n",
       "      <td>-0.31264</td>\n",
       "      <td>-0.80189</td>\n",
       "      <td>-0.77501</td>\n",
       "      <td>-1.02372</td>\n",
       "      <td>-0.65101</td>\n",
       "    </tr>\n",
       "  </tbody>\n",
       "</table>\n",
       "</div>"
      ],
      "text/plain": [
       "       No1      No2      No3      No4      No5\n",
       "0 -0.87977  1.13647  2.22320  0.74433 -0.62637\n",
       "1 -2.24477 -1.42771 -0.27894  0.16787 -0.15008\n",
       "2 -0.17818  1.42628  0.27880 -1.57474  0.96605\n",
       "3  0.51520 -1.95428 -0.34484  0.30403  1.09791\n",
       "4 -0.31264 -0.80189 -0.77501 -1.02372 -0.65101"
      ]
     },
     "execution_count": 80,
     "metadata": {},
     "output_type": "execute_result"
    }
   ],
   "source": [
    "data.head()"
   ]
  },
  {
   "cell_type": "code",
   "execution_count": 81,
   "metadata": {},
   "outputs": [
    {
     "name": "stdout",
     "output_type": "stream",
     "text": [
      "Wall time: 34.3 ms\n"
     ]
    },
    {
     "data": {
      "text/html": [
       "<div>\n",
       "<style scoped>\n",
       "    .dataframe tbody tr th:only-of-type {\n",
       "        vertical-align: middle;\n",
       "    }\n",
       "\n",
       "    .dataframe tbody tr th {\n",
       "        vertical-align: top;\n",
       "    }\n",
       "\n",
       "    .dataframe thead th {\n",
       "        text-align: right;\n",
       "    }\n",
       "</style>\n",
       "<table border=\"1\" class=\"dataframe\">\n",
       "  <thead>\n",
       "    <tr style=\"text-align: right;\">\n",
       "      <th></th>\n",
       "      <th>No1</th>\n",
       "      <th>No2</th>\n",
       "      <th>No3</th>\n",
       "      <th>No4</th>\n",
       "      <th>No5</th>\n",
       "    </tr>\n",
       "  </thead>\n",
       "  <tbody>\n",
       "    <tr>\n",
       "      <th>3</th>\n",
       "      <td>0.51520</td>\n",
       "      <td>-1.95428</td>\n",
       "      <td>-0.34484</td>\n",
       "      <td>0.30403</td>\n",
       "      <td>1.09791</td>\n",
       "    </tr>\n",
       "    <tr>\n",
       "      <th>6</th>\n",
       "      <td>0.81600</td>\n",
       "      <td>-0.04880</td>\n",
       "      <td>0.68699</td>\n",
       "      <td>-0.89672</td>\n",
       "      <td>-1.12476</td>\n",
       "    </tr>\n",
       "    <tr>\n",
       "      <th>10</th>\n",
       "      <td>0.41642</td>\n",
       "      <td>-0.14334</td>\n",
       "      <td>2.04544</td>\n",
       "      <td>-0.47084</td>\n",
       "      <td>0.17488</td>\n",
       "    </tr>\n",
       "    <tr>\n",
       "      <th>14</th>\n",
       "      <td>0.29891</td>\n",
       "      <td>-1.15608</td>\n",
       "      <td>0.78574</td>\n",
       "      <td>0.13816</td>\n",
       "      <td>0.53641</td>\n",
       "    </tr>\n",
       "    <tr>\n",
       "      <th>24</th>\n",
       "      <td>0.91017</td>\n",
       "      <td>-0.68287</td>\n",
       "      <td>-0.67224</td>\n",
       "      <td>-0.44972</td>\n",
       "      <td>-0.31058</td>\n",
       "    </tr>\n",
       "  </tbody>\n",
       "</table>\n",
       "</div>"
      ],
      "text/plain": [
       "        No1      No2      No3      No4      No5\n",
       "3   0.51520 -1.95428 -0.34484  0.30403  1.09791\n",
       "6   0.81600 -0.04880  0.68699 -0.89672 -1.12476\n",
       "10  0.41642 -0.14334  2.04544 -0.47084  0.17488\n",
       "14  0.29891 -1.15608  0.78574  0.13816  0.53641\n",
       "24  0.91017 -0.68287 -0.67224 -0.44972 -0.31058"
      ]
     },
     "execution_count": 81,
     "metadata": {},
     "output_type": "execute_result"
    }
   ],
   "source": [
    "%time data[(data['No1'] > 0) & (data['No2'] < 0)].head()"
   ]
  },
  {
   "cell_type": "code",
   "execution_count": 82,
   "metadata": {},
   "outputs": [
    {
     "name": "stdout",
     "output_type": "stream",
     "text": [
      "Wall time: 53.9 ms\n"
     ]
    }
   ],
   "source": [
    "%%time \n",
    "res = data[['No1', 'No2']][((data['No1'] > 0.5) | (data['No1'] < -0.5)) & \n",
    "                           ((data['No2'] < -1) | (data['No2'] > 1))]"
   ]
  },
  {
   "cell_type": "code",
   "execution_count": 83,
   "metadata": {},
   "outputs": [
    {
     "data": {
      "text/plain": [
       "(-4.895586, 5.068566, -4.7434665, 5.0455765)"
      ]
     },
     "execution_count": 83,
     "metadata": {},
     "output_type": "execute_result"
    },
    {
     "data": {
      "image/png": "[encoded data removed]",
      "text/plain": [
       "<Figure size 432x288 with 1 Axes>"
      ]
     },
     "metadata": {
      "needs_background": "light"
     },
     "output_type": "display_data"
    }
   ],
   "source": [
    "plt.plot(res.No1, res.No2, 'ro')\n",
    "plt.grid(True)\n",
    "plt.axis('tight')"
   ]
  },
  {
   "cell_type": "code",
   "execution_count": 84,
   "metadata": {},
   "outputs": [],
   "source": [
    "import sys\n",
    "sys._enablelegacywindowsfsencoding()"
   ]
  },
  {
   "cell_type": "markdown",
   "metadata": {},
   "source": [
    "pandas와 pytable 결합 -> 속도 더 개선 /\n",
    "import sys /\n",
    "sys._enablelegacywindowsfsencoding() 이 두줄 하면 pytable 실행가능"
   ]
  },
  {
   "cell_type": "code",
   "execution_count": 85,
   "metadata": {},
   "outputs": [
    {
     "name": "stdout",
     "output_type": "stream",
     "text": [
      "Wall time: 132 ms\n"
     ]
    }
   ],
   "source": [
    "h5s = pd.HDFStore(filename + '.h5s', 'w')\n",
    "%time h5s['data'] = data"
   ]
  },
  {
   "cell_type": "code",
   "execution_count": 86,
   "metadata": {},
   "outputs": [
    {
     "data": {
      "text/plain": [
       "<class 'pandas.io.pytables.HDFStore'>\n",
       "File path: C:/Users/anrnd/Desktop/파이썬 금융분석/path/numbs.h5s"
      ]
     },
     "execution_count": 86,
     "metadata": {},
     "output_type": "execute_result"
    }
   ],
   "source": [
    "h5s"
   ]
  },
  {
   "cell_type": "code",
   "execution_count": 87,
   "metadata": {},
   "outputs": [],
   "source": [
    "h5s.close()"
   ]
  },
  {
   "cell_type": "code",
   "execution_count": 88,
   "metadata": {},
   "outputs": [
    {
     "name": "stdout",
     "output_type": "stream",
     "text": [
      "Wall time: 93.3 ms\n"
     ]
    }
   ],
   "source": [
    "%%time\n",
    "h5s = pd.HDFStore(filename + '.h5s', 'r')\n",
    "temp = h5s['data']\n",
    "h5s.close()"
   ]
  },
  {
   "cell_type": "code",
   "execution_count": 89,
   "metadata": {},
   "outputs": [
    {
     "data": {
      "text/plain": [
       "True"
      ]
     },
     "execution_count": 89,
     "metadata": {},
     "output_type": "execute_result"
    }
   ],
   "source": [
    "np.allclose(np.array(temp), np.array(data))"
   ]
  },
  {
   "cell_type": "code",
   "execution_count": 90,
   "metadata": {},
   "outputs": [],
   "source": [
    "temp = 0"
   ]
  },
  {
   "cell_type": "markdown",
   "metadata": {},
   "source": [
    "#  CSV 파일 저장"
   ]
  },
  {
   "cell_type": "code",
   "execution_count": 91,
   "metadata": {},
   "outputs": [
    {
     "name": "stdout",
     "output_type": "stream",
     "text": [
      "Wall time: 8.74 s\n"
     ]
    }
   ],
   "source": [
    "%time data.to_csv(filename + '.csv')"
   ]
  },
  {
   "cell_type": "code",
   "execution_count": 93,
   "metadata": {
    "scrolled": true
   },
   "outputs": [
    {
     "name": "stdout",
     "output_type": "stream",
     "text": [
      "Wall time: 9.99 s\n"
     ]
    },
    {
     "data": {
      "text/plain": [
       "array([[<matplotlib.axes._subplots.AxesSubplot object at 0x00000130C2A13D88>,\n",
       "        <matplotlib.axes._subplots.AxesSubplot object at 0x00000130D2F9AE48>],\n",
       "       [<matplotlib.axes._subplots.AxesSubplot object at 0x00000130AEA0B6C8>,\n",
       "        <matplotlib.axes._subplots.AxesSubplot object at 0x0000013082859DC8>]],\n",
       "      dtype=object)"
      ]
     },
     "execution_count": 93,
     "metadata": {},
     "output_type": "execute_result"
    },
    {
     "data": {
      "image/png": "[encoded data removed]",
      "text/plain": [
       "<Figure size 432x288 with 4 Axes>"
      ]
     },
     "metadata": {
      "needs_background": "light"
     },
     "output_type": "display_data"
    }
   ],
   "source": [
    "%%time\n",
    "pd.read_csv(filename + '.csv', engine=\"python\")[['No1','No2','No3','No4']].hist(bins = 20)"
   ]
  },
  {
   "cell_type": "markdown",
   "metadata": {},
   "source": [
    "#  엑셀파일 저장"
   ]
  },
  {
   "cell_type": "code",
   "execution_count": 94,
   "metadata": {},
   "outputs": [
    {
     "name": "stdout",
     "output_type": "stream",
     "text": [
      "Wall time: 9.28 s\n"
     ]
    }
   ],
   "source": [
    "%time data[:100000].to_excel(filename + '.xlsx', index = False) \n",
    "\n",
    "# 자료 일부분인데도 시간 오래 걸린다"
   ]
  },
  {
   "cell_type": "code",
   "execution_count": 95,
   "metadata": {},
   "outputs": [
    {
     "name": "stdout",
     "output_type": "stream",
     "text": [
      "Wall time: 6.06 s\n"
     ]
    },
    {
     "data": {
      "text/plain": [
       "<matplotlib.axes._subplots.AxesSubplot at 0x13080098bc8>"
      ]
     },
     "execution_count": 95,
     "metadata": {},
     "output_type": "execute_result"
    },
    {
     "data": {
      "image/png": "[encoded data removed]",
      "text/plain": [
       "<Figure size 432x288 with 1 Axes>"
      ]
     },
     "metadata": {
      "needs_background": "light"
     },
     "output_type": "display_data"
    }
   ],
   "source": [
    "%time pd.read_excel(filename + '.xlsx', 'Sheet1').cumsum().plot()"
   ]
  },
  {
   "cell_type": "markdown",
   "metadata": {},
   "source": [
    "#  PyTables 이용 고속 입출력"
   ]
  },
  {
   "cell_type": "code",
   "execution_count": 96,
   "metadata": {},
   "outputs": [],
   "source": [
    "# HDF5 : 데이터베이스 파일 표준의 파이썬 바인딩\n",
    "# -> 입출력 연산의 성능 최적화 & 가용 하드웨어 최대한 이용하도록 설계되어있다"
   ]
  },
  {
   "cell_type": "code",
   "execution_count": 97,
   "metadata": {},
   "outputs": [],
   "source": [
    "import numpy as np\n",
    "import tables as tb\n",
    "import datetime as dt\n",
    "import matplotlib.pyplot as plt\n",
    "%matplotlib inline"
   ]
  },
  {
   "cell_type": "code",
   "execution_count": 98,
   "metadata": {},
   "outputs": [],
   "source": [
    "filename = path + 'tab.h5'\n",
    "h5 = tb.open_file(filename, 'w')\n",
    "# pytable : 파일 기반의 데이터베이스 제공 "
   ]
  },
  {
   "cell_type": "code",
   "execution_count": 99,
   "metadata": {},
   "outputs": [],
   "source": [
    "rows = 2000000"
   ]
  },
  {
   "cell_type": "code",
   "execution_count": 100,
   "metadata": {},
   "outputs": [],
   "source": [
    "row_des = {'Date': tb.StringCol(26, pos = 1),\n",
    "          'No1': tb.IntCol(pos = 2),\n",
    "          'No2': tb.IntCol(pos = 3),\n",
    "          'No3': tb.Float64Col(pos = 4),\n",
    "          'No4': tb.Float64Col(pos = 5)} # 날짜, 두개의 정수, 두개의 부동소수점 "
   ]
  },
  {
   "cell_type": "code",
   "execution_count": 101,
   "metadata": {},
   "outputs": [],
   "source": [
    "filters = tb.Filters(complevel = 0) # 데이터 필터링 & 제한\n",
    "tab = h5.create_table('/', 'int_floats', row_des, \n",
    "                     title = 'Integers and Floats', \n",
    "                     expectedrows = rows, filters = filters)"
   ]
  },
  {
   "cell_type": "code",
   "execution_count": 102,
   "metadata": {},
   "outputs": [
    {
     "data": {
      "text/plain": [
       "/int_floats (Table(0,)) 'Integers and Floats'\n",
       "  description := {\n",
       "  \"Date\": StringCol(itemsize=26, shape=(), dflt=b'', pos=0),\n",
       "  \"No1\": Int32Col(shape=(), dflt=0, pos=1),\n",
       "  \"No2\": Int32Col(shape=(), dflt=0, pos=2),\n",
       "  \"No3\": Float64Col(shape=(), dflt=0.0, pos=3),\n",
       "  \"No4\": Float64Col(shape=(), dflt=0.0, pos=4)}\n",
       "  byteorder := 'little'\n",
       "  chunkshape := (2621,)"
      ]
     },
     "execution_count": 102,
     "metadata": {},
     "output_type": "execute_result"
    }
   ],
   "source": [
    "tab"
   ]
  },
  {
   "cell_type": "code",
   "execution_count": 103,
   "metadata": {},
   "outputs": [],
   "source": [
    "pointer = tab.row"
   ]
  },
  {
   "cell_type": "code",
   "execution_count": 104,
   "metadata": {},
   "outputs": [
    {
     "data": {
      "text/plain": [
       "/int_floats.row (Row), pointing to row #0"
      ]
     },
     "execution_count": 104,
     "metadata": {},
     "output_type": "execute_result"
    }
   ],
   "source": [
    "pointer"
   ]
  },
  {
   "cell_type": "code",
   "execution_count": 105,
   "metadata": {},
   "outputs": [],
   "source": [
    "ran_int = np.random.randint(0,10000,size = (rows,2))\n",
    "ran_flo = np.random.standard_normal((rows,2)).round(5) # 샘플 자료 생성"
   ]
  },
  {
   "cell_type": "code",
   "execution_count": 106,
   "metadata": {},
   "outputs": [
    {
     "name": "stdout",
     "output_type": "stream",
     "text": [
      "Wall time: 8 s\n"
     ]
    }
   ],
   "source": [
    "%%time\n",
    "for i in range(rows):\n",
    "    pointer['Date'] = dt.datetime.now()\n",
    "    pointer['No1'] = ran_int[i,0]\n",
    "    pointer['No2'] = ran_int[i,1]\n",
    "    pointer['No3'] = ran_flo[i,0]\n",
    "    pointer['No4'] = ran_flo[i,1]\n",
    "    pointer.append() # 자료 추가 후 포인터를 한행 뒤로 옮겨준다\n",
    "tab.flush()  # 자료 넣은 후 commit 역활! 잊으면 안돼!"
   ]
  },
  {
   "cell_type": "code",
   "execution_count": 107,
   "metadata": {},
   "outputs": [
    {
     "data": {
      "text/plain": [
       "/int_floats (Table(2000000,)) 'Integers and Floats'\n",
       "  description := {\n",
       "  \"Date\": StringCol(itemsize=26, shape=(), dflt=b'', pos=0),\n",
       "  \"No1\": Int32Col(shape=(), dflt=0, pos=1),\n",
       "  \"No2\": Int32Col(shape=(), dflt=0, pos=2),\n",
       "  \"No3\": Float64Col(shape=(), dflt=0.0, pos=3),\n",
       "  \"No4\": Float64Col(shape=(), dflt=0.0, pos=4)}\n",
       "  byteorder := 'little'\n",
       "  chunkshape := (2621,)"
      ]
     },
     "execution_count": 107,
     "metadata": {},
     "output_type": "execute_result"
    }
   ],
   "source": [
    "tab"
   ]
  },
  {
   "cell_type": "code",
   "execution_count": 108,
   "metadata": {},
   "outputs": [],
   "source": [
    "## Numpy 구조화 배열 활용 -> 같은 결과 "
   ]
  },
  {
   "cell_type": "code",
   "execution_count": 109,
   "metadata": {},
   "outputs": [],
   "source": [
    "dty = np.dtype([('Date', 'S26'), ('No1', '<i4'), ('No2', '<i4'),\n",
    "                                 ('No3', '<i8'), ('No4', '<i8')])\n",
    "sarray = np.zeros(len(ran_int), dtype = dty)"
   ]
  },
  {
   "cell_type": "code",
   "execution_count": 110,
   "metadata": {},
   "outputs": [
    {
     "data": {
      "text/plain": [
       "array([(b'', 0, 0, 0, 0), (b'', 0, 0, 0, 0), (b'', 0, 0, 0, 0), ...,\n",
       "       (b'', 0, 0, 0, 0), (b'', 0, 0, 0, 0), (b'', 0, 0, 0, 0)],\n",
       "      dtype=[('Date', 'S26'), ('No1', '<i4'), ('No2', '<i4'), ('No3', '<i8'), ('No4', '<i8')])"
      ]
     },
     "execution_count": 110,
     "metadata": {},
     "output_type": "execute_result"
    }
   ],
   "source": [
    "sarray"
   ]
  },
  {
   "cell_type": "code",
   "execution_count": 111,
   "metadata": {},
   "outputs": [
    {
     "name": "stdout",
     "output_type": "stream",
     "text": [
      "Wall time: 100 ms\n"
     ]
    }
   ],
   "source": [
    "%%time\n",
    "sarray['Date'] = dt.datetime.now()\n",
    "sarray['No1'] = ran_int[:,0]\n",
    "sarray['No2'] = ran_int[:,1]\n",
    "sarray['No3'] = ran_flo[:,0]\n",
    "sarray['No4'] = ran_flo[:,1]    "
   ]
  },
  {
   "cell_type": "code",
   "execution_count": 112,
   "metadata": {},
   "outputs": [
    {
     "name": "stdout",
     "output_type": "stream",
     "text": [
      "Wall time: 128 ms\n"
     ]
    },
    {
     "data": {
      "text/plain": [
       "/ints_floats_from_array (Table(2000000,)) 'Integers and Floats'\n",
       "  description := {\n",
       "  \"Date\": StringCol(itemsize=26, shape=(), dflt=b'', pos=0),\n",
       "  \"No1\": Int32Col(shape=(), dflt=0, pos=1),\n",
       "  \"No2\": Int32Col(shape=(), dflt=0, pos=2),\n",
       "  \"No3\": Int64Col(shape=(), dflt=0, pos=3),\n",
       "  \"No4\": Int64Col(shape=(), dflt=0, pos=4)}\n",
       "  byteorder := 'little'\n",
       "  chunkshape := (2621,)"
      ]
     },
     "execution_count": 112,
     "metadata": {},
     "output_type": "execute_result"
    }
   ],
   "source": [
    "%%time\n",
    "h5.create_table('/', 'ints_floats_from_array', sarray,\n",
    "               title = 'Integers and Floats',\n",
    "               expectedrows = rows, filters = filters) # 위의 방법보다 빠르다 (이전 : 약 15초)"
   ]
  },
  {
   "cell_type": "code",
   "execution_count": 113,
   "metadata": {},
   "outputs": [
    {
     "data": {
      "text/plain": [
       "File(filename=C:/Users/anrnd/Desktop/파이썬 금융분석/path/tab.h5, title='', mode='w', root_uep='/', filters=Filters(complevel=0, shuffle=False, bitshuffle=False, fletcher32=False, least_significant_digit=None))\n",
       "/ (RootGroup) ''\n",
       "/int_floats (Table(2000000,)) 'Integers and Floats'\n",
       "  description := {\n",
       "  \"Date\": StringCol(itemsize=26, shape=(), dflt=b'', pos=0),\n",
       "  \"No1\": Int32Col(shape=(), dflt=0, pos=1),\n",
       "  \"No2\": Int32Col(shape=(), dflt=0, pos=2),\n",
       "  \"No3\": Float64Col(shape=(), dflt=0.0, pos=3),\n",
       "  \"No4\": Float64Col(shape=(), dflt=0.0, pos=4)}\n",
       "  byteorder := 'little'\n",
       "  chunkshape := (2621,)\n",
       "/ints_floats_from_array (Table(2000000,)) 'Integers and Floats'\n",
       "  description := {\n",
       "  \"Date\": StringCol(itemsize=26, shape=(), dflt=b'', pos=0),\n",
       "  \"No1\": Int32Col(shape=(), dflt=0, pos=1),\n",
       "  \"No2\": Int32Col(shape=(), dflt=0, pos=2),\n",
       "  \"No3\": Int64Col(shape=(), dflt=0, pos=3),\n",
       "  \"No4\": Int64Col(shape=(), dflt=0, pos=4)}\n",
       "  byteorder := 'little'\n",
       "  chunkshape := (2621,)"
      ]
     },
     "execution_count": 113,
     "metadata": {},
     "output_type": "execute_result"
    }
   ],
   "source": [
    "h5"
   ]
  },
  {
   "cell_type": "code",
   "execution_count": 114,
   "metadata": {},
   "outputs": [],
   "source": [
    "h5.remove_node('/', 'ints_floats_from_array') # 중복된 테이블 삭제\n",
    "                                              # array쓴게 좀더 빠르다는거 보여주기위해 했던것이므로"
   ]
  },
  {
   "cell_type": "code",
   "execution_count": 115,
   "metadata": {},
   "outputs": [],
   "source": [
    "# Table 객체 : 부분접근 불가능"
   ]
  },
  {
   "cell_type": "code",
   "execution_count": 116,
   "metadata": {},
   "outputs": [
    {
     "data": {
      "text/plain": [
       "array([(b'2021-04-16 21:48:55.614231', 7780,   12, -0.39168,  0.05533),\n",
       "       (b'2021-04-16 21:48:55.614231', 5154, 7566, -0.02879, -0.55862),\n",
       "       (b'2021-04-16 21:48:55.614231', 6156, 4267, -0.97035,  1.23674)],\n",
       "      dtype=[('Date', 'S26'), ('No1', '<i4'), ('No2', '<i4'), ('No3', '<f8'), ('No4', '<f8')])"
      ]
     },
     "execution_count": 116,
     "metadata": {},
     "output_type": "execute_result"
    }
   ],
   "source": [
    "tab[:3]  # 행 선택"
   ]
  },
  {
   "cell_type": "code",
   "execution_count": 117,
   "metadata": {},
   "outputs": [
    {
     "data": {
      "text/plain": [
       "array([ 0.05533, -0.55862,  1.23674,  0.65649])"
      ]
     },
     "execution_count": 117,
     "metadata": {},
     "output_type": "execute_result"
    }
   ],
   "source": [
    "tab[:4]['No4']  # 열만 선택"
   ]
  },
  {
   "cell_type": "code",
   "execution_count": 118,
   "metadata": {},
   "outputs": [
    {
     "data": {
      "text/plain": [
       "7566"
      ]
     },
     "execution_count": 118,
     "metadata": {},
     "output_type": "execute_result"
    }
   ],
   "source": [
    "tab[1][2]"
   ]
  },
  {
   "cell_type": "code",
   "execution_count": 119,
   "metadata": {},
   "outputs": [
    {
     "name": "stdout",
     "output_type": "stream",
     "text": [
      "Wall time: 135 ms\n"
     ]
    },
    {
     "data": {
      "text/plain": [
       "1074.1011799999987"
      ]
     },
     "execution_count": 119,
     "metadata": {},
     "output_type": "execute_result"
    }
   ],
   "source": [
    "# Numpy 유니버셜 함수를 테이블 or 테이블의 부분집합에 적용가능\n",
    "%time np.sum(tab[:]['No3'])"
   ]
  },
  {
   "cell_type": "code",
   "execution_count": 120,
   "metadata": {},
   "outputs": [
    {
     "name": "stdout",
     "output_type": "stream",
     "text": [
      "Wall time: 140 ms\n"
     ]
    },
    {
     "data": {
      "text/plain": [
       "133385648.53978434"
      ]
     },
     "execution_count": 120,
     "metadata": {},
     "output_type": "execute_result"
    }
   ],
   "source": [
    "%time np.sum(np.sqrt(tab[:]['No1']))"
   ]
  },
  {
   "cell_type": "code",
   "execution_count": 121,
   "metadata": {},
   "outputs": [
    {
     "name": "stdout",
     "output_type": "stream",
     "text": [
      "Wall time: 258 ms\n"
     ]
    },
    {
     "data": {
      "image/png": "[encoded data removed]",
      "text/plain": [
       "<Figure size 432x288 with 1 Axes>"
      ]
     },
     "metadata": {
      "needs_background": "light"
     },
     "output_type": "display_data"
    }
   ],
   "source": [
    "%%time\n",
    "plt.hist(tab[:]['No3'], bins = 30)\n",
    "plt.grid(True)\n",
    "# 그래프 생성은 ndarray와 비슷하게 작동"
   ]
  },
  {
   "cell_type": "code",
   "execution_count": 122,
   "metadata": {},
   "outputs": [
    {
     "name": "stdout",
     "output_type": "stream",
     "text": [
      "Wall time: 625 ms\n"
     ]
    }
   ],
   "source": [
    "%%time\n",
    "res = np.array([(row['No3'],row['No4']) for row in\n",
    "                tab.where('((No3 < -0.5) | (No3 > 0.5)) \\\n",
    "                & ((No4 < -1) | (No4 > 1))')])[::100]"
   ]
  },
  {
   "cell_type": "code",
   "execution_count": 123,
   "metadata": {},
   "outputs": [
    {
     "data": {
      "image/png": "[encoded data removed]",
      "text/plain": [
       "<Figure size 432x288 with 1 Axes>"
      ]
     },
     "metadata": {
      "needs_background": "light"
     },
     "output_type": "display_data"
    }
   ],
   "source": [
    "plt.plot(res.T[0], res.T[1], 'ro')\n",
    "plt.grid(True)"
   ]
  },
  {
   "cell_type": "code",
   "execution_count": 124,
   "metadata": {},
   "outputs": [
    {
     "name": "stdout",
     "output_type": "stream",
     "text": [
      "Max              4.886\n",
      "Ave              0.001\n",
      "Min             -5.247\n",
      "Std              1.000\n",
      "Wall time: 107 ms\n"
     ]
    }
   ],
   "source": [
    "%%time\n",
    "values = tab.cols.No3[:]\n",
    "print(\"Max %18.3f\" % values.max())\n",
    "print(\"Ave %18.3f\" % values.mean())\n",
    "print(\"Min %18.3f\" % values.min())\n",
    "print(\"Std %18.3f\" % values.std())"
   ]
  },
  {
   "cell_type": "code",
   "execution_count": 125,
   "metadata": {},
   "outputs": [
    {
     "name": "stdout",
     "output_type": "stream",
     "text": [
      "(9906, 4734)\n",
      "(181, 5088)\n",
      "(7, 4806)\n",
      "(9828, 4870)\n",
      "Wall time: 150 ms\n"
     ]
    }
   ],
   "source": [
    "%%time\n",
    "results = [(row['No1'], row['No2']) for row in\n",
    "          tab.where('((No1 > 9800) | (No1 < 200)) \\\n",
    "          & ((No2 > 4500) & (No2 < 5500))')]\n",
    "\n",
    "for res in results[:4]:\n",
    "    print(res)"
   ]
  },
  {
   "cell_type": "code",
   "execution_count": 126,
   "metadata": {},
   "outputs": [
    {
     "name": "stdout",
     "output_type": "stream",
     "text": [
      "(1234, 9915)\n",
      "(1234, 9937)\n",
      "Wall time: 132 ms\n"
     ]
    }
   ],
   "source": [
    "%%time\n",
    "results = [(row['No1'], row['No2']) for row in\n",
    "          tab.where('(No1 == 1234) & (No2 > 9776)')]\n",
    "\n",
    "for res in results:\n",
    "    print(res)"
   ]
  },
  {
   "cell_type": "markdown",
   "metadata": {},
   "source": [
    "# 압축된 테이블 "
   ]
  },
  {
   "cell_type": "code",
   "execution_count": 127,
   "metadata": {},
   "outputs": [],
   "source": [
    "# 압축 -> 디스크 공간 절약 & 입출력 연산 성능 개선"
   ]
  },
  {
   "cell_type": "code",
   "execution_count": 128,
   "metadata": {},
   "outputs": [],
   "source": [
    "# tab : 압축 x\n",
    "# tabc : 압축 o"
   ]
  },
  {
   "cell_type": "code",
   "execution_count": 129,
   "metadata": {},
   "outputs": [],
   "source": [
    "filename = path + 'tab.h5c'\n",
    "h5c = tb.open_file(filename, 'w')"
   ]
  },
  {
   "cell_type": "code",
   "execution_count": 130,
   "metadata": {},
   "outputs": [],
   "source": [
    "filters = tb.Filters(complevel = 4, complib = 'blosc') # complevel : 압축수준 0~9로 complib : 압축파일 저장 라이브러리 지정\n",
    "tabc = h5c.create_table('/', 'ints_floats', sarray,\n",
    "                       title = 'Integers and Floats',\n",
    "                       expectedrows = rows, filters = filters)"
   ]
  },
  {
   "cell_type": "code",
   "execution_count": 131,
   "metadata": {},
   "outputs": [
    {
     "name": "stdout",
     "output_type": "stream",
     "text": [
      "Wall time: 334 ms\n"
     ]
    }
   ],
   "source": [
    "%%time\n",
    "res = np.array([(row['No3'], row['No4']) for row in\n",
    "               tabc.where('((No3 < -0.5) | (No3 > 0.5)) \\\n",
    "                          & ((No4 < -1) | (No4 > 1))')])[::100] # 난 왜 더 빠를까..? p.242와 p.244 비교"
   ]
  },
  {
   "cell_type": "code",
   "execution_count": 132,
   "metadata": {},
   "outputs": [
    {
     "name": "stdout",
     "output_type": "stream",
     "text": [
      "Wall time: 103 ms\n"
     ]
    }
   ],
   "source": [
    "%time arr_non = tab.read()"
   ]
  },
  {
   "cell_type": "code",
   "execution_count": 133,
   "metadata": {},
   "outputs": [
    {
     "name": "stdout",
     "output_type": "stream",
     "text": [
      "Wall time: 188 ms\n"
     ]
    }
   ],
   "source": [
    "%time arr_com = tabc.read()  # 읽기 속도 : 압축한게 훨씬 오래 걸린다\n",
    "                             # BUT, 압축 -> 디스크 공간 절약 -> 백업, 서버 사이 or 데이터 센터 사이 대량 자료 전성에 중요"
   ]
  },
  {
   "cell_type": "code",
   "execution_count": 134,
   "metadata": {},
   "outputs": [],
   "source": [
    "h5c.close()"
   ]
  },
  {
   "cell_type": "markdown",
   "metadata": {},
   "source": [
    "# 배열 다루기"
   ]
  },
  {
   "cell_type": "code",
   "execution_count": 135,
   "metadata": {},
   "outputs": [],
   "source": [
    "# pytable에서도 ndarray 빠르고 효율적으로 읽거나 저장 가능"
   ]
  },
  {
   "cell_type": "code",
   "execution_count": 136,
   "metadata": {},
   "outputs": [
    {
     "name": "stdout",
     "output_type": "stream",
     "text": [
      "Wall time: 48 ms\n"
     ]
    }
   ],
   "source": [
    "%%time\n",
    "arr_int = h5.create_array('/', 'integers', ran_int)\n",
    "arr_flo = h5.create_array('/', 'floats', ran_flo)\n",
    "# -> 한줄씩 table에 쓰는것 보다 훨씬 빠르다 p.238과 p.245비교"
   ]
  },
  {
   "cell_type": "code",
   "execution_count": 137,
   "metadata": {},
   "outputs": [
    {
     "data": {
      "text/plain": [
       "File(filename=C:/Users/anrnd/Desktop/파이썬 금융분석/path/tab.h5, title='', mode='w', root_uep='/', filters=Filters(complevel=0, shuffle=False, bitshuffle=False, fletcher32=False, least_significant_digit=None))\n",
       "/ (RootGroup) ''\n",
       "/floats (Array(2000000, 2)) ''\n",
       "  atom := Float64Atom(shape=(), dflt=0.0)\n",
       "  maindim := 0\n",
       "  flavor := 'numpy'\n",
       "  byteorder := 'little'\n",
       "  chunkshape := None\n",
       "/int_floats (Table(2000000,)) 'Integers and Floats'\n",
       "  description := {\n",
       "  \"Date\": StringCol(itemsize=26, shape=(), dflt=b'', pos=0),\n",
       "  \"No1\": Int32Col(shape=(), dflt=0, pos=1),\n",
       "  \"No2\": Int32Col(shape=(), dflt=0, pos=2),\n",
       "  \"No3\": Float64Col(shape=(), dflt=0.0, pos=3),\n",
       "  \"No4\": Float64Col(shape=(), dflt=0.0, pos=4)}\n",
       "  byteorder := 'little'\n",
       "  chunkshape := (2621,)\n",
       "/integers (Array(2000000, 2)) ''\n",
       "  atom := Int32Atom(shape=(), dflt=0)\n",
       "  maindim := 0\n",
       "  flavor := 'numpy'\n",
       "  byteorder := 'little'\n",
       "  chunkshape := None"
      ]
     },
     "execution_count": 137,
     "metadata": {},
     "output_type": "execute_result"
    }
   ],
   "source": [
    "h5"
   ]
  },
  {
   "cell_type": "code",
   "execution_count": 138,
   "metadata": {},
   "outputs": [],
   "source": [
    "h5.close()"
   ]
  },
  {
   "cell_type": "markdown",
   "metadata": {},
   "source": [
    "# out-of-memory 연산"
   ]
  },
  {
   "cell_type": "code",
   "execution_count": 139,
   "metadata": {},
   "outputs": [],
   "source": [
    "# 메모리보다 큰 배열의 연산을 구현 가능하게 해준다"
   ]
  },
  {
   "cell_type": "code",
   "execution_count": 140,
   "metadata": {},
   "outputs": [],
   "source": [
    "filename = path +'array.h5'\n",
    "h5 = tb.open_file(filename, 'w')"
   ]
  },
  {
   "cell_type": "code",
   "execution_count": 141,
   "metadata": {},
   "outputs": [],
   "source": [
    "# EArray : 확장 가능 배열??"
   ]
  },
  {
   "cell_type": "code",
   "execution_count": 142,
   "metadata": {},
   "outputs": [],
   "source": [
    "# 첫 번째 차원 : 확장가능, 두 번째 차원 : 1000개의 고정 폭 \n",
    "n = 1000\n",
    "ear = h5.create_earray(h5.root, 'ear',\n",
    "                     atom = tb.Float64Atom(),\n",
    "                     shape = (0,n))"
   ]
  },
  {
   "cell_type": "code",
   "execution_count": 143,
   "metadata": {},
   "outputs": [
    {
     "name": "stdout",
     "output_type": "stream",
     "text": [
      "Wall time: 2.72 s\n"
     ]
    }
   ],
   "source": [
    "%%time\n",
    "rand = np.random.standard_normal((n,n))\n",
    "for i in range(300):\n",
    "    ear.append(rand)\n",
    "ear.flush()"
   ]
  },
  {
   "cell_type": "code",
   "execution_count": 144,
   "metadata": {},
   "outputs": [
    {
     "data": {
      "text/plain": [
       "/ear (EArray(300000, 1000)) ''\n",
       "  atom := Float64Atom(shape=(), dflt=0.0)\n",
       "  maindim := 0\n",
       "  flavor := 'numpy'\n",
       "  byteorder := 'little'\n",
       "  chunkshape := (8, 1000)"
      ]
     },
     "execution_count": 144,
     "metadata": {},
     "output_type": "execute_result"
    }
   ],
   "source": [
    "ear  # chunkshape 질문"
   ]
  },
  {
   "cell_type": "code",
   "execution_count": 145,
   "metadata": {},
   "outputs": [
    {
     "data": {
      "text/plain": [
       "2400000000"
      ]
     },
     "execution_count": 145,
     "metadata": {},
     "output_type": "execute_result"
    }
   ],
   "source": [
    "ear.size_on_disk # 객체크기 : 6GB"
   ]
  },
  {
   "cell_type": "markdown",
   "metadata": {},
   "source": [
    "수치 표현식을 효율적으로 : Expr 모듈"
   ]
  },
  {
   "cell_type": "code",
   "execution_count": 146,
   "metadata": {},
   "outputs": [],
   "source": [
    "out = h5.create_earray(h5.root, 'out',\n",
    "                      atom = tb.Float64Atom(),\n",
    "                      shape = (0, n))"
   ]
  },
  {
   "cell_type": "code",
   "execution_count": 147,
   "metadata": {},
   "outputs": [
    {
     "name": "stdout",
     "output_type": "stream",
     "text": [
      "Wall time: 7.98 s\n"
     ]
    },
    {
     "data": {
      "text/plain": [
       "/out (EArray(300000, 1000)) ''\n",
       "  atom := Float64Atom(shape=(), dflt=0.0)\n",
       "  maindim := 0\n",
       "  flavor := 'numpy'\n",
       "  byteorder := 'little'\n",
       "  chunkshape := (8, 1000)"
      ]
     },
     "execution_count": 147,
     "metadata": {},
     "output_type": "execute_result"
    }
   ],
   "source": [
    "expr = tb.Expr('3 * sin(ear) + sqrt(abs(ear))')  # 수치 표현식 -> 문자열로 입력\n",
    "expr.set_output(out, append_mode = True)         # 결과 저장할 디스크 기반의 배열 설정\n",
    "%time expr.eval()                                # 계산 -> 저장"
   ]
  },
  {
   "cell_type": "code",
   "execution_count": 148,
   "metadata": {},
   "outputs": [
    {
     "data": {
      "text/plain": [
       "array([-1.71790999, -1.23816962, -1.50435474,  2.03005498,  1.80732706,\n",
       "        0.62105371, -0.14904958,  4.08055028, -0.12825368, -1.52653711])"
      ]
     },
     "execution_count": 148,
     "metadata": {},
     "output_type": "execute_result"
    }
   ],
   "source": [
    "out[0,:10]"
   ]
  },
  {
   "cell_type": "code",
   "execution_count": 149,
   "metadata": {},
   "outputs": [
    {
     "name": "stdout",
     "output_type": "stream",
     "text": [
      "Wall time: 2.38 s\n"
     ]
    }
   ],
   "source": [
    "%time imarray = ear.read()"
   ]
  },
  {
   "cell_type": "code",
   "execution_count": 150,
   "metadata": {},
   "outputs": [],
   "source": [
    "import numexpr as ne"
   ]
  },
  {
   "cell_type": "code",
   "execution_count": 151,
   "metadata": {},
   "outputs": [],
   "source": [
    "expr = '3 * sin(imarray) + sqrt(abs(imarray))'"
   ]
  },
  {
   "cell_type": "code",
   "execution_count": 152,
   "metadata": {},
   "outputs": [
    {
     "name": "stdout",
     "output_type": "stream",
     "text": [
      "Wall time: 712 ms\n"
     ]
    },
    {
     "data": {
      "text/plain": [
       "array([-1.71790999, -1.23816962, -1.50435474,  2.03005498,  1.80732706,\n",
       "        0.62105371, -0.14904958,  4.08055028, -0.12825368, -1.52653711])"
      ]
     },
     "execution_count": 152,
     "metadata": {},
     "output_type": "execute_result"
    }
   ],
   "source": [
    "ne.set_num_threads(16)\n",
    "%time ne.evaluate(expr)[0,:10]"
   ]
  },
  {
   "cell_type": "code",
   "execution_count": 153,
   "metadata": {},
   "outputs": [],
   "source": [
    "h5.close()"
   ]
  },
  {
   "cell_type": "code",
   "execution_count": null,
   "metadata": {},
   "outputs": [],
   "source": []
  }
 ],
 "metadata": {
  "kernelspec": {
   "display_name": "Python 3",
   "language": "python",
   "name": "python3"
  },
  "language_info": {
   "codemirror_mode": {
    "name": "ipython",
    "version": 3
   },
   "file_extension": ".py",
   "mimetype": "text/x-python",
   "name": "python",
   "nbconvert_exporter": "python",
   "pygments_lexer": "ipython3",
   "version": "3.7.6"
  }
 },
 "nbformat": 4,
 "nbformat_minor": 4
}
