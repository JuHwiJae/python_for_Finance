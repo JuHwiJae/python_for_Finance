{
 "cells": [
  {
   "cell_type": "markdown",
   "id": "40b147b5",
   "metadata": {},
   "source": [
    "# 15.1 자산 가격결정 기본정리\n",
    "## 15.1.2 일반적인 결과"
   ]
  },
  {
   "cell_type": "markdown",
   "id": "42399133",
   "metadata": {},
   "source": [
    "이산 시간에서 일반 시장 모형 M\n",
    " - 유한 상태 공간 $\\Omega$\n",
    " - 필트레이션 F\n",
    " - $\\Omega$에서 정의된 0이 아닌 확률 측도 P\n",
    " - 만기 시간 T $∈$ N, T < $∞$\n",
    " - K+1개의 증권에 대한, 양의 가격 프로세스 집합 $S = {｛S^K_t｝_{t∈｛0,...T｝} : k∈｛0,....,K｝}$\n",
    "\n",
    "$M = ｛(\\Omega, \\gamma(\\Omega),F,P),T,S｝$\n",
    "\n",
    "일반 시장 모형 M조건에서 자산 가격결정 기본 정리에 따르면 다음은 모두 동치\n",
    " - 시장 모형에서 차익거래 기회가 존재하지 않는다.\n",
    " - P-동치 마틴게일 측도 집합 Q의 원소가 존재한다.\n",
    " - consistent linear price system의 집합 P의 원소가 존재한다.\n",
    "\n",
    "시장 모형 M에 차익거래 기회가 없으면 (옵션, 기타 파생상품 등) 어떠한 종류의 복제 가능한 조건부 청구권 $V_T$에 대해서도 유일한 가격 $V_0$가 존재한다.\n",
    "\n",
    "$∀Q ∈ Q : V_0 = E^Q_0(e^{-rT}V_T)$\n",
    "\n",
    "IF 시장 모형 M에 차익거래 기회가 없고 모든 조건부 청구권이 복제 가능하다면, 즉 그 시장 모형이 완전하다면 Q의 원소가 하나 밖에 없는 경우와 동치이다.( 하나의 유일한 P-동치 마틴게일 측도만이 존재) \n",
    " "
   ]
  },
  {
   "cell_type": "markdown",
   "id": "a7b3295e",
   "metadata": {},
   "source": [
    "# 15.2 위험 중립 할인\n",
    "## 15.2.1 날짜 모형과 조작"
   ]
  },
  {
   "cell_type": "code",
   "execution_count": 2,
   "id": "e885665a",
   "metadata": {},
   "outputs": [],
   "source": [
    "import datetime as dt\n",
    "dates = [dt.datetime(2015, 1, 1), dt.datetime(2015, 7, 1), dt.datetime(2016, 1, 1)]"
   ]
  },
  {
   "cell_type": "code",
   "execution_count": 6,
   "id": "b78297ff",
   "metadata": {},
   "outputs": [
    {
     "data": {
      "text/plain": [
       "0.4958904109589041"
      ]
     },
     "execution_count": 6,
     "metadata": {},
     "output_type": "execute_result"
    }
   ],
   "source": [
    "# 연 비율\n",
    "(dates[1] - dates[0]).days/365."
   ]
  },
  {
   "cell_type": "code",
   "execution_count": 4,
   "id": "d5140e70",
   "metadata": {},
   "outputs": [
    {
     "data": {
      "text/plain": [
       "0.5041095890410959"
      ]
     },
     "execution_count": 4,
     "metadata": {},
     "output_type": "execute_result"
    }
   ],
   "source": [
    "(dates[2] - dates[1]).days/365."
   ]
  },
  {
   "cell_type": "code",
   "execution_count": 5,
   "id": "4f518ab2",
   "metadata": {},
   "outputs": [],
   "source": [
    "fractions = [0.0, 0.5, 1.0]"
   ]
  },
  {
   "cell_type": "code",
   "execution_count": 7,
   "id": "b7fa7114",
   "metadata": {},
   "outputs": [],
   "source": [
    "import numpy as np\n",
    "\n",
    "def get_year_deltas(date_list, day_count = 365.):\n",
    "    ''' 날짜를 1년 비율로 표현한 부동소수점 벡터를 전환.\n",
    "    초깃값은 0으로 고정\n",
    "    \n",
    "    인수\n",
    "    ====\n",
    "    date_list : list or array\n",
    "        datetime 객체 모음\n",
    "    \n",
    "    day_count : float\n",
    "        1년의 날짜 수\n",
    "    \n",
    "    반환값\n",
    "    ======\n",
    "    delta_list : array\n",
    "        1년 기준 비율\n",
    "    '''\n",
    "    \n",
    "    start = date_list[0]\n",
    "    delta_list = [(date - start).days / day_count for date in date_list]\n",
    "    return np.array(delta_list)"
   ]
  },
  {
   "cell_type": "code",
   "execution_count": 8,
   "id": "ce444873",
   "metadata": {},
   "outputs": [],
   "source": [
    "dates = [dt.datetime(2015, 1, 1), dt.datetime(2015, 7, 1), dt.datetime(2016, 1, 1)]"
   ]
  },
  {
   "cell_type": "code",
   "execution_count": 9,
   "id": "9d4ec854",
   "metadata": {},
   "outputs": [
    {
     "data": {
      "text/plain": [
       "array([0.        , 0.49589041, 1.        ])"
      ]
     },
     "execution_count": 9,
     "metadata": {},
     "output_type": "execute_result"
    }
   ],
   "source": [
    "get_year_deltas(dates)"
   ]
  },
  {
   "cell_type": "markdown",
   "id": "bf5ea505",
   "metadata": {},
   "source": [
    "# 15.2.2 고정 단기 이자율"
   ]
  },
  {
   "cell_type": "code",
   "execution_count": 11,
   "id": "03a4c1e2",
   "metadata": {},
   "outputs": [],
   "source": [
    "# from get_year_deltas import * \n",
    "class constant_short_rate(object):\n",
    "    ''' 고정 단기 이자율 할인 클래스\n",
    "    \n",
    "    속성\n",
    "    ====\n",
    "    name : string\n",
    "        객체 이름\n",
    "    short_rate : float (positive)\n",
    "        할인에 사용될 고정 이자율\n",
    "    \n",
    "    Method\n",
    "    =======\n",
    "    get_disocunt_factors :\n",
    "        datetime 객체 or 1년 기준 비율의 리스트/배열이 주어지면 할인율 반환\n",
    "    '''\n",
    "    \n",
    "    def __init__(self, name, short_rate):\n",
    "        self.name = name\n",
    "        self.short_rate = short_rate\n",
    "        if short_rate < 0:\n",
    "            raise ValueError('Short rate negative.')\n",
    "        \n",
    "    def get_discount_factors(self, date_list, dtobjects = True):\n",
    "        if dtobjects is True:\n",
    "            dlist = get_year_deltas(date_list)\n",
    "        \n",
    "        else:\n",
    "            dlist = np.array(date_list)\n",
    "        \n",
    "        dflist = np.exp(self.short_rate * np.sort(-dlist))\n",
    "        return np.array((date_list, dflist)).T"
   ]
  },
  {
   "cell_type": "code",
   "execution_count": 13,
   "id": "aad61f36",
   "metadata": {},
   "outputs": [
    {
     "data": {
      "text/plain": [
       "array([[datetime.datetime(2015, 1, 1, 0, 0), 0.951229424500714],\n",
       "       [datetime.datetime(2015, 7, 1, 0, 0), 0.9755103387657228],\n",
       "       [datetime.datetime(2016, 1, 1, 0, 0), 1.0]], dtype=object)"
      ]
     },
     "execution_count": 13,
     "metadata": {},
     "output_type": "execute_result"
    }
   ],
   "source": [
    "dates = [dt.datetime(2015, 1, 1), dt.datetime(2015, 7, 1), dt.datetime(2016, 1, 1)]\n",
    "# from constant_short_rate import *\n",
    "csr = constant_short_rate('csr', 0.05)\n",
    "csr.get_discount_factors(dates)"
   ]
  },
  {
   "cell_type": "code",
   "execution_count": 18,
   "id": "a54ad5d3",
   "metadata": {},
   "outputs": [
    {
     "data": {
      "text/plain": [
       "array([[0.        , 0.95122942],\n",
       "       [0.49589041, 0.97551034],\n",
       "       [1.        , 1.        ]])"
      ]
     },
     "execution_count": 18,
     "metadata": {},
     "output_type": "execute_result"
    }
   ],
   "source": [
    "deltas = get_year_deltas(dates)\n",
    "csr.get_discount_factors(deltas, dtobjects = False)"
   ]
  },
  {
   "cell_type": "markdown",
   "id": "80a91595",
   "metadata": {},
   "source": [
    "# 15.3 시장 환경"
   ]
  },
  {
   "cell_type": "code",
   "execution_count": 21,
   "id": "3b7c9487",
   "metadata": {},
   "outputs": [],
   "source": [
    "class market_environment(object):\n",
    "    ''' 가치 평가와 관련된 시장 환경 모형을 위한 클래스\n",
    "    \n",
    "    속성\n",
    "    ====\n",
    "    name : string\n",
    "        시장 환경 이름\n",
    "    pricing_date : datetime object\n",
    "        시장 환경 날짜\n",
    "    \n",
    "    Method\n",
    "    =======\n",
    "    add_constant :\n",
    "        상수(모형 파라미터) 추가\n",
    "    get_constant :\n",
    "        상수 반환\n",
    "    add_list :\n",
    "        (기초자산 등의) 리스트 추가\n",
    "    get_list :\n",
    "        리스트 반환\n",
    "    add_curve :\n",
    "        (이자율 커브 등의) 시장 커브 추가\n",
    "    get_curve :\n",
    "        시장 커브 반환\n",
    "    add_environment :\n",
    "        상수, 리스트, 커브 등의 전체 시장 환경 추가 또는 갱신\n",
    "    '''\n",
    "    \n",
    "    def __init__(self, name, pricing_date):\n",
    "        self.name = name\n",
    "        self.pricing_date = pricing_date\n",
    "        self.constants = {}\n",
    "        self.lists = {}\n",
    "        self.curves = {}\n",
    "    \n",
    "    def add_constant(self, key, constant):\n",
    "        self.constants[key] = constant\n",
    "    \n",
    "    def get_constant(self, key):\n",
    "        return self.constants[key]\n",
    "    \n",
    "    def add_list(self, key, list_object):\n",
    "        self.lists[key] = list_object\n",
    "    \n",
    "    def get_list(self, key):\n",
    "        return self.lists[key]\n",
    "    \n",
    "    def add_curve(self, key, curve):\n",
    "        self.curves[key] = curve\n",
    "    \n",
    "    def get_curve(self, key):\n",
    "        return self.curves[key]\n",
    "    \n",
    "    def add_environment(self, env):\n",
    "        # 존재하는 값이 있을땐 갱신\n",
    "        for key in env.constants:\n",
    "            self.constants[key] = env.constants[key]\n",
    "        \n",
    "        for key in env.lists:\n",
    "            self.lists[key] = env.lists[key]\n",
    "        \n",
    "        for key in env.curves:\n",
    "            self.curves[key] = env.curves[key]"
   ]
  },
  {
   "cell_type": "code",
   "execution_count": 25,
   "id": "6657a5fa",
   "metadata": {},
   "outputs": [
    {
     "data": {
      "text/plain": [
       "['AAPL', 'MSFT', 'FB']"
      ]
     },
     "execution_count": 25,
     "metadata": {},
     "output_type": "execute_result"
    }
   ],
   "source": [
    "# from market_environment import *\n",
    "dates = [dt.datetime(2015, 1, 1), dt.datetime(2015, 7, 1), dt.datetime(2016, 1, 1)]\n",
    "csr = constant_short_rate('csr', 0.05)\n",
    "me_1 = market_environment('me_1', dt.datetime(2015, 1,1))\n",
    "me_1.add_list('symbols', ['AAPL', 'MSFT', 'FB'])\n",
    "me_1.get_list('symbols')"
   ]
  },
  {
   "cell_type": "code",
   "execution_count": 26,
   "id": "960edfc9",
   "metadata": {},
   "outputs": [
    {
     "data": {
      "text/plain": [
       "<__main__.constant_short_rate at 0x291aa71d788>"
      ]
     },
     "execution_count": 26,
     "metadata": {},
     "output_type": "execute_result"
    }
   ],
   "source": [
    "me_2 = market_environment('me_2', dt.datetime(2015, 1, 1))\n",
    "me_2.add_constant('volatility', 0.2)\n",
    "me_2.add_curve('short_rate', csr)\n",
    "me_2.get_curve('short_rate')"
   ]
  },
  {
   "cell_type": "code",
   "execution_count": 27,
   "id": "0c743ebb",
   "metadata": {},
   "outputs": [
    {
     "data": {
      "text/plain": [
       "<__main__.constant_short_rate at 0x291aa71d788>"
      ]
     },
     "execution_count": 27,
     "metadata": {},
     "output_type": "execute_result"
    }
   ],
   "source": [
    "me_1.add_environment(me_2)\n",
    "me_1.get_curve('short_rate')"
   ]
  },
  {
   "cell_type": "code",
   "execution_count": 28,
   "id": "ce429959",
   "metadata": {},
   "outputs": [
    {
     "data": {
      "text/plain": [
       "{'volatility': 0.2}"
      ]
     },
     "execution_count": 28,
     "metadata": {},
     "output_type": "execute_result"
    }
   ],
   "source": [
    "me_1.constants"
   ]
  },
  {
   "cell_type": "code",
   "execution_count": 29,
   "id": "55024d97",
   "metadata": {},
   "outputs": [
    {
     "data": {
      "text/plain": [
       "{'symbols': ['AAPL', 'MSFT', 'FB']}"
      ]
     },
     "execution_count": 29,
     "metadata": {},
     "output_type": "execute_result"
    }
   ],
   "source": [
    "me_1.lists"
   ]
  },
  {
   "cell_type": "code",
   "execution_count": 30,
   "id": "e2968b53",
   "metadata": {},
   "outputs": [
    {
     "data": {
      "text/plain": [
       "{'short_rate': <__main__.constant_short_rate at 0x291aa71d788>}"
      ]
     },
     "execution_count": 30,
     "metadata": {},
     "output_type": "execute_result"
    }
   ],
   "source": [
    "me_1.curves"
   ]
  },
  {
   "cell_type": "code",
   "execution_count": 31,
   "id": "0659fb83",
   "metadata": {},
   "outputs": [
    {
     "data": {
      "text/plain": [
       "0.05"
      ]
     },
     "execution_count": 31,
     "metadata": {},
     "output_type": "execute_result"
    }
   ],
   "source": [
    "me_1.get_curve('short_rate').short_rate"
   ]
  },
  {
   "cell_type": "code",
   "execution_count": null,
   "id": "6d2ee0c0",
   "metadata": {},
   "outputs": [],
   "source": []
  }
 ],
 "metadata": {
  "kernelspec": {
   "display_name": "Python 3",
   "language": "python",
   "name": "python3"
  },
  "language_info": {
   "codemirror_mode": {
    "name": "ipython",
    "version": 3
   },
   "file_extension": ".py",
   "mimetype": "text/x-python",
   "name": "python",
   "nbconvert_exporter": "python",
   "pygments_lexer": "ipython3",
   "version": "3.7.6"
  }
 },
 "nbformat": 4,
 "nbformat_minor": 5
}
