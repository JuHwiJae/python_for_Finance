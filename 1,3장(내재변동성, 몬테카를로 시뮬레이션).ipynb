{
 "cells": [
  {
   "cell_type": "code",
   "execution_count": null,
   "metadata": {},
   "outputs": [],
   "source": []
  },
  {
   "cell_type": "markdown",
   "metadata": {},
   "source": [
    "# example"
   ]
  },
  {
   "cell_type": "code",
   "execution_count": 16,
   "metadata": {},
   "outputs": [],
   "source": [
    "from numpy import *\n",
    "import numpy as np\n",
    "import math\n",
    "import matplotlib.pyplot as plt"
   ]
  },
  {
   "cell_type": "code",
   "execution_count": 17,
   "metadata": {},
   "outputs": [],
   "source": [
    "# 초기값\n",
    "\n",
    "S0 = 100\n",
    "K = 105\n",
    "T = 1\n",
    "r = 0.05\n",
    "sigma = 0.2"
   ]
  },
  {
   "cell_type": "code",
   "execution_count": 18,
   "metadata": {},
   "outputs": [],
   "source": [
    "I = 10000                                                     # 시뮬레이션 횟수\n",
    "z = random.standard_normal(I)                                 # 난수\n",
    "St = S0 * exp(T * (r - 0.5 * sig ** 2) + sigma * sqrt(T) * z)  # 만기 주가지수\n",
    "Ht = maximum(St-K,0)                                      # 만기 옵션가치\n",
    "C0 = exp(-r*T)*sum(Ht)/I                                     # 몬테카를로 추정식"
   ]
  },
  {
   "cell_type": "code",
   "execution_count": 19,
   "metadata": {},
   "outputs": [
    {
     "name": "stdout",
     "output_type": "stream",
     "text": [
      "[102.32543353  80.49740909 112.70547946 ...  78.93467812 101.55761704\n",
      "  72.00286378]\n",
      "8.086735849215149\n"
     ]
    }
   ],
   "source": [
    "print(St)\n",
    "print(C0)"
   ]
  },
  {
   "cell_type": "code",
   "execution_count": 20,
   "metadata": {},
   "outputs": [
    {
     "data": {
      "image/png": "[encoded data removed]",
      "text/plain": [
       "<Figure size 432x288 with 1 Axes>"
      ]
     },
     "metadata": {
      "needs_background": "light"
     },
     "output_type": "display_data"
    }
   ],
   "source": [
    "plt.plot(St[:10])\n",
    "plt.grid(True)"
   ]
  },
  {
   "cell_type": "markdown",
   "metadata": {},
   "source": [
    "# 내재변동성"
   ]
  },
  {
   "cell_type": "code",
   "execution_count": 21,
   "metadata": {},
   "outputs": [],
   "source": [
    "import math\n",
    "from time import time\n",
    "from scipy import stats\n",
    "from random import gauss, seed"
   ]
  },
  {
   "cell_type": "code",
   "execution_count": 22,
   "metadata": {},
   "outputs": [],
   "source": [
    "def bsm_call_value(S0, K, T, r, sigma): # 블랙-숄즈 공식\n",
    "    \n",
    "    d1 = (log(S0/K)+(r + 0.5 * sigma**2)*T)/(sigma*sqrt(T))\n",
    "    d2 = (log(S0/K)+(r - 0.5 * sigma**2)*T)/(sigma*sqrt(T))\n",
    "    value = S0 * stats.norm.cdf(d1,0.0,1.0) - exp(-r*T)*K*stats.norm.cdf(d2,0.0,1.0)\n",
    "    \n",
    "    return value\n",
    "\n",
    "def bsm_vega(S0,K,T,r,sigma): # 베가 공식\n",
    "    \n",
    "    d1 = (log(S0/K)+(r + 0.5 * sigma**2)*T)/(sigma*sqrt(T))\n",
    "    vega = S0* stats.norm.pdf(d1,0.0,1.0)*sqrt(T)\n",
    "    \n",
    "    return vega\n",
    "\n",
    "    \n",
    "def bsm_call_imp_vol(S0, K, T, r, C0, sigma_est, it = 100 ): # 내재변동성(뉴턴 method)\n",
    "    # sigma_est - 변동성 초기 추정치\n",
    "    \n",
    "    for i in range(it):\n",
    "        \n",
    "        sigma_est -= (bsm_call_value(S0, K, T, r, sigma_est) - C0) / bsm_vega(S0, K, T, r, sigma_est)\n",
    "        \n",
    "        return sigma_est"
   ]
  },
  {
   "cell_type": "code",
   "execution_count": 23,
   "metadata": {},
   "outputs": [
    {
     "data": {
      "text/plain": [
       "8.021352235143176"
      ]
     },
     "execution_count": 23,
     "metadata": {},
     "output_type": "execute_result"
    }
   ],
   "source": [
    "bsm_call_value(S0,K,T,r,sigma)"
   ]
  },
  {
   "cell_type": "markdown",
   "metadata": {},
   "source": [
    "# 콜옵션가격(몬테카를로 시뮬레이션)1"
   ]
  },
  {
   "cell_type": "code",
   "execution_count": 24,
   "metadata": {},
   "outputs": [
    {
     "name": "stdout",
     "output_type": "stream",
     "text": [
      "European Option Value   7.999\n",
      "Duration in Seconds  40.255\n"
     ]
    }
   ],
   "source": [
    "seed(20000)\n",
    "t0 = time()\n",
    "\n",
    "M = 50\n",
    "dt = T/M\n",
    "I = 250000\n",
    "\n",
    "S = []\n",
    "\n",
    "for i in range(I):\n",
    "    \n",
    "    path = []\n",
    "    \n",
    "    for t in range(M+1):\n",
    "        \n",
    "        if t == 0:\n",
    "            path.append(S0)\n",
    "    \n",
    "        else:\n",
    "            z = gauss(0.0,1.0)\n",
    "            St = path[t-1]*exp((r-0.5*sigma**2)*dt+sigma*sqrt(dt)*z)\n",
    "            path.append(St)\n",
    "    \n",
    "    S.append(path)\n",
    "\n",
    "C0 = exp(-r*T)*sum([max(path[-1]-K,0) for path in S])/I\n",
    "\n",
    "tpy = time() - t0\n",
    "print('European Option Value %7.3f' % C0)\n",
    "print('Duration in Seconds %7.3f' % tpy)"
   ]
  },
  {
   "cell_type": "code",
   "execution_count": null,
   "metadata": {},
   "outputs": [],
   "source": []
  },
  {
   "cell_type": "markdown",
   "metadata": {},
   "source": [
    "# 콜옵션가격(몬테카를로 시뮬레이션)2"
   ]
  },
  {
   "cell_type": "code",
   "execution_count": 25,
   "metadata": {},
   "outputs": [],
   "source": [
    "from numpy import *\n",
    "import numpy as np\n",
    "import math\n",
    "import matplotlib.pyplot as plt"
   ]
  },
  {
   "cell_type": "code",
   "execution_count": 26,
   "metadata": {},
   "outputs": [
    {
     "name": "stdout",
     "output_type": "stream",
     "text": [
      "[105.53620875 111.80960731 100.12643478 ... 187.26467652  91.90122271\n",
      " 156.31249266]\n",
      "8.03650296250933\n"
     ]
    }
   ],
   "source": [
    "\n",
    "# 초기값\n",
    "\n",
    "np.random.seed(20000)\n",
    "\n",
    "M  = 50\n",
    "dt = T / M\n",
    "i  = 250000\n",
    "\n",
    "S = np.zeros((M+1,i)) # S0포함 51개\n",
    "\n",
    "S[0] = S0\n",
    "\n",
    "for t in range(1,M+1):   \n",
    "    z = np.random.standard_normal(i)                               # 난수\n",
    "    S[t] = S[t-1]*np.exp((r-0.5*sigma**2)*dt+sigma*math.sqrt(dt)*z) \n",
    "    \n",
    "C = np.exp(-r*T)*np.sum(np.maximum(S[-1]-K,0))/i  # 몬테칼로 추정식\n",
    "\n",
    "print(S[-1])\n",
    "print(C)"
   ]
  },
  {
   "cell_type": "code",
   "execution_count": null,
   "metadata": {},
   "outputs": [],
   "source": [
    "print(len(S))"
   ]
  },
  {
   "cell_type": "code",
   "execution_count": null,
   "metadata": {},
   "outputs": [],
   "source": [
    "print(S)"
   ]
  },
  {
   "cell_type": "code",
   "execution_count": null,
   "metadata": {},
   "outputs": [],
   "source": [
    "plt.plot(S[:,:100])\n",
    "plt.grid(True)"
   ]
  },
  {
   "cell_type": "code",
   "execution_count": null,
   "metadata": {},
   "outputs": [],
   "source": []
  },
  {
   "cell_type": "markdown",
   "metadata": {},
   "source": [
    "# 로그-오일러 이산화 적용 , 다시 질문 axis 랑 C0"
   ]
  },
  {
   "cell_type": "code",
   "execution_count": 34,
   "metadata": {},
   "outputs": [
    {
     "name": "stdout",
     "output_type": "stream",
     "text": [
      "[100. 100. 100. ... 100. 100. 100.]\n",
      "51\n",
      "250000\n",
      "European Option Value   8.166\n"
     ]
    }
   ],
   "source": [
    "random.seed(20000)\n",
    "\n",
    "M = 50\n",
    "dt = T/M\n",
    "I = 250000\n",
    "\n",
    "S = S0 * exp(cumsum((r-0.5*sigma**2)*dt+sigma*sqrt(dt)*random.standard_normal((M+1,I)),axis = 0))\n",
    "\n",
    "# cumsum - 누적\n",
    "# 경로 전체가 아니라 마지막 값만 필요 - cumsum 대신 sum \n",
    "\n",
    "S[0] = S0\n",
    "\n",
    "C0 = math.exp(-r*T)*sum(maximum(S[-1]-K,0))/I\n",
    "\n",
    "print(S[0])\n",
    "print(len(S))\n",
    "print(len(S[0]))\n",
    "\n",
    "print('European Option Value %7.3f'%C0)"
   ]
  },
  {
   "cell_type": "code",
   "execution_count": 36,
   "metadata": {},
   "outputs": [
    {
     "data": {
      "text/plain": [
       "Text(0, 0.5, 'S')"
      ]
     },
     "execution_count": 36,
     "metadata": {},
     "output_type": "execute_result"
    },
    {
     "data": {
      "image/png": "[encoded data removed]",
      "text/plain": [
       "<Figure size 432x288 with 1 Axes>"
      ]
     },
     "metadata": {
      "needs_background": "light"
     },
     "output_type": "display_data"
    }
   ],
   "source": [
    "plt.plot(S[:,:10])\n",
    "plt.grid(True)\n",
    "plt.xlabel('time')\n",
    "plt.ylabel('S')"
   ]
  },
  {
   "cell_type": "code",
   "execution_count": 42,
   "metadata": {},
   "outputs": [
    {
     "data": {
      "text/plain": [
       "Text(0, 0.5, 'n')"
      ]
     },
     "execution_count": 42,
     "metadata": {},
     "output_type": "execute_result"
    },
    {
     "data": {
      "image/png": "[encoded data removed]",
      "text/plain": [
       "<Figure size 432x288 with 1 Axes>"
      ]
     },
     "metadata": {
      "needs_background": "light"
     },
     "output_type": "display_data"
    }
   ],
   "source": [
    "plt.hist(S[-1],bins = 100)\n",
    "plt.grid(True)\n",
    "plt.xlabel('S')\n",
    "plt.ylabel('n')"
   ]
  },
  {
   "cell_type": "code",
   "execution_count": 46,
   "metadata": {},
   "outputs": [
    {
     "data": {
      "text/plain": [
       "(0, 150000)"
      ]
     },
     "execution_count": 46,
     "metadata": {},
     "output_type": "execute_result"
    },
    {
     "data": {
      "image/png": "[encoded data removed]",
      "text/plain": [
       "<Figure size 432x288 with 1 Axes>"
      ]
     },
     "metadata": {
      "needs_background": "light"
     },
     "output_type": "display_data"
    }
   ],
   "source": [
    "plt.hist(np.maximum(S[-1]-K,0),bins = 50)\n",
    "plt.grid(True)\n",
    "plt.xlabel('Option Value')\n",
    "plt.ylabel('n')\n",
    "plt.ylim(0,150000)"
   ]
  },
  {
   "cell_type": "code",
   "execution_count": 47,
   "metadata": {},
   "outputs": [
    {
     "data": {
      "text/plain": [
       "133533"
      ]
     },
     "execution_count": 47,
     "metadata": {},
     "output_type": "execute_result"
    }
   ],
   "source": [
    "sum(S[-1]<K)"
   ]
  },
  {
   "cell_type": "markdown",
   "metadata": {},
   "source": [
    "# 변동성 그래프"
   ]
  },
  {
   "cell_type": "code",
   "execution_count": null,
   "metadata": {},
   "outputs": [],
   "source": [
    "import numpy as np\n",
    "import pandas as pd\n",
    "from pandas_datareader import data as web # pip install pandas-datareader"
   ]
  },
  {
   "cell_type": "code",
   "execution_count": null,
   "metadata": {},
   "outputs": [],
   "source": [
    "goog = web.DataReader('GOOG', data_source = 'yahoo', start = '3/14/2009', end = '4/14/2014')"
   ]
  },
  {
   "cell_type": "code",
   "execution_count": null,
   "metadata": {},
   "outputs": [],
   "source": [
    "goog.tail()"
   ]
  },
  {
   "cell_type": "code",
   "execution_count": null,
   "metadata": {},
   "outputs": [],
   "source": [
    "goog['Log_ret'] = np.log(goog['Close']/goog['Close'].shift(1))\n",
    "goog['Volatility'] = goog['Log_ret'].rolling(window = 252, center = False).std() * sqrt(252)"
   ]
  },
  {
   "cell_type": "code",
   "execution_count": null,
   "metadata": {},
   "outputs": [],
   "source": [
    "%matplotlib inline\n",
    "goog[['Close','Volatility']].plot(subplots = True, color = 'blue', figsize = (8,6))"
   ]
  },
  {
   "cell_type": "code",
   "execution_count": null,
   "metadata": {},
   "outputs": [],
   "source": []
  }
 ],
 "metadata": {
  "kernelspec": {
   "display_name": "Python 3",
   "language": "python",
   "name": "python3"
  },
  "language_info": {
   "codemirror_mode": {
    "name": "ipython",
    "version": 3
   },
   "file_extension": ".py",
   "mimetype": "text/x-python",
   "name": "python",
   "nbconvert_exporter": "python",
   "pygments_lexer": "ipython3",
   "version": "3.7.6"
  }
 },
 "nbformat": 4,
 "nbformat_minor": 2
}
