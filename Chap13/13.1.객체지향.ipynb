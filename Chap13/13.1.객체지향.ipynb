{
 "cells": [
  {
   "cell_type": "markdown",
   "id": "8cb91dc1",
   "metadata": {},
   "source": [
    "# 13.1.1 파이썬 클래스 기초"
   ]
  },
  {
   "cell_type": "code",
   "execution_count": 1,
   "id": "e30ddfd0",
   "metadata": {},
   "outputs": [],
   "source": [
    "class ExampleOne(object):\n",
    "    pass"
   ]
  },
  {
   "cell_type": "code",
   "execution_count": 2,
   "id": "53a3983c",
   "metadata": {},
   "outputs": [],
   "source": [
    "c = ExampleOne()"
   ]
  },
  {
   "cell_type": "code",
   "execution_count": 3,
   "id": "9cb71497",
   "metadata": {},
   "outputs": [
    {
     "data": {
      "text/plain": [
       "'<__main__.ExampleOne object at 0x000001FCBF10F3C8>'"
      ]
     },
     "execution_count": 3,
     "metadata": {},
     "output_type": "execute_result"
    }
   ],
   "source": [
    "c.__str__()"
   ]
  },
  {
   "cell_type": "code",
   "execution_count": 4,
   "id": "65e37eea",
   "metadata": {},
   "outputs": [
    {
     "data": {
      "text/plain": [
       "__main__.ExampleOne"
      ]
     },
     "execution_count": 4,
     "metadata": {},
     "output_type": "execute_result"
    }
   ],
   "source": [
    "type(c)"
   ]
  },
  {
   "cell_type": "markdown",
   "id": "b1c3d9c9",
   "metadata": {},
   "source": [
    "클래스에 속성을 추가하려면 init이라는 것을 정의해야함"
   ]
  },
  {
   "cell_type": "code",
   "execution_count": 5,
   "id": "d71a2841",
   "metadata": {},
   "outputs": [],
   "source": [
    "class ExampleTwo(object):\n",
    "    def __init__(self, a, b):\n",
    "        self.a = a\n",
    "        self.b = b"
   ]
  },
  {
   "cell_type": "code",
   "execution_count": 6,
   "id": "9e414606",
   "metadata": {},
   "outputs": [],
   "source": [
    "c = ExampleTwo(1, 'text')"
   ]
  },
  {
   "cell_type": "code",
   "execution_count": 7,
   "id": "60e6d5c0",
   "metadata": {},
   "outputs": [
    {
     "data": {
      "text/plain": [
       "1"
      ]
     },
     "execution_count": 7,
     "metadata": {},
     "output_type": "execute_result"
    }
   ],
   "source": [
    "c.a"
   ]
  },
  {
   "cell_type": "code",
   "execution_count": 8,
   "id": "c299f8d9",
   "metadata": {},
   "outputs": [
    {
     "data": {
      "text/plain": [
       "'text'"
      ]
     },
     "execution_count": 8,
     "metadata": {},
     "output_type": "execute_result"
    }
   ],
   "source": [
    "c.b"
   ]
  },
  {
   "cell_type": "code",
   "execution_count": 9,
   "id": "cc178fff",
   "metadata": {},
   "outputs": [],
   "source": [
    "c.a = 100"
   ]
  },
  {
   "cell_type": "code",
   "execution_count": 10,
   "id": "dfee4dc6",
   "metadata": {},
   "outputs": [
    {
     "data": {
      "text/plain": [
       "100"
      ]
     },
     "execution_count": 10,
     "metadata": {},
     "output_type": "execute_result"
    }
   ],
   "source": [
    "c.a"
   ]
  },
  {
   "cell_type": "code",
   "execution_count": 11,
   "id": "df8a9c96",
   "metadata": {},
   "outputs": [],
   "source": [
    "c = ExampleOne()\n",
    "c.first_name = 'WHI JAE'\n",
    "c.last_name = 'JU'\n",
    "c.movies = 4"
   ]
  },
  {
   "cell_type": "code",
   "execution_count": 12,
   "id": "1795a708",
   "metadata": {},
   "outputs": [
    {
     "name": "stdout",
     "output_type": "stream",
     "text": [
      "WHI JAE JU 4\n"
     ]
    }
   ],
   "source": [
    "print(c.first_name, c.last_name, c.movies)"
   ]
  },
  {
   "cell_type": "code",
   "execution_count": 13,
   "id": "d2a9cf3b",
   "metadata": {},
   "outputs": [],
   "source": [
    "class ExampleThree(object):\n",
    "    def __init__(self, a, b):\n",
    "        self.a = a\n",
    "        self.b = b\n",
    "    \n",
    "    def addition(self):\n",
    "        return self.a + self.b"
   ]
  },
  {
   "cell_type": "code",
   "execution_count": 14,
   "id": "6de92df7",
   "metadata": {},
   "outputs": [
    {
     "data": {
      "text/plain": [
       "25"
      ]
     },
     "execution_count": 14,
     "metadata": {},
     "output_type": "execute_result"
    }
   ],
   "source": [
    "c = ExampleThree(10, 15)\n",
    "c.addition()"
   ]
  },
  {
   "cell_type": "code",
   "execution_count": 15,
   "id": "c92835b9",
   "metadata": {},
   "outputs": [
    {
     "data": {
      "text/plain": [
       "35"
      ]
     },
     "execution_count": 15,
     "metadata": {},
     "output_type": "execute_result"
    }
   ],
   "source": [
    "c.a += 10\n",
    "c.addition()"
   ]
  },
  {
   "cell_type": "markdown",
   "id": "305f8d74",
   "metadata": {},
   "source": [
    "ExampleTwo와 ExampleThree의 차이는 메서드 정의뿐 -> ExampleThree를 ExampleTwo를 상속하여 정의 가능"
   ]
  },
  {
   "cell_type": "code",
   "execution_count": 16,
   "id": "8ed4e04d",
   "metadata": {},
   "outputs": [],
   "source": [
    "class ExampleFour(ExampleTwo):\n",
    "    def addition(self):\n",
    "        return self.a + self.b"
   ]
  },
  {
   "cell_type": "code",
   "execution_count": 17,
   "id": "ec5d95a5",
   "metadata": {},
   "outputs": [
    {
     "data": {
      "text/plain": [
       "25"
      ]
     },
     "execution_count": 17,
     "metadata": {},
     "output_type": "execute_result"
    }
   ],
   "source": [
    "c = ExampleFour(10, 15)\n",
    "c.addition()"
   ]
  },
  {
   "cell_type": "markdown",
   "id": "e26468c3",
   "metadata": {},
   "source": [
    "다중 상속도 가능 But, 가독성 떨어진다. "
   ]
  },
  {
   "cell_type": "code",
   "execution_count": 18,
   "id": "e43cb2d2",
   "metadata": {},
   "outputs": [],
   "source": [
    "class ExampleFive(ExampleFour):\n",
    "    def multiple(self):\n",
    "        return self.a * self.b"
   ]
  },
  {
   "cell_type": "code",
   "execution_count": 19,
   "id": "7f208163",
   "metadata": {},
   "outputs": [
    {
     "data": {
      "text/plain": [
       "25"
      ]
     },
     "execution_count": 19,
     "metadata": {},
     "output_type": "execute_result"
    }
   ],
   "source": [
    "c = ExampleFive(10, 15)\n",
    "c.addition()"
   ]
  },
  {
   "cell_type": "code",
   "execution_count": 20,
   "id": "80db8b93",
   "metadata": {},
   "outputs": [
    {
     "data": {
      "text/plain": [
       "150"
      ]
     },
     "execution_count": 20,
     "metadata": {},
     "output_type": "execute_result"
    }
   ],
   "source": [
    "c.multiple()"
   ]
  },
  {
   "cell_type": "markdown",
   "id": "8af99a1f",
   "metadata": {},
   "source": [
    "메서드 정의를 클래스 정의 안에 무조건 포함X"
   ]
  },
  {
   "cell_type": "code",
   "execution_count": 21,
   "id": "0e833934",
   "metadata": {},
   "outputs": [],
   "source": [
    "def multiple(self):\n",
    "    return self.a * self.b"
   ]
  },
  {
   "cell_type": "code",
   "execution_count": 22,
   "id": "b15b4688",
   "metadata": {},
   "outputs": [],
   "source": [
    "class ExampleSix(ExampleFour):\n",
    "    multiple = multiple"
   ]
  },
  {
   "cell_type": "code",
   "execution_count": 23,
   "id": "926e3a05",
   "metadata": {},
   "outputs": [
    {
     "data": {
      "text/plain": [
       "20"
      ]
     },
     "execution_count": 23,
     "metadata": {},
     "output_type": "execute_result"
    }
   ],
   "source": [
    "c = ExampleSix(10, 10)\n",
    "c.addition()"
   ]
  },
  {
   "cell_type": "code",
   "execution_count": 24,
   "id": "9d9c3d42",
   "metadata": {},
   "outputs": [
    {
     "data": {
      "text/plain": [
       "100"
      ]
     },
     "execution_count": 24,
     "metadata": {},
     "output_type": "execute_result"
    }
   ],
   "source": [
    "c.multiple()"
   ]
  },
  {
   "cell_type": "markdown",
   "id": "e48748ab",
   "metadata": {},
   "source": [
    "클래스 또는 객체가 Private 속성을 가져야 할때 해당 속성 앞에 __을 붙인다"
   ]
  },
  {
   "cell_type": "code",
   "execution_count": 25,
   "id": "8c80d6d6",
   "metadata": {},
   "outputs": [],
   "source": [
    "class ExampleSeven(object):\n",
    "    def __init__(self, a, b):\n",
    "        self.a = a\n",
    "        self.b = b\n",
    "        self.__sum = a + b\n",
    "    \n",
    "    multiple = multiple\n",
    "    \n",
    "    def addition(self):\n",
    "        return self.__sum"
   ]
  },
  {
   "cell_type": "code",
   "execution_count": 26,
   "id": "6e98c897",
   "metadata": {},
   "outputs": [
    {
     "data": {
      "text/plain": [
       "26"
      ]
     },
     "execution_count": 26,
     "metadata": {},
     "output_type": "execute_result"
    }
   ],
   "source": [
    "c = ExampleSeven(10, 16)\n",
    "c.addition()"
   ]
  },
  {
   "cell_type": "markdown",
   "id": "3050e4a4",
   "metadata": {},
   "source": [
    "a, b의 속성값을 바꿔도 결과가 바뀌지 않는다."
   ]
  },
  {
   "cell_type": "code",
   "execution_count": 27,
   "id": "036c509b",
   "metadata": {},
   "outputs": [
    {
     "data": {
      "text/plain": [
       "26"
      ]
     },
     "execution_count": 27,
     "metadata": {},
     "output_type": "execute_result"
    }
   ],
   "source": [
    "c.a += 10\n",
    "c.addition()"
   ]
  },
  {
   "cell_type": "code",
   "execution_count": 28,
   "id": "998919d4",
   "metadata": {},
   "outputs": [
    {
     "data": {
      "text/plain": [
       "26"
      ]
     },
     "execution_count": 28,
     "metadata": {},
     "output_type": "execute_result"
    }
   ],
   "source": [
    "c._ExampleSeven__sum"
   ]
  },
  {
   "cell_type": "code",
   "execution_count": 29,
   "id": "1568affb",
   "metadata": {},
   "outputs": [
    {
     "data": {
      "text/plain": [
       "36"
      ]
     },
     "execution_count": 29,
     "metadata": {},
     "output_type": "execute_result"
    }
   ],
   "source": [
    "c = ExampleSeven(20, 16)\n",
    "c.addition()"
   ]
  },
  {
   "cell_type": "markdown",
   "id": "f0d0f322",
   "metadata": {},
   "source": [
    "#### iter method\n",
    "\n",
    "클래스 인스턴스를 반복해야하는 경우에 호출"
   ]
  },
  {
   "cell_type": "code",
   "execution_count": 30,
   "id": "77518d60",
   "metadata": {},
   "outputs": [],
   "source": [
    "name_list = ['Sandra', 'Lilli', 'Guido', 'Zorro', 'Henry']"
   ]
  },
  {
   "cell_type": "code",
   "execution_count": 31,
   "id": "049a0ecc",
   "metadata": {},
   "outputs": [
    {
     "name": "stdout",
     "output_type": "stream",
     "text": [
      "Sandra\n",
      "Lilli\n",
      "Guido\n",
      "Zorro\n",
      "Henry\n"
     ]
    }
   ],
   "source": [
    "for name in name_list:\n",
    "    print(name)"
   ]
  },
  {
   "cell_type": "code",
   "execution_count": 41,
   "id": "cd0b1dc7",
   "metadata": {},
   "outputs": [],
   "source": [
    "class sorted_list(object):\n",
    "    def __init__(self, elements):\n",
    "        self.elements = sorted(elements)\n",
    "    \n",
    "    def __iter__(self):\n",
    "        self.position = -1\n",
    "        return self\n",
    "    \n",
    "    def __next__(self):\n",
    "        if self.position == len(self.elements) - 1:\n",
    "            raise StopIteration\n",
    "        self.position += 1\n",
    "        return self.elements[self.position]"
   ]
  },
  {
   "cell_type": "code",
   "execution_count": 42,
   "id": "4d0fcd26",
   "metadata": {},
   "outputs": [],
   "source": [
    "sorted_name_list = sorted_list(name_list)"
   ]
  },
  {
   "cell_type": "code",
   "execution_count": 45,
   "id": "0b0f1b62",
   "metadata": {},
   "outputs": [
    {
     "name": "stdout",
     "output_type": "stream",
     "text": [
      "Guido\n",
      "Henry\n",
      "Lilli\n",
      "Sandra\n",
      "Zorro\n"
     ]
    }
   ],
   "source": [
    "for name in sorted_name_list:\n",
    "    print(name)"
   ]
  },
  {
   "cell_type": "code",
   "execution_count": 46,
   "id": "b4ca6b80",
   "metadata": {},
   "outputs": [
    {
     "name": "stdout",
     "output_type": "stream",
     "text": [
      "Guido\n",
      "Henry\n",
      "Lilli\n",
      "Sandra\n",
      "Zorro\n"
     ]
    }
   ],
   "source": [
    "for name in sorted(name_list):\n",
    "    print(name)"
   ]
  },
  {
   "cell_type": "code",
   "execution_count": 47,
   "id": "d9475973",
   "metadata": {},
   "outputs": [
    {
     "data": {
      "text/plain": [
       "__main__.sorted_list"
      ]
     },
     "execution_count": 47,
     "metadata": {},
     "output_type": "execute_result"
    }
   ],
   "source": [
    "type(sorted_name_list)"
   ]
  },
  {
   "cell_type": "markdown",
   "id": "6a59b4f8",
   "metadata": {},
   "source": [
    "# 13.1.2 단기 이자유 클래스"
   ]
  },
  {
   "cell_type": "code",
   "execution_count": 48,
   "id": "9f6036e1",
   "metadata": {},
   "outputs": [],
   "source": [
    "import numpy as np\n",
    "def discount_factor(r, t):\n",
    "    ''' 할인율 계산 함수\n",
    "    \n",
    "    인수\n",
    "    ===\n",
    "    r : float\n",
    "        고정 단기 이자율. 양수\n",
    "    \n",
    "    t : float, array of floats\n",
    "        미래의 일자. 연단위\n",
    "    \n",
    "    반환값\n",
    "    =====\n",
    "    df : float\n",
    "        할인율\n",
    "    '''\n",
    "    df = np.exp(-r * t)\n",
    "    \n",
    "    return df"
   ]
  },
  {
   "cell_type": "code",
   "execution_count": 49,
   "id": "5318ccb2",
   "metadata": {},
   "outputs": [],
   "source": [
    "import matplotlib.pyplot as plt\n",
    "%matplotlib inline"
   ]
  },
  {
   "cell_type": "code",
   "execution_count": 50,
   "id": "55b8451a",
   "metadata": {},
   "outputs": [
    {
     "data": {
      "text/plain": [
       "<matplotlib.legend.Legend at 0x1fcc1b2ab48>"
      ]
     },
     "execution_count": 50,
     "metadata": {},
     "output_type": "execute_result"
    },
    {
     "data": {
      "image/png": "[encoded data removed]",
      "text/plain": [
       "<Figure size 432x288 with 1 Axes>"
      ]
     },
     "metadata": {
      "needs_background": "light"
     },
     "output_type": "display_data"
    }
   ],
   "source": [
    "t = np.linspace(0, 5)\n",
    "for r in [0.01, 0.05, 0.1]:\n",
    "    plt.plot(t, discount_factor(r, t), label = 'r = %4.2f' % r, lw = 1.5)\n",
    "plt.xlabel('years')\n",
    "plt.ylabel('discount factor')\n",
    "plt.grid(True)\n",
    "plt.legend(loc = 0)"
   ]
  },
  {
   "cell_type": "code",
   "execution_count": 51,
   "id": "d4f935df",
   "metadata": {},
   "outputs": [],
   "source": [
    "class short_rate(object):\n",
    "    ''' 고정 단기 이자율 \n",
    "    \n",
    "    인수\n",
    "    ====\n",
    "    name : string\n",
    "        객체 이름\n",
    "        \n",
    "    rate : float\n",
    "        고정 단기 이자율. 양수\n",
    "    \n",
    "    method\n",
    "    =====\n",
    "    get_discount_factors :\n",
    "        주어진 시간 리스트/배열 입력에 대해 할인율을 반환\n",
    "    '''\n",
    "    def __init__(self, name, rate):\n",
    "        self.name = name\n",
    "        self.rate = rate\n",
    "        \n",
    "    def get_discount_factors(self, time_list):\n",
    "        time_list = np.array(time_list)\n",
    "        return np.exp(-self.rate * time_list)"
   ]
  },
  {
   "cell_type": "code",
   "execution_count": 52,
   "id": "cf869a5c",
   "metadata": {},
   "outputs": [
    {
     "data": {
      "text/plain": [
       "('r', 0.05)"
      ]
     },
     "execution_count": 52,
     "metadata": {},
     "output_type": "execute_result"
    }
   ],
   "source": [
    "sr = short_rate('r', 0.05)\n",
    "sr.name, sr.rate"
   ]
  },
  {
   "cell_type": "code",
   "execution_count": 53,
   "id": "bfbda42f",
   "metadata": {},
   "outputs": [
    {
     "data": {
      "text/plain": [
       "array([1.        , 0.97530991, 0.95122942, 0.93941306, 0.91621887,\n",
       "       0.90483742])"
      ]
     },
     "execution_count": 53,
     "metadata": {},
     "output_type": "execute_result"
    }
   ],
   "source": [
    "time_list = [0.0, 0.5, 1.0, 1.25, 1.75, 2.0]\n",
    "sr.get_discount_factors(time_list)"
   ]
  },
  {
   "cell_type": "code",
   "execution_count": 56,
   "id": "c12bd4fb",
   "metadata": {},
   "outputs": [
    {
     "data": {
      "text/plain": [
       "<matplotlib.legend.Legend at 0x1fcc1d42748>"
      ]
     },
     "execution_count": 56,
     "metadata": {},
     "output_type": "execute_result"
    },
    {
     "data": {
      "image/png": "[encoded data removed]",
      "text/plain": [
       "<Figure size 432x288 with 1 Axes>"
      ]
     },
     "metadata": {
      "needs_background": "light"
     },
     "output_type": "display_data"
    }
   ],
   "source": [
    "for r in [0.025, 0.05, 0.1, 0.15]:\n",
    "    sr.rate = r\n",
    "    plt.plot(t, sr.get_discount_factors(t), label = 'r=%4.2f' % sr.rate, lw = 1.5)\n",
    "plt.xlabel('years')\n",
    "plt.ylabel('discount_factor')\n",
    "plt.grid(True)\n",
    "plt.legend(loc = 0)"
   ]
  },
  {
   "cell_type": "code",
   "execution_count": 59,
   "id": "b46f7bbf",
   "metadata": {},
   "outputs": [],
   "source": [
    "sr.rate = 0.05\n",
    "cash_flows = np.array([-100, 50, 75])\n",
    "time_list = [0.0, 1.0, 2.0]"
   ]
  },
  {
   "cell_type": "code",
   "execution_count": 60,
   "id": "4a5ef04a",
   "metadata": {},
   "outputs": [
    {
     "data": {
      "text/plain": [
       "array([1.        , 0.95122942, 0.90483742])"
      ]
     },
     "execution_count": 60,
     "metadata": {},
     "output_type": "execute_result"
    }
   ],
   "source": [
    "disc_facts = sr.get_discount_factors(time_list)\n",
    "disc_facts"
   ]
  },
  {
   "cell_type": "code",
   "execution_count": 61,
   "id": "1704e3ea",
   "metadata": {},
   "outputs": [
    {
     "data": {
      "text/plain": [
       "array([-100.        ,   47.56147123,   67.86280635])"
      ]
     },
     "execution_count": 61,
     "metadata": {},
     "output_type": "execute_result"
    }
   ],
   "source": [
    "# 현재 가치\n",
    "cash_flows * disc_facts"
   ]
  },
  {
   "cell_type": "code",
   "execution_count": 62,
   "id": "5c4c8ec3",
   "metadata": {},
   "outputs": [
    {
     "data": {
      "text/plain": [
       "15.424277577732667"
      ]
     },
     "execution_count": 62,
     "metadata": {},
     "output_type": "execute_result"
    }
   ],
   "source": [
    "# 순 현재 가치\n",
    "np.sum(cash_flows * disc_facts)"
   ]
  },
  {
   "cell_type": "markdown",
   "id": "ccc70228",
   "metadata": {},
   "source": [
    "이자율이 0.05일때는 순현가가 양수이므로 투자 O"
   ]
  },
  {
   "cell_type": "code",
   "execution_count": 63,
   "id": "ccabaf25",
   "metadata": {},
   "outputs": [
    {
     "data": {
      "text/plain": [
       "-1.403234627618268"
      ]
     },
     "execution_count": 63,
     "metadata": {},
     "output_type": "execute_result"
    }
   ],
   "source": [
    "sr.rate = 0.15\n",
    "np.sum(sr.get_discount_factors(time_list) * cash_flows)"
   ]
  },
  {
   "cell_type": "markdown",
   "id": "355701ac",
   "metadata": {},
   "source": [
    "이자율이 0.15일때는 순현가가 음수이므로 투자 X"
   ]
  },
  {
   "cell_type": "markdown",
   "id": "42624785",
   "metadata": {},
   "source": [
    "# 13.1.2 현금 흐름 클래스"
   ]
  },
  {
   "cell_type": "code",
   "execution_count": 64,
   "id": "0a6c7ef9",
   "metadata": {},
   "outputs": [],
   "source": [
    "class cash_flow_series(object):\n",
    "    ''' 일련의 현금흐름 모형\n",
    "    \n",
    "    속성\n",
    "    ====\n",
    "    name : string\n",
    "        객체 이름\n",
    "    time_list : list/array-like\n",
    "        시간 리스트\n",
    "    cash_flows : list/array-like\n",
    "        현금 흐름 값 리스트\n",
    "    short_rate : instance of short_rate class\n",
    "        할인에 사용되는 단기 이자율\n",
    "    \n",
    "    method\n",
    "    =====\n",
    "    present_value_list :\n",
    "        현재 가치 배열 반환\n",
    "    net_present_value :\n",
    "        전체 현금 흐름에 대한 순 현재 가치 반환\n",
    "    '''\n",
    "    def __init__(self, name, time_list, cash_flows, short_rate):\n",
    "        self.name = name\n",
    "        self.time_list = time_list\n",
    "        self.cash_flows = cash_flows\n",
    "        self.short_rate = short_rate\n",
    "    \n",
    "    def present_value_list(self):\n",
    "        df = self.short_rate.get_discount_factors(self.time_list)\n",
    "        return np.array(self.cash_flows) * df\n",
    "    \n",
    "    def net_present_value(self):\n",
    "        return np.sum(self.present_value_list())"
   ]
  },
  {
   "cell_type": "code",
   "execution_count": 66,
   "id": "4e1153ce",
   "metadata": {},
   "outputs": [],
   "source": [
    "sr.rate = 0.05\n",
    "cfs = cash_flow_series('cfs', time_list, cash_flows, sr)"
   ]
  },
  {
   "cell_type": "code",
   "execution_count": 67,
   "id": "8f6f42b4",
   "metadata": {},
   "outputs": [
    {
     "data": {
      "text/plain": [
       "array([-100,   50,   75])"
      ]
     },
     "execution_count": 67,
     "metadata": {},
     "output_type": "execute_result"
    }
   ],
   "source": [
    "cfs.cash_flows"
   ]
  },
  {
   "cell_type": "code",
   "execution_count": 68,
   "id": "c2d846d7",
   "metadata": {},
   "outputs": [
    {
     "data": {
      "text/plain": [
       "[0.0, 1.0, 2.0]"
      ]
     },
     "execution_count": 68,
     "metadata": {},
     "output_type": "execute_result"
    }
   ],
   "source": [
    "cfs.time_list"
   ]
  },
  {
   "cell_type": "code",
   "execution_count": 69,
   "id": "558c7a21",
   "metadata": {},
   "outputs": [
    {
     "data": {
      "text/plain": [
       "array([-100.        ,   47.56147123,   67.86280635])"
      ]
     },
     "execution_count": 69,
     "metadata": {},
     "output_type": "execute_result"
    }
   ],
   "source": [
    "cfs.present_value_list()"
   ]
  },
  {
   "cell_type": "code",
   "execution_count": 70,
   "id": "c98151fa",
   "metadata": {},
   "outputs": [
    {
     "data": {
      "text/plain": [
       "15.424277577732667"
      ]
     },
     "execution_count": 70,
     "metadata": {},
     "output_type": "execute_result"
    }
   ],
   "source": [
    "cfs.net_present_value()"
   ]
  },
  {
   "cell_type": "markdown",
   "id": "958ea40b",
   "metadata": {},
   "source": [
    "#### 민감도 분석을 위한 method\n",
    "\n",
    "여러 이자율 값에 대한 순 현가를 계산"
   ]
  },
  {
   "cell_type": "code",
   "execution_count": 71,
   "id": "c84abe5e",
   "metadata": {},
   "outputs": [],
   "source": [
    "class cfs_sensitivity(cash_flow_series):\n",
    "    def npv_sensitivity(self, short_rate):\n",
    "        npvs = []\n",
    "        for rate in short_rates:\n",
    "            sr.rate = rate\n",
    "            npvs.append(self.net_present_value())\n",
    "        return np.array(npvs)\n",
    "cfs_sens = cfs_sensitivity('cfs', time_list, cash_flows, sr)"
   ]
  },
  {
   "cell_type": "code",
   "execution_count": 72,
   "id": "7c4093f1",
   "metadata": {},
   "outputs": [],
   "source": [
    "short_rates = [0.01, 0.025, 0.05, 0.075, 0.1, 0.125, 0.15, 0.2]"
   ]
  },
  {
   "cell_type": "code",
   "execution_count": 73,
   "id": "6b1b8446",
   "metadata": {},
   "outputs": [],
   "source": [
    "npvs = cfs_sens.npv_sensitivity(short_rates)"
   ]
  },
  {
   "cell_type": "code",
   "execution_count": 74,
   "id": "b71e250b",
   "metadata": {},
   "outputs": [
    {
     "data": {
      "text/plain": [
       "array([23.01739219, 20.10770244, 15.42427758, 10.94027255,  6.64667738,\n",
       "        2.53490386, -1.40323463, -8.78945889])"
      ]
     },
     "execution_count": 74,
     "metadata": {},
     "output_type": "execute_result"
    }
   ],
   "source": [
    "npvs"
   ]
  },
  {
   "cell_type": "code",
   "execution_count": 78,
   "id": "aa308619",
   "metadata": {},
   "outputs": [
    {
     "data": {
      "text/plain": [
       "Text(0, 0.5, 'net present value')"
      ]
     },
     "execution_count": 78,
     "metadata": {},
     "output_type": "execute_result"
    },
    {
     "data": {
      "image/png": "[encoded data removed]",
      "text/plain": [
       "<Figure size 432x288 with 1 Axes>"
      ]
     },
     "metadata": {
      "needs_background": "light"
     },
     "output_type": "display_data"
    }
   ],
   "source": [
    "plt.plot(short_rates, npvs, 'b')\n",
    "plt.plot(short_rates, npvs, 'ro')\n",
    "plt.plot((0, max(short_rates)), (0, 0), 'r', lw = 2)\n",
    "plt.grid(True)\n",
    "plt.xlabel('short rate')\n",
    "plt.ylabel('net present value')"
   ]
  },
  {
   "cell_type": "code",
   "execution_count": null,
   "id": "811b432e",
   "metadata": {},
   "outputs": [],
   "source": []
  }
 ],
 "metadata": {
  "kernelspec": {
   "display_name": "Python 3",
   "language": "python",
   "name": "python3"
  },
  "language_info": {
   "codemirror_mode": {
    "name": "ipython",
    "version": 3
   },
   "file_extension": ".py",
   "mimetype": "text/x-python",
   "name": "python",
   "nbconvert_exporter": "python",
   "pygments_lexer": "ipython3",
   "version": "3.7.6"
  }
 },
 "nbformat": 4,
 "nbformat_minor": 5
}
