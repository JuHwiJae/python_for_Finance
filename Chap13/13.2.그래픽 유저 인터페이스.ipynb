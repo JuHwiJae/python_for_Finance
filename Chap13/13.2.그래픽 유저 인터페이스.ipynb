{
 "cells": [
  {
   "cell_type": "markdown",
   "id": "c35198b5",
   "metadata": {},
   "source": [
    "GUI 제작 : traits 라이브러리 사용 but, 클래스 기반으로 빠르게 GUI 개발때 쓰이고 복잡한 어플리케이션에는 안쓰임\n",
    "\n",
    "URL : https://docs.enthought.com/traits/traits_user_manual/intro.html"
   ]
  },
  {
   "cell_type": "markdown",
   "id": "a9514158",
   "metadata": {},
   "source": [
    "# 13.2.1 GUI 가지는 단기 이자율 클래스"
   ]
  },
  {
   "cell_type": "code",
   "execution_count": 1,
   "id": "5b14c4c6",
   "metadata": {},
   "outputs": [],
   "source": [
    "import numpy as np\n",
    "import traits.api as trapi"
   ]
  },
  {
   "cell_type": "code",
   "execution_count": 2,
   "id": "7724b0c5",
   "metadata": {},
   "outputs": [],
   "source": [
    "class short_rate(trapi.HasTraits):\n",
    "    name = trapi.Str\n",
    "    rate = trapi.Float\n",
    "    time_list = trapi.Array(dtype = np.float, shape = (5,))\n",
    "    \n",
    "    def get_discount_factors(self):\n",
    "        return np.exp(-self.rate * self.time_list)"
   ]
  },
  {
   "cell_type": "code",
   "execution_count": 3,
   "id": "b9539bd9",
   "metadata": {},
   "outputs": [],
   "source": [
    "sr = short_rate()"
   ]
  },
  {
   "cell_type": "code",
   "execution_count": 4,
   "id": "b93ea073",
   "metadata": {},
   "outputs": [
    {
     "data": {
      "text/plain": [
       "True"
      ]
     },
     "execution_count": 4,
     "metadata": {},
     "output_type": "execute_result"
    }
   ],
   "source": [
    "sr.configure_traits()\n",
    "\n",
    "# name = sr_class\n",
    "# rate = 0.05\n",
    "# time_list = 0.0, 0.5, 1.0, 1.5, 2.0"
   ]
  },
  {
   "cell_type": "code",
   "execution_count": 5,
   "id": "0afc309d",
   "metadata": {},
   "outputs": [],
   "source": [
    "sr.name = 'sr_class'\n",
    "sr.rate = 0.05\n",
    "sr.time_list = [0.0, 0.5, 1.0, 1.5, 2.0]"
   ]
  },
  {
   "cell_type": "code",
   "execution_count": 6,
   "id": "e72e2a96",
   "metadata": {},
   "outputs": [
    {
     "data": {
      "text/plain": [
       "0.05"
      ]
     },
     "execution_count": 6,
     "metadata": {},
     "output_type": "execute_result"
    }
   ],
   "source": [
    "sr.rate"
   ]
  },
  {
   "cell_type": "code",
   "execution_count": 7,
   "id": "de85014b",
   "metadata": {},
   "outputs": [
    {
     "data": {
      "text/plain": [
       "array([0. , 0.5, 1. , 1.5, 2. ])"
      ]
     },
     "execution_count": 7,
     "metadata": {},
     "output_type": "execute_result"
    }
   ],
   "source": [
    "sr.time_list"
   ]
  },
  {
   "cell_type": "code",
   "execution_count": 8,
   "id": "4fd6d2d7",
   "metadata": {},
   "outputs": [
    {
     "data": {
      "text/plain": [
       "array([1.        , 0.97530991, 0.95122942, 0.92774349, 0.90483742])"
      ]
     },
     "execution_count": 8,
     "metadata": {},
     "output_type": "execute_result"
    }
   ],
   "source": [
    "sr.get_discount_factors()"
   ]
  },
  {
   "cell_type": "markdown",
   "id": "12a26fb7",
   "metadata": {},
   "source": [
    "# 13.2.2 값 갱신하기"
   ]
  },
  {
   "cell_type": "markdown",
   "id": "a12c2f75",
   "metadata": {},
   "source": [
    "결과 표시를 위해 traitsui.api 라이브러리 필요\n",
    "\n",
    "_update_fired 내부 메서드 -> 리스트 객체를 갱신 -> 갱신된 리스트를 GUI 창에 표시"
   ]
  },
  {
   "cell_type": "code",
   "execution_count": 9,
   "id": "f8fcecc6",
   "metadata": {},
   "outputs": [],
   "source": [
    "import traitsui.api as trui"
   ]
  },
  {
   "cell_type": "code",
   "execution_count": 10,
   "id": "56093ed8",
   "metadata": {},
   "outputs": [],
   "source": [
    "class short_rate(trapi.HasTraits):\n",
    "    name = trapi.Str\n",
    "    rate = trapi.Float\n",
    "    time_list = trapi.Array(dtype = np.float, shape = (1, 5))\n",
    "    disc_list = trapi.Array(dtype = np.float, shape = (1, 5))\n",
    "    update = trapi.Button\n",
    "    \n",
    "    def _update_fired(self):\n",
    "        self.disc_list = np.exp(-self.rate * self.time_list)\n",
    "    \n",
    "    v = trui.View(trui.Group(trui.Item(name = 'name'),\n",
    "                             trui.Item(name = 'rate'),\n",
    "                             trui.Item(name = 'time_list', label = 'Insert Time List Here'),\n",
    "                             trui.Item('update', show_label = False),\n",
    "                             trui.Item(name = 'disc_list', label = 'Press Update for Factors'),\n",
    "                             show_border = True, label = 'Calculate Discount Factors'),\n",
    "                 buttons = [trui.OKButton, trui.CancelButton],\n",
    "                 resizable = True)"
   ]
  },
  {
   "cell_type": "code",
   "execution_count": 11,
   "id": "63c6ffdc",
   "metadata": {},
   "outputs": [],
   "source": [
    "sr = short_rate()"
   ]
  },
  {
   "cell_type": "code",
   "execution_count": 12,
   "id": "ef512f21",
   "metadata": {},
   "outputs": [
    {
     "data": {
      "text/plain": [
       "True"
      ]
     },
     "execution_count": 12,
     "metadata": {},
     "output_type": "execute_result"
    }
   ],
   "source": [
    "sr.configure_traits()"
   ]
  },
  {
   "cell_type": "code",
   "execution_count": 13,
   "id": "875e5a13",
   "metadata": {},
   "outputs": [],
   "source": [
    "# GUI 없이 똑같이 동작하는 코드\n",
    "sr.name = 'sr_class'\n",
    "sr.rate = 0.05\n",
    "sr.time_list = np.array(([0.0, 0.5, 1.0, 1.5, 2.0],), dtype = np.float32)"
   ]
  },
  {
   "cell_type": "code",
   "execution_count": 14,
   "id": "16d395fa",
   "metadata": {},
   "outputs": [],
   "source": [
    "sr._update_fired()"
   ]
  },
  {
   "cell_type": "code",
   "execution_count": 15,
   "id": "a5bea0f8",
   "metadata": {},
   "outputs": [
    {
     "data": {
      "text/plain": [
       "array([[1.        , 0.97530991, 0.95122942, 0.92774349, 0.90483742]])"
      ]
     },
     "execution_count": 15,
     "metadata": {},
     "output_type": "execute_result"
    }
   ],
   "source": [
    "sr.disc_list"
   ]
  },
  {
   "cell_type": "markdown",
   "id": "5db6d002",
   "metadata": {},
   "source": [
    "# 13.2.3 GUI 가지는 현금흐름 클래스"
   ]
  },
  {
   "cell_type": "code",
   "execution_count": 16,
   "id": "2e8523e7",
   "metadata": {},
   "outputs": [],
   "source": [
    "class cash_flow_series(trapi.HasTraits):\n",
    "    name = trapi.Str\n",
    "    short_rate = trapi.Range(0.0, 0.5, 0.05)\n",
    "    time_list = trapi.Array(dtype = np.float, shape = (1, 6))\n",
    "    cash_flows = trapi.Array(dtpye = np.float, shape = (1, 6))\n",
    "    disc_values = trapi.Array(dtype = np.float, shape = (1, 6))\n",
    "    present_values = trapi.Array(dtype = np.float, shape = (1, 6))\n",
    "    net_present_value = trapi.Float\n",
    "    update = trapi.Button\n",
    "    \n",
    "    def _update_fired(self):\n",
    "        self.disc_values = np.exp(-self.short_rate * self.time_list)\n",
    "        self.present_values = self.disc_values * self.cash_flows\n",
    "        self.net_present_value = np.sum(self.present_values)\n",
    "    \n",
    "    v = trui.View(trui.Group(trui.Item(name = 'name'),\n",
    "                             trui.Item(name = 'short_rate'),\n",
    "                             trui.Item(name = 'time_list', label = 'Time List'),\n",
    "                             trui.Item(name = 'cash_flows', label = 'Cash Flows'),\n",
    "                             trui.Item('update', show_label = False),\n",
    "                             trui.Item(name = 'disc_values', label = 'Discount Values'),\n",
    "                             trui.Item(name = 'present_values', label = 'Present Values'),\n",
    "                             trui.Item(name = 'net_present_value', label = 'Net Present Value'),\n",
    "                             show_border = True, label = 'Calculate Present Values'),\n",
    "                 buttons = [trui.OKButton, trui.CancelButton],\n",
    "                 resizable = True)"
   ]
  },
  {
   "cell_type": "code",
   "execution_count": 17,
   "id": "67c7ed17",
   "metadata": {},
   "outputs": [],
   "source": [
    "cfs = cash_flow_series()"
   ]
  },
  {
   "cell_type": "code",
   "execution_count": 18,
   "id": "f5aec443",
   "metadata": {},
   "outputs": [
    {
     "data": {
      "text/plain": [
       "True"
      ]
     },
     "execution_count": 18,
     "metadata": {},
     "output_type": "execute_result"
    }
   ],
   "source": [
    "cfs.configure_traits()"
   ]
  },
  {
   "cell_type": "code",
   "execution_count": 19,
   "id": "7f84349a",
   "metadata": {},
   "outputs": [
    {
     "data": {
      "text/plain": [
       "-0.2926769754325136"
      ]
     },
     "execution_count": 19,
     "metadata": {},
     "output_type": "execute_result"
    }
   ],
   "source": [
    "cfs.net_present_value"
   ]
  }
 ],
 "metadata": {
  "kernelspec": {
   "display_name": "Python 3",
   "language": "python",
   "name": "python3"
  },
  "language_info": {
   "codemirror_mode": {
    "name": "ipython",
    "version": 3
   },
   "file_extension": ".py",
   "mimetype": "text/x-python",
   "name": "python",
   "nbconvert_exporter": "python",
   "pygments_lexer": "ipython3",
   "version": "3.7.6"
  }
 },
 "nbformat": 4,
 "nbformat_minor": 5
}
