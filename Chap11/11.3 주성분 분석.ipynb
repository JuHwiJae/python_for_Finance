{
 "cells": [
  {
   "cell_type": "markdown",
   "metadata": {},
   "source": [
    "#### 주성분 분석(PCA, Principal component analysis)\n",
    " - 직교 변환을 사용하여 상관관계를 가지는 관측값 변수들의 집합을 주성분이라고 하는 선형 상관관계를 가지지 않는 변수, 즉 주성분의 집합으로 바꾸는 통계적 절차\n",
    " - 첫 번째 주성분이 (자료의 변동성을 가장 많이 설명하도록) 가장 큰 분산을 가지고 그다음 성분이 이전의 주성분과 직교한다는 가정하에 가장 큰 분산을 가지도록 정의한다.*"
   ]
  },
  {
   "cell_type": "markdown",
   "metadata": {},
   "source": [
    "*https://ko.wikipedia.org/wiki/%EC%A3%BC%EC%84%B1%EB%B6%84_%EB%B6%84%EC%84%9D"
   ]
  },
  {
   "cell_type": "markdown",
   "metadata": {},
   "source": [
    "# 11.3.1 DAX 지수와 구성 종목 "
   ]
  },
  {
   "cell_type": "markdown",
   "metadata": {},
   "source": [
    "EX) 30개의 주식으로 구성된 주가지수가 있다 -> 모든 주가의 움직임이 지수의 움직임을 결정 & 개별 주식의 움직임들은 특정 조건, 상황에 의해 상관관계를 가진다 -> 주가 지수 움지임을 설명하기위해 30개의 상관관계를 가지는 요인을 모두 사용하는것은 어렵다. -> 주성분 분석"
   ]
  },
  {
   "cell_type": "code",
   "execution_count": 3,
   "metadata": {},
   "outputs": [],
   "source": [
    "import numpy as np\n",
    "import pandas as pd\n",
    "from pandas_datareader import data as web\n",
    "import yfinance as yf\n",
    "yf.pdr_override()\n",
    "from sklearn.decomposition import KernelPCA"
   ]
  },
  {
   "cell_type": "code",
   "execution_count": 2,
   "metadata": {},
   "outputs": [],
   "source": [
    "symbols = ['MUV2.DE', 'DB1.DE', 'ADS.DE', 'DBK.DE', 'SAP.DE',\n",
    "           'DWNI.DE', 'MTX.DE', 'BMW.DE', 'DTE.DE', 'ALV.DE',\n",
    "           'BAS.DE', 'RWE.DE', 'LIN.DE', 'MRK.DE', 'DPW.DE',\n",
    "           'FRE.DE', 'FME.DE', 'SIE.DE', 'VOW3.DE', 'IFX.DE',\n",
    "           'HEI.DE', 'DAI.DE', 'DHER.DE', 'ENR.DE', 'EOAN.DE',\n",
    "           'BAYN.DE', 'CON.DE', '^GDAXI']\n",
    "# 'HEN3.DE', 'VNA.DE', '1COV.DE'"
   ]
  },
  {
   "cell_type": "code",
   "execution_count": 3,
   "metadata": {},
   "outputs": [
    {
     "name": "stdout",
     "output_type": "stream",
     "text": [
      "[*********************100%***********************]  1 of 1 completed\n",
      "[*********************100%***********************]  1 of 1 completed\n",
      "[*********************100%***********************]  1 of 1 completed\n",
      "[*********************100%***********************]  1 of 1 completed\n",
      "[*********************100%***********************]  1 of 1 completed\n",
      "[*********************100%***********************]  1 of 1 completed\n",
      "[*********************100%***********************]  1 of 1 completed\n",
      "[*********************100%***********************]  1 of 1 completed\n",
      "[*********************100%***********************]  1 of 1 completed\n",
      "[*********************100%***********************]  1 of 1 completed\n",
      "[*********************100%***********************]  1 of 1 completed\n",
      "[*********************100%***********************]  1 of 1 completed\n",
      "[*********************100%***********************]  1 of 1 completed\n",
      "[*********************100%***********************]  1 of 1 completed\n",
      "[*********************100%***********************]  1 of 1 completed\n",
      "[*********************100%***********************]  1 of 1 completed\n",
      "[*********************100%***********************]  1 of 1 completed\n",
      "[*********************100%***********************]  1 of 1 completed\n",
      "[*********************100%***********************]  1 of 1 completed\n",
      "[*********************100%***********************]  1 of 1 completed\n",
      "[*********************100%***********************]  1 of 1 completed\n",
      "[*********************100%***********************]  1 of 1 completed\n",
      "[*********************100%***********************]  1 of 1 completed\n",
      "[*********************100%***********************]  1 of 1 completed\n",
      "[*********************100%***********************]  1 of 1 completed\n",
      "[*********************100%***********************]  1 of 1 completed\n",
      "[*********************100%***********************]  1 of 1 completed\n",
      "[*********************100%***********************]  1 of 1 completed\n"
     ]
    }
   ],
   "source": [
    "data = pd.DataFrame()\n",
    "for sym in symbols:\n",
    "    data[sym] = web.get_data_yahoo(sym, data_source = 'yahoo')['Adj Close']\n",
    "data = data.dropna()"
   ]
  },
  {
   "cell_type": "code",
   "execution_count": 4,
   "metadata": {},
   "outputs": [],
   "source": [
    "dax = pd.DataFrame(data.pop('^GDAXI')) # pop(a) : a항목 삭제 "
   ]
  },
  {
   "cell_type": "code",
   "execution_count": 5,
   "metadata": {},
   "outputs": [
    {
     "data": {
      "text/html": [
       "<div>\n",
       "<style scoped>\n",
       "    .dataframe tbody tr th:only-of-type {\n",
       "        vertical-align: middle;\n",
       "    }\n",
       "\n",
       "    .dataframe tbody tr th {\n",
       "        vertical-align: top;\n",
       "    }\n",
       "\n",
       "    .dataframe thead th {\n",
       "        text-align: right;\n",
       "    }\n",
       "</style>\n",
       "<table border=\"1\" class=\"dataframe\">\n",
       "  <thead>\n",
       "    <tr style=\"text-align: right;\">\n",
       "      <th></th>\n",
       "      <th>MUV2.DE</th>\n",
       "      <th>DB1.DE</th>\n",
       "      <th>ADS.DE</th>\n",
       "      <th>DBK.DE</th>\n",
       "      <th>SAP.DE</th>\n",
       "      <th>DWNI.DE</th>\n",
       "      <th>MTX.DE</th>\n",
       "      <th>BMW.DE</th>\n",
       "      <th>DTE.DE</th>\n",
       "      <th>ALV.DE</th>\n",
       "      <th>...</th>\n",
       "      <th>SIE.DE</th>\n",
       "      <th>VOW3.DE</th>\n",
       "      <th>IFX.DE</th>\n",
       "      <th>HEI.DE</th>\n",
       "      <th>DAI.DE</th>\n",
       "      <th>DHER.DE</th>\n",
       "      <th>ENR.DE</th>\n",
       "      <th>EOAN.DE</th>\n",
       "      <th>BAYN.DE</th>\n",
       "      <th>CON.DE</th>\n",
       "    </tr>\n",
       "    <tr>\n",
       "      <th>Date</th>\n",
       "      <th></th>\n",
       "      <th></th>\n",
       "      <th></th>\n",
       "      <th></th>\n",
       "      <th></th>\n",
       "      <th></th>\n",
       "      <th></th>\n",
       "      <th></th>\n",
       "      <th></th>\n",
       "      <th></th>\n",
       "      <th></th>\n",
       "      <th></th>\n",
       "      <th></th>\n",
       "      <th></th>\n",
       "      <th></th>\n",
       "      <th></th>\n",
       "      <th></th>\n",
       "      <th></th>\n",
       "      <th></th>\n",
       "      <th></th>\n",
       "      <th></th>\n",
       "    </tr>\n",
       "  </thead>\n",
       "  <tbody>\n",
       "    <tr>\n",
       "      <th>2020-09-29</th>\n",
       "      <td>218.100006</td>\n",
       "      <td>151.199997</td>\n",
       "      <td>281.200012</td>\n",
       "      <td>7.074</td>\n",
       "      <td>134.160004</td>\n",
       "      <td>42.410000</td>\n",
       "      <td>141.022461</td>\n",
       "      <td>62.000000</td>\n",
       "      <td>13.778479</td>\n",
       "      <td>164.880005</td>\n",
       "      <td>...</td>\n",
       "      <td>105.844116</td>\n",
       "      <td>133.832611</td>\n",
       "      <td>24.034485</td>\n",
       "      <td>52.080002</td>\n",
       "      <td>44.878506</td>\n",
       "      <td>99.080002</td>\n",
       "      <td>22.000000</td>\n",
       "      <td>9.390</td>\n",
       "      <td>53.509998</td>\n",
       "      <td>92.139999</td>\n",
       "    </tr>\n",
       "    <tr>\n",
       "      <th>2020-09-30</th>\n",
       "      <td>216.600006</td>\n",
       "      <td>149.800003</td>\n",
       "      <td>276.100006</td>\n",
       "      <td>7.190</td>\n",
       "      <td>132.759995</td>\n",
       "      <td>42.689999</td>\n",
       "      <td>141.072144</td>\n",
       "      <td>61.990002</td>\n",
       "      <td>13.792956</td>\n",
       "      <td>163.619995</td>\n",
       "      <td>...</td>\n",
       "      <td>105.103668</td>\n",
       "      <td>132.539993</td>\n",
       "      <td>23.964920</td>\n",
       "      <td>52.320000</td>\n",
       "      <td>45.217381</td>\n",
       "      <td>98.120003</td>\n",
       "      <td>23.000000</td>\n",
       "      <td>9.428</td>\n",
       "      <td>53.310001</td>\n",
       "      <td>92.480003</td>\n",
       "    </tr>\n",
       "    <tr>\n",
       "      <th>2020-10-01</th>\n",
       "      <td>215.600006</td>\n",
       "      <td>148.199997</td>\n",
       "      <td>278.899994</td>\n",
       "      <td>7.100</td>\n",
       "      <td>133.740005</td>\n",
       "      <td>43.230000</td>\n",
       "      <td>143.357117</td>\n",
       "      <td>62.660000</td>\n",
       "      <td>13.966696</td>\n",
       "      <td>162.179993</td>\n",
       "      <td>...</td>\n",
       "      <td>103.915077</td>\n",
       "      <td>134.300003</td>\n",
       "      <td>25.783531</td>\n",
       "      <td>51.279999</td>\n",
       "      <td>45.914768</td>\n",
       "      <td>98.800003</td>\n",
       "      <td>22.610001</td>\n",
       "      <td>9.528</td>\n",
       "      <td>46.340000</td>\n",
       "      <td>95.300003</td>\n",
       "    </tr>\n",
       "    <tr>\n",
       "      <th>2020-10-02</th>\n",
       "      <td>216.199997</td>\n",
       "      <td>148.350006</td>\n",
       "      <td>276.899994</td>\n",
       "      <td>7.196</td>\n",
       "      <td>132.759995</td>\n",
       "      <td>43.680000</td>\n",
       "      <td>140.823776</td>\n",
       "      <td>62.360001</td>\n",
       "      <td>14.005305</td>\n",
       "      <td>162.800003</td>\n",
       "      <td>...</td>\n",
       "      <td>103.155144</td>\n",
       "      <td>132.000000</td>\n",
       "      <td>25.261799</td>\n",
       "      <td>51.740002</td>\n",
       "      <td>45.919682</td>\n",
       "      <td>98.500000</td>\n",
       "      <td>22.420000</td>\n",
       "      <td>9.694</td>\n",
       "      <td>44.935001</td>\n",
       "      <td>96.260002</td>\n",
       "    </tr>\n",
       "    <tr>\n",
       "      <th>2020-10-05</th>\n",
       "      <td>221.899994</td>\n",
       "      <td>149.000000</td>\n",
       "      <td>273.500000</td>\n",
       "      <td>7.360</td>\n",
       "      <td>132.399994</td>\n",
       "      <td>44.060001</td>\n",
       "      <td>144.350586</td>\n",
       "      <td>64.029999</td>\n",
       "      <td>14.179044</td>\n",
       "      <td>166.520004</td>\n",
       "      <td>...</td>\n",
       "      <td>104.558083</td>\n",
       "      <td>134.699997</td>\n",
       "      <td>25.549994</td>\n",
       "      <td>52.660000</td>\n",
       "      <td>46.980503</td>\n",
       "      <td>98.279999</td>\n",
       "      <td>21.750000</td>\n",
       "      <td>9.718</td>\n",
       "      <td>46.770000</td>\n",
       "      <td>98.320000</td>\n",
       "    </tr>\n",
       "  </tbody>\n",
       "</table>\n",
       "<p>5 rows × 27 columns</p>\n",
       "</div>"
      ],
      "text/plain": [
       "               MUV2.DE      DB1.DE      ADS.DE  DBK.DE      SAP.DE    DWNI.DE  \\\n",
       "Date                                                                            \n",
       "2020-09-29  218.100006  151.199997  281.200012   7.074  134.160004  42.410000   \n",
       "2020-09-30  216.600006  149.800003  276.100006   7.190  132.759995  42.689999   \n",
       "2020-10-01  215.600006  148.199997  278.899994   7.100  133.740005  43.230000   \n",
       "2020-10-02  216.199997  148.350006  276.899994   7.196  132.759995  43.680000   \n",
       "2020-10-05  221.899994  149.000000  273.500000   7.360  132.399994  44.060001   \n",
       "\n",
       "                MTX.DE     BMW.DE     DTE.DE      ALV.DE  ...      SIE.DE  \\\n",
       "Date                                                      ...               \n",
       "2020-09-29  141.022461  62.000000  13.778479  164.880005  ...  105.844116   \n",
       "2020-09-30  141.072144  61.990002  13.792956  163.619995  ...  105.103668   \n",
       "2020-10-01  143.357117  62.660000  13.966696  162.179993  ...  103.915077   \n",
       "2020-10-02  140.823776  62.360001  14.005305  162.800003  ...  103.155144   \n",
       "2020-10-05  144.350586  64.029999  14.179044  166.520004  ...  104.558083   \n",
       "\n",
       "               VOW3.DE     IFX.DE     HEI.DE     DAI.DE    DHER.DE     ENR.DE  \\\n",
       "Date                                                                            \n",
       "2020-09-29  133.832611  24.034485  52.080002  44.878506  99.080002  22.000000   \n",
       "2020-09-30  132.539993  23.964920  52.320000  45.217381  98.120003  23.000000   \n",
       "2020-10-01  134.300003  25.783531  51.279999  45.914768  98.800003  22.610001   \n",
       "2020-10-02  132.000000  25.261799  51.740002  45.919682  98.500000  22.420000   \n",
       "2020-10-05  134.699997  25.549994  52.660000  46.980503  98.279999  21.750000   \n",
       "\n",
       "            EOAN.DE    BAYN.DE     CON.DE  \n",
       "Date                                       \n",
       "2020-09-29    9.390  53.509998  92.139999  \n",
       "2020-09-30    9.428  53.310001  92.480003  \n",
       "2020-10-01    9.528  46.340000  95.300003  \n",
       "2020-10-02    9.694  44.935001  96.260002  \n",
       "2020-10-05    9.718  46.770000  98.320000  \n",
       "\n",
       "[5 rows x 27 columns]"
      ]
     },
     "execution_count": 5,
     "metadata": {},
     "output_type": "execute_result"
    }
   ],
   "source": [
    "data[data.columns[:]].head()"
   ]
  },
  {
   "cell_type": "markdown",
   "metadata": {},
   "source": [
    "# 11.3.2 주성분 분석 적용\n",
    " - 주성분 분석 : 정규화된 자료를 다룬다."
   ]
  },
  {
   "cell_type": "code",
   "execution_count": 6,
   "metadata": {},
   "outputs": [],
   "source": [
    "scale_function = lambda x : (x - x.mean()) / x.std()"
   ]
  },
  {
   "cell_type": "code",
   "execution_count": 7,
   "metadata": {},
   "outputs": [],
   "source": [
    "pca = KernelPCA().fit(data.apply(scale_function))"
   ]
  },
  {
   "cell_type": "code",
   "execution_count": 8,
   "metadata": {},
   "outputs": [
    {
     "data": {
      "text/plain": [
       "27"
      ]
     },
     "execution_count": 8,
     "metadata": {},
     "output_type": "execute_result"
    }
   ],
   "source": [
    "len(pca.lambdas_)"
   ]
  },
  {
   "cell_type": "code",
   "execution_count": 10,
   "metadata": {},
   "outputs": [
    {
     "data": {
      "text/plain": [
       "array([2037.,  601.,  295.,  223.,  185.,  144.,  111.,   68.,   44.,\n",
       "         24.])"
      ]
     },
     "execution_count": 10,
     "metadata": {},
     "output_type": "execute_result"
    }
   ],
   "source": [
    "pca.lambdas_[:10].round()"
   ]
  },
  {
   "cell_type": "code",
   "execution_count": 11,
   "metadata": {},
   "outputs": [],
   "source": [
    "get_we = lambda x : x / x.sum() # 상대적인 중요도"
   ]
  },
  {
   "cell_type": "code",
   "execution_count": 12,
   "metadata": {},
   "outputs": [
    {
     "data": {
      "text/plain": [
       "array([0.5313714 , 0.15664664, 0.07706989, 0.05821905, 0.04813919,\n",
       "       0.03756759, 0.0290317 , 0.01777784, 0.01147323, 0.00633576])"
      ]
     },
     "execution_count": 12,
     "metadata": {},
     "output_type": "execute_result"
    }
   ],
   "source": [
    "get_we(pca.lambdas_)[:10]"
   ]
  },
  {
   "cell_type": "code",
   "execution_count": 13,
   "metadata": {},
   "outputs": [
    {
     "data": {
      "text/plain": [
       "0.8714461723416865"
      ]
     },
     "execution_count": 13,
     "metadata": {},
     "output_type": "execute_result"
    }
   ],
   "source": [
    "get_we(pca.lambdas_)[:5].sum()"
   ]
  },
  {
   "cell_type": "markdown",
   "metadata": {},
   "source": [
    "몇가지 안되는 주성분만으로 변동치의 대부분을 설명할 수 있다."
   ]
  },
  {
   "cell_type": "markdown",
   "metadata": {},
   "source": [
    "# 11.3.3 주성분 지수 구성"
   ]
  },
  {
   "cell_type": "markdown",
   "metadata": {},
   "source": [
    "1. 하나의 성분만을 가지는 주성분 지수"
   ]
  },
  {
   "cell_type": "code",
   "execution_count": 14,
   "metadata": {},
   "outputs": [],
   "source": [
    "pca = KernelPCA(n_components = 1).fit(data.apply(scale_function))\n",
    "dax['PCA_1'] = pca.transform(-data)"
   ]
  },
  {
   "cell_type": "code",
   "execution_count": 15,
   "metadata": {},
   "outputs": [],
   "source": [
    "import matplotlib.pyplot as plt\n",
    "%matplotlib inline"
   ]
  },
  {
   "cell_type": "code",
   "execution_count": 16,
   "metadata": {},
   "outputs": [
    {
     "data": {
      "image/png": "[encoded data removed]",
      "text/plain": [
       "<Figure size 576x288 with 1 Axes>"
      ]
     },
     "metadata": {
      "needs_background": "light"
     },
     "output_type": "display_data"
    }
   ],
   "source": [
    "dax.apply(scale_function).plot(figsize = (8, 4))\n",
    "plt.grid(True)"
   ]
  },
  {
   "cell_type": "markdown",
   "metadata": {},
   "source": [
    "2. 여러개의 성분을 가지는 주성분 지수"
   ]
  },
  {
   "cell_type": "code",
   "execution_count": 17,
   "metadata": {},
   "outputs": [],
   "source": [
    "pca = KernelPCA(n_components = 5).fit(data.apply(scale_function))\n",
    "pca_components = pca.transform(-data)\n",
    "weights = get_we(pca.lambdas_)\n",
    "dax['PCA_5'] = np.dot(pca_components, weights) # 주성분의 수가 늘었기때문에 dot을 쓰게 된다."
   ]
  },
  {
   "cell_type": "code",
   "execution_count": 22,
   "metadata": {
    "scrolled": true
   },
   "outputs": [
    {
     "data": {
      "text/plain": [
       "<matplotlib.axes._subplots.AxesSubplot at 0x1d0cb9e3888>"
      ]
     },
     "execution_count": 22,
     "metadata": {},
     "output_type": "execute_result"
    },
    {
     "data": {
      "image/png": "[encoded data removed]",
      "text/plain": [
       "<Figure size 576x288 with 1 Axes>"
      ]
     },
     "metadata": {
      "needs_background": "light"
     },
     "output_type": "display_data"
    }
   ],
   "source": [
    "dax.apply(scale_function).plot(figsize = (8, 4))"
   ]
  },
  {
   "cell_type": "code",
   "execution_count": 21,
   "metadata": {},
   "outputs": [
    {
     "data": {
      "text/html": [
       "<div>\n",
       "<style scoped>\n",
       "    .dataframe tbody tr th:only-of-type {\n",
       "        vertical-align: middle;\n",
       "    }\n",
       "\n",
       "    .dataframe tbody tr th {\n",
       "        vertical-align: top;\n",
       "    }\n",
       "\n",
       "    .dataframe thead th {\n",
       "        text-align: right;\n",
       "    }\n",
       "</style>\n",
       "<table border=\"1\" class=\"dataframe\">\n",
       "  <thead>\n",
       "    <tr style=\"text-align: right;\">\n",
       "      <th></th>\n",
       "      <th>^GDAXI</th>\n",
       "      <th>PCA_1</th>\n",
       "      <th>PCA_5</th>\n",
       "    </tr>\n",
       "    <tr>\n",
       "      <th>Date</th>\n",
       "      <th></th>\n",
       "      <th></th>\n",
       "      <th></th>\n",
       "    </tr>\n",
       "  </thead>\n",
       "  <tbody>\n",
       "    <tr>\n",
       "      <th>2020-09-29</th>\n",
       "      <td>12825.820312</td>\n",
       "      <td>368.695939</td>\n",
       "      <td>226.165136</td>\n",
       "    </tr>\n",
       "    <tr>\n",
       "      <th>2020-09-30</th>\n",
       "      <td>12760.730469</td>\n",
       "      <td>367.164732</td>\n",
       "      <td>224.970542</td>\n",
       "    </tr>\n",
       "    <tr>\n",
       "      <th>2020-10-01</th>\n",
       "      <td>12730.769531</td>\n",
       "      <td>366.777175</td>\n",
       "      <td>225.003896</td>\n",
       "    </tr>\n",
       "    <tr>\n",
       "      <th>2020-10-02</th>\n",
       "      <td>12689.040039</td>\n",
       "      <td>365.542696</td>\n",
       "      <td>224.163781</td>\n",
       "    </tr>\n",
       "    <tr>\n",
       "      <th>2020-10-05</th>\n",
       "      <td>12828.309570</td>\n",
       "      <td>371.455170</td>\n",
       "      <td>227.244258</td>\n",
       "    </tr>\n",
       "    <tr>\n",
       "      <th>...</th>\n",
       "      <td>...</td>\n",
       "      <td>...</td>\n",
       "      <td>...</td>\n",
       "    </tr>\n",
       "    <tr>\n",
       "      <th>2021-04-19</th>\n",
       "      <td>15368.389648</td>\n",
       "      <td>493.008825</td>\n",
       "      <td>296.034878</td>\n",
       "    </tr>\n",
       "    <tr>\n",
       "      <th>2021-04-20</th>\n",
       "      <td>15129.509766</td>\n",
       "      <td>483.149776</td>\n",
       "      <td>289.392579</td>\n",
       "    </tr>\n",
       "    <tr>\n",
       "      <th>2021-04-21</th>\n",
       "      <td>15195.969727</td>\n",
       "      <td>483.476661</td>\n",
       "      <td>289.855573</td>\n",
       "    </tr>\n",
       "    <tr>\n",
       "      <th>2021-04-22</th>\n",
       "      <td>15320.519531</td>\n",
       "      <td>486.354816</td>\n",
       "      <td>291.704252</td>\n",
       "    </tr>\n",
       "    <tr>\n",
       "      <th>2021-04-23</th>\n",
       "      <td>15279.620117</td>\n",
       "      <td>486.604064</td>\n",
       "      <td>291.887195</td>\n",
       "    </tr>\n",
       "  </tbody>\n",
       "</table>\n",
       "<p>143 rows × 3 columns</p>\n",
       "</div>"
      ],
      "text/plain": [
       "                  ^GDAXI       PCA_1       PCA_5\n",
       "Date                                            \n",
       "2020-09-29  12825.820312  368.695939  226.165136\n",
       "2020-09-30  12760.730469  367.164732  224.970542\n",
       "2020-10-01  12730.769531  366.777175  225.003896\n",
       "2020-10-02  12689.040039  365.542696  224.163781\n",
       "2020-10-05  12828.309570  371.455170  227.244258\n",
       "...                  ...         ...         ...\n",
       "2021-04-19  15368.389648  493.008825  296.034878\n",
       "2021-04-20  15129.509766  483.149776  289.392579\n",
       "2021-04-21  15195.969727  483.476661  289.855573\n",
       "2021-04-22  15320.519531  486.354816  291.704252\n",
       "2021-04-23  15279.620117  486.604064  291.887195\n",
       "\n",
       "[143 rows x 3 columns]"
      ]
     },
     "execution_count": 21,
     "metadata": {},
     "output_type": "execute_result"
    }
   ],
   "source": [
    "dax"
   ]
  },
  {
   "cell_type": "code",
   "execution_count": 23,
   "metadata": {},
   "outputs": [],
   "source": [
    "import matplotlib as mpl"
   ]
  },
  {
   "cell_type": "code",
   "execution_count": 24,
   "metadata": {},
   "outputs": [
    {
     "data": {
      "text/plain": [
       "array([737697., 737698., 737699., 737700., 737703., 737704., 737705.,\n",
       "       737706., 737707., 737710., 737711., 737712., 737713., 737714.,\n",
       "       737717., 737718., 737719., 737720., 737721., 737724., 737725.,\n",
       "       737726., 737727., 737728., 737731., 737732., 737733., 737734.,\n",
       "       737735., 737738., 737739., 737740., 737741., 737742., 737745.,\n",
       "       737746., 737747., 737748., 737749., 737752., 737753., 737754.,\n",
       "       737755., 737756., 737759., 737760., 737761., 737762., 737763.,\n",
       "       737766., 737767., 737768., 737769., 737770., 737773., 737774.,\n",
       "       737775., 737776., 737777., 737780., 737781., 737782., 737787.,\n",
       "       737788., 737789., 737794., 737795., 737796., 737797., 737798.,\n",
       "       737801., 737802., 737803., 737804., 737805., 737808., 737809.,\n",
       "       737810., 737811., 737812., 737815., 737816., 737817., 737818.,\n",
       "       737819., 737822., 737823., 737824., 737825., 737826., 737829.,\n",
       "       737830., 737831., 737832., 737833., 737836., 737837., 737838.,\n",
       "       737839., 737840., 737843., 737844., 737845., 737846., 737847.,\n",
       "       737850., 737851., 737852., 737853., 737854., 737857., 737858.,\n",
       "       737859., 737860., 737861., 737864., 737865., 737866., 737867.,\n",
       "       737868., 737871., 737872., 737873., 737874., 737875., 737878.,\n",
       "       737879., 737880., 737881., 737886., 737887., 737888., 737889.,\n",
       "       737892., 737893., 737894., 737895., 737896., 737899., 737900.,\n",
       "       737901., 737902., 737903.])"
      ]
     },
     "execution_count": 24,
     "metadata": {},
     "output_type": "execute_result"
    }
   ],
   "source": [
    "mpl_dates = mpl.dates.date2num(data.index)\n",
    "mpl_dates"
   ]
  },
  {
   "cell_type": "code",
   "execution_count": 31,
   "metadata": {},
   "outputs": [
    {
     "data": {
      "text/plain": [
       "<matplotlib.colorbar.Colorbar at 0x1d0cc00af08>"
      ]
     },
     "execution_count": 31,
     "metadata": {},
     "output_type": "execute_result"
    },
    {
     "data": {
      "image/png": "[encoded data removed]",
      "text/plain": [
       "<Figure size 576x288 with 2 Axes>"
      ]
     },
     "metadata": {
      "needs_background": "light"
     },
     "output_type": "display_data"
    }
   ],
   "source": [
    "plt.figure(figsize = (8, 4))\n",
    "plt.scatter(dax['PCA_5'], dax['^GDAXI'], c = mpl_dates)\n",
    "lin_reg = np.polyval(np.polyfit(dax['PCA_5'], dax['^GDAXI'], 1), dax['PCA_5'])\n",
    "plt.plot(dax['PCA_5'], lin_reg, 'r', lw = 3)\n",
    "plt.grid(True)\n",
    "plt.xlabel('PCA_5')\n",
    "plt.ylabel('^GDAXI')\n",
    "plt.colorbar(ticks = mpl.dates.DayLocator(interval = 20),\n",
    "            format = mpl.dates.DateFormatter('%d %b %y'))"
   ]
  },
  {
   "cell_type": "markdown",
   "metadata": {},
   "source": [
    "점이 몰려있는 곳이 변동이 있었음을 보여준다.\n",
    "\n",
    "만약, 주성분 분석 지수가 DAX 지수를 정확히 복제했다면 모든 점이 직선상에 존재해야한다. -> 향상 시켜보자"
   ]
  },
  {
   "cell_type": "markdown",
   "metadata": {},
   "source": [
    "전체 구간을 두개의 구간으로 나눈 후 초기 구간과 후기 구간에 대해 각각 회귀분석한다."
   ]
  },
  {
   "cell_type": "code",
   "execution_count": 47,
   "metadata": {},
   "outputs": [],
   "source": [
    "cut_date = '2021/1/12'\n",
    "early_pca = dax[dax.index < cut_date]['PCA_5']\n",
    "early_reg = np.polyval(np.polyfit(early_pca, dax['^GDAXI'][dax.index < cut_date], 1),\n",
    "                      early_pca)\n",
    "\n"
   ]
  },
  {
   "cell_type": "code",
   "execution_count": 48,
   "metadata": {},
   "outputs": [],
   "source": [
    "late_pca = dax[dax.index >= cut_date]['PCA_5']\n",
    "late_reg = np.polyval(np.polyfit(late_pca, dax['^GDAXI'][dax.index >= cut_date], 1),\n",
    "                      late_pca)"
   ]
  },
  {
   "cell_type": "code",
   "execution_count": 53,
   "metadata": {},
   "outputs": [
    {
     "data": {
      "text/plain": [
       "<matplotlib.colorbar.Colorbar at 0x1d0cd25b148>"
      ]
     },
     "execution_count": 53,
     "metadata": {},
     "output_type": "execute_result"
    },
    {
     "data": {
      "image/png": "[encoded data removed]",
      "text/plain": [
       "<Figure size 576x288 with 2 Axes>"
      ]
     },
     "metadata": {
      "needs_background": "light"
     },
     "output_type": "display_data"
    }
   ],
   "source": [
    "plt.figure(figsize = (8, 4))\n",
    "plt.scatter(dax['PCA_5'], dax['^GDAXI'], c = mpl_dates)\n",
    "plt.plot(early_pca, early_reg, 'r', lw = 3)\n",
    "plt.plot(late_pca, late_reg, 'r', lw = 3)\n",
    "plt.grid(True)\n",
    "plt.xlabel('PCA_5')\n",
    "plt.ylabel('^GDAXI')\n",
    "plt.colorbar(ticks = mpl.dates.DayLocator(interval = 20),\n",
    "            format = mpl.dates.DateFormatter('%d %b %y'))"
   ]
  }
 ],
 "metadata": {
  "kernelspec": {
   "display_name": "Python 3",
   "language": "python",
   "name": "python3"
  },
  "language_info": {
   "codemirror_mode": {
    "name": "ipython",
    "version": 3
   },
   "file_extension": ".py",
   "mimetype": "text/x-python",
   "name": "python",
   "nbconvert_exporter": "python",
   "pygments_lexer": "ipython3",
   "version": "3.7.6"
  }
 },
 "nbformat": 4,
 "nbformat_minor": 4
}
