{
 "cells": [
  {
   "cell_type": "markdown",
   "id": "4d7108fb",
   "metadata": {},
   "source": [
    "VSTOXX 변동성 지수의 모형으로는 square_root_diffusion 클래스를 사용\n",
    "& 다음과 같은 점을 고려하여 구현"
   ]
  },
  {
   "cell_type": "markdown",
   "id": "503d806c",
   "metadata": {},
   "source": [
    "1. DATA 수집\n",
    "    - VSTOXX 지수뿐 아니라 이 지수를 기초자산으로 하는 선물과 옵션, 세 가지 유형의 자료가 필요\n",
    "   \n",
    "2. 모형 캘리브레이션\n",
    "    - 시장에서 거래되지 않는 옵션의 가치 평가를 위해선 모형에 사용되는 파라미터들이 현재 거래되는 옵션 가격을 최대한 유사하게 할 수 있는 값을 가지도록 캘리브레이션 해야함\n",
    "\n",
    "3. 포트폴리오 가치 평가\n",
    "    - VSTOXX 변동성 지수를 기초자산으로 하고 시장 가격에 캘리브레이션된 자료 및 모형이 있다면 현재 거래되지 않는 옵션을 모형화하고 가치 평가 할 수 있음"
   ]
  },
  {
   "cell_type": "markdown",
   "id": "59fdce6f",
   "metadata": {},
   "source": [
    "# 19.1.1 VSTOXX 지수 데이터 \n",
    "VSTOXX를 기초자산으로 하는 아메리칸 풋 옵션을 가치 평가하기 위해 필요한 자료 수집"
   ]
  },
  {
   "cell_type": "code",
   "execution_count": 1,
   "id": "65acf441",
   "metadata": {},
   "outputs": [],
   "source": [
    "import numpy as np\n",
    "import pandas as pd"
   ]
  },
  {
   "cell_type": "code",
   "execution_count": 2,
   "id": "ee42b68e",
   "metadata": {},
   "outputs": [],
   "source": [
    "url = 'http://www.stoxx.com/download/historical_values/h_vstoxx.txt'"
   ]
  },
  {
   "cell_type": "code",
   "execution_count": 3,
   "id": "b97d5e37",
   "metadata": {},
   "outputs": [],
   "source": [
    "vstoxx_index = pd.read_csv(url, index_col = 0, header = 2, parse_dates = True, dayfirst = True)"
   ]
  },
  {
   "cell_type": "code",
   "execution_count": 4,
   "id": "c7bb5ef7",
   "metadata": {},
   "outputs": [
    {
     "name": "stdout",
     "output_type": "stream",
     "text": [
      "<class 'pandas.core.frame.DataFrame'>\n",
      "DatetimeIndex: 4357 entries, 1999-01-04 to 2016-02-12\n",
      "Data columns (total 9 columns):\n",
      " #   Column  Non-Null Count  Dtype  \n",
      "---  ------  --------------  -----  \n",
      " 0   V2TX    4357 non-null   float64\n",
      " 1   V6I1    3906 non-null   float64\n",
      " 2   V6I2    4357 non-null   float64\n",
      " 3   V6I3    4296 non-null   float64\n",
      " 4   V6I4    4357 non-null   float64\n",
      " 5   V6I5    4357 non-null   float64\n",
      " 6   V6I6    4340 non-null   float64\n",
      " 7   V6I7    4357 non-null   float64\n",
      " 8   V6I8    4343 non-null   float64\n",
      "dtypes: float64(9)\n",
      "memory usage: 340.4 KB\n"
     ]
    }
   ],
   "source": [
    "vstoxx_index.info()"
   ]
  },
  {
   "cell_type": "markdown",
   "id": "6e06ac1f",
   "metadata": {},
   "source": [
    "2014년 1사분기 자료 사용 -> 그 외 자료는 삭제"
   ]
  },
  {
   "cell_type": "code",
   "execution_count": 5,
   "id": "763c7467",
   "metadata": {},
   "outputs": [],
   "source": [
    "vstoxx_index = vstoxx_index[('2013/12/31' < vstoxx_index.index) & (vstoxx_index.index < '2014/4/1')]"
   ]
  },
  {
   "cell_type": "markdown",
   "id": "89307f07",
   "metadata": {},
   "source": [
    "자료를 보면 V2TX의 일간 종가뿐 아니라 V6I1에서 V6I8까지의 보조 지수의 자료도 존재.\n",
    "\n",
    "* 기호의 마지막 숫자는 만기를 표시(1 = 가장 가까운 만기, 8 = 가장 먼 만기)\n",
    "* 여기서 지수는 V6I1과 V6I2를 내삽한 값(1 : 30일 이내의 만기, 2 : 30일부터 60일 사이의 만기)"
   ]
  },
  {
   "cell_type": "code",
   "execution_count": 6,
   "id": "9b43a817",
   "metadata": {},
   "outputs": [
    {
     "data": {
      "text/html": [
       "<div>\n",
       "<style scoped>\n",
       "    .dataframe tbody tr th:only-of-type {\n",
       "        vertical-align: middle;\n",
       "    }\n",
       "\n",
       "    .dataframe tbody tr th {\n",
       "        vertical-align: top;\n",
       "    }\n",
       "\n",
       "    .dataframe thead th {\n",
       "        text-align: right;\n",
       "    }\n",
       "</style>\n",
       "<table border=\"1\" class=\"dataframe\">\n",
       "  <thead>\n",
       "    <tr style=\"text-align: right;\">\n",
       "      <th></th>\n",
       "      <th>V2TX</th>\n",
       "      <th>V6I1</th>\n",
       "      <th>V6I2</th>\n",
       "      <th>V6I3</th>\n",
       "      <th>V6I4</th>\n",
       "      <th>V6I5</th>\n",
       "      <th>V6I6</th>\n",
       "      <th>V6I7</th>\n",
       "      <th>V6I8</th>\n",
       "    </tr>\n",
       "    <tr>\n",
       "      <th>Date</th>\n",
       "      <th></th>\n",
       "      <th></th>\n",
       "      <th></th>\n",
       "      <th></th>\n",
       "      <th></th>\n",
       "      <th></th>\n",
       "      <th></th>\n",
       "      <th></th>\n",
       "      <th></th>\n",
       "    </tr>\n",
       "  </thead>\n",
       "  <tbody>\n",
       "    <tr>\n",
       "      <th>2014-03-25</th>\n",
       "      <td>18.26</td>\n",
       "      <td>18.23</td>\n",
       "      <td>18.31</td>\n",
       "      <td>19.04</td>\n",
       "      <td>19.84</td>\n",
       "      <td>20.31</td>\n",
       "      <td>18.11</td>\n",
       "      <td>20.83</td>\n",
       "      <td>21.20</td>\n",
       "    </tr>\n",
       "    <tr>\n",
       "      <th>2014-03-26</th>\n",
       "      <td>17.59</td>\n",
       "      <td>17.48</td>\n",
       "      <td>17.70</td>\n",
       "      <td>18.45</td>\n",
       "      <td>19.42</td>\n",
       "      <td>20.00</td>\n",
       "      <td>20.26</td>\n",
       "      <td>20.45</td>\n",
       "      <td>20.86</td>\n",
       "    </tr>\n",
       "    <tr>\n",
       "      <th>2014-03-27</th>\n",
       "      <td>17.64</td>\n",
       "      <td>17.50</td>\n",
       "      <td>17.76</td>\n",
       "      <td>18.62</td>\n",
       "      <td>19.49</td>\n",
       "      <td>20.05</td>\n",
       "      <td>20.11</td>\n",
       "      <td>20.49</td>\n",
       "      <td>20.94</td>\n",
       "    </tr>\n",
       "    <tr>\n",
       "      <th>2014-03-28</th>\n",
       "      <td>17.03</td>\n",
       "      <td>16.68</td>\n",
       "      <td>17.29</td>\n",
       "      <td>18.33</td>\n",
       "      <td>19.30</td>\n",
       "      <td>19.83</td>\n",
       "      <td>20.14</td>\n",
       "      <td>20.38</td>\n",
       "      <td>20.82</td>\n",
       "    </tr>\n",
       "    <tr>\n",
       "      <th>2014-03-31</th>\n",
       "      <td>17.66</td>\n",
       "      <td>17.61</td>\n",
       "      <td>17.69</td>\n",
       "      <td>18.57</td>\n",
       "      <td>19.43</td>\n",
       "      <td>20.04</td>\n",
       "      <td>19.98</td>\n",
       "      <td>20.44</td>\n",
       "      <td>20.90</td>\n",
       "    </tr>\n",
       "  </tbody>\n",
       "</table>\n",
       "</div>"
      ],
      "text/plain": [
       "             V2TX   V6I1   V6I2   V6I3   V6I4   V6I5   V6I6   V6I7   V6I8\n",
       "Date                                                                     \n",
       "2014-03-25  18.26  18.23  18.31  19.04  19.84  20.31  18.11  20.83  21.20\n",
       "2014-03-26  17.59  17.48  17.70  18.45  19.42  20.00  20.26  20.45  20.86\n",
       "2014-03-27  17.64  17.50  17.76  18.62  19.49  20.05  20.11  20.49  20.94\n",
       "2014-03-28  17.03  16.68  17.29  18.33  19.30  19.83  20.14  20.38  20.82\n",
       "2014-03-31  17.66  17.61  17.69  18.57  19.43  20.04  19.98  20.44  20.90"
      ]
     },
     "execution_count": 6,
     "metadata": {},
     "output_type": "execute_result"
    }
   ],
   "source": [
    "np.round(vstoxx_index.tail(), 2)"
   ]
  },
  {
   "cell_type": "markdown",
   "id": "f67f7831",
   "metadata": {},
   "source": [
    "# 19.1.2 VSTOXX 선물 데이터"
   ]
  },
  {
   "cell_type": "code",
   "execution_count": 7,
   "id": "d73c8fdf",
   "metadata": {},
   "outputs": [
    {
     "name": "stderr",
     "output_type": "stream",
     "text": [
      "C:\\Users\\anrnd\\anaconda3\\lib\\site-packages\\openpyxl\\worksheet\\_reader.py:312: UserWarning: Unknown extension is not supported and will be removed\n",
      "  warn(msg)\n"
     ]
    }
   ],
   "source": [
    "vstoxx_futures = pd.read_excel('C:/Users/anrnd/Desktop/파이썬 금융분석/vstoxx_march_2014.xlsx','vstoxx_futures')"
   ]
  },
  {
   "cell_type": "code",
   "execution_count": 8,
   "id": "bfc0ca17",
   "metadata": {},
   "outputs": [
    {
     "name": "stdout",
     "output_type": "stream",
     "text": [
      "<class 'pandas.core.frame.DataFrame'>\n",
      "RangeIndex: 504 entries, 0 to 503\n",
      "Data columns (total 8 columns):\n",
      " #   Column                     Non-Null Count  Dtype         \n",
      "---  ------                     --------------  -----         \n",
      " 0   A_DATE                     504 non-null    datetime64[ns]\n",
      " 1   A_EXP_YEAR                 504 non-null    int64         \n",
      " 2   A_EXP_MONTH                504 non-null    int64         \n",
      " 3   A_CALL_PUT_FLAG            504 non-null    object        \n",
      " 4   A_EXERCISE_PRICE           504 non-null    int64         \n",
      " 5   A_SETTLEMENT_PRICE_SCALED  504 non-null    int64         \n",
      " 6   A_PRODUCT_ID               504 non-null    object        \n",
      " 7   SETTLE                     504 non-null    float64       \n",
      "dtypes: datetime64[ns](1), float64(1), int64(4), object(2)\n",
      "memory usage: 31.6+ KB\n"
     ]
    }
   ],
   "source": [
    "vstoxx_futures.info()"
   ]
  },
  {
   "cell_type": "code",
   "execution_count": 9,
   "id": "060f2ecb",
   "metadata": {},
   "outputs": [],
   "source": [
    "del vstoxx_futures['A_SETTLEMENT_PRICE_SCALED']\n",
    "del vstoxx_futures['A_CALL_PUT_FLAG']\n",
    "del vstoxx_futures['A_EXERCISE_PRICE']\n",
    "del vstoxx_futures['A_PRODUCT_ID']"
   ]
  },
  {
   "cell_type": "code",
   "execution_count": 10,
   "id": "af6a7a25",
   "metadata": {},
   "outputs": [],
   "source": [
    "columns = ['DATE', 'EXP_YEAR', 'EXP_MONTH', 'PRICE']\n",
    "vstoxx_futures.columns = columns"
   ]
  },
  {
   "cell_type": "markdown",
   "id": "b967a8a3",
   "metadata": {},
   "source": [
    "거래소에서 거래되는 옵션 만기일이 매 만기 월의 세번째 금요일 -> 연도와 월 입력하면 세번째 금요일 날짜를 출력해주는 보조 함수 필요"
   ]
  },
  {
   "cell_type": "code",
   "execution_count": 11,
   "id": "d3d7eda2",
   "metadata": {},
   "outputs": [],
   "source": [
    "import datetime as dt\n",
    "import calendar"
   ]
  },
  {
   "cell_type": "code",
   "execution_count": 12,
   "id": "49ae2866",
   "metadata": {},
   "outputs": [],
   "source": [
    "def third_friday(date):\n",
    "    day = 21 - (calendar.weekday(date.year, date.month, 1) + 2) % 7\n",
    "    return dt.datetime(date.year, date.month, day)"
   ]
  },
  {
   "cell_type": "code",
   "execution_count": 13,
   "id": "dc9efd5f",
   "metadata": {},
   "outputs": [
    {
     "data": {
      "text/plain": [
       "{1, 2, 3, 4, 5, 6, 7, 8, 9, 10, 11}"
      ]
     },
     "execution_count": 13,
     "metadata": {},
     "output_type": "execute_result"
    }
   ],
   "source": [
    "# vstoxx 선물이나 옵션은 언제나 현재 달의 세 번째 금요일과 다음 달의 세 번째 금요일을 포함하여 8개의 만기 존재\n",
    "# 2014년 1월 부터 2014년 11월 까지 11개의 만기 존재\n",
    "\n",
    "set(vstoxx_futures['EXP_MONTH'])"
   ]
  },
  {
   "cell_type": "code",
   "execution_count": 14,
   "id": "62052664",
   "metadata": {},
   "outputs": [
    {
     "data": {
      "text/plain": [
       "{1: datetime.datetime(2014, 1, 17, 0, 0),\n",
       " 2: datetime.datetime(2014, 2, 21, 0, 0),\n",
       " 3: datetime.datetime(2014, 3, 21, 0, 0),\n",
       " 4: datetime.datetime(2014, 4, 18, 0, 0),\n",
       " 5: datetime.datetime(2014, 5, 16, 0, 0),\n",
       " 6: datetime.datetime(2014, 6, 20, 0, 0),\n",
       " 7: datetime.datetime(2014, 7, 18, 0, 0),\n",
       " 8: datetime.datetime(2014, 8, 15, 0, 0),\n",
       " 9: datetime.datetime(2014, 9, 19, 0, 0),\n",
       " 10: datetime.datetime(2014, 10, 17, 0, 0),\n",
       " 11: datetime.datetime(2014, 11, 21, 0, 0)}"
      ]
     },
     "execution_count": 14,
     "metadata": {},
     "output_type": "execute_result"
    }
   ],
   "source": [
    "third_fridays = {}\n",
    "for month in set(vstoxx_futures['EXP_MONTH']):\n",
    "        third_fridays[month] = third_friday(dt.datetime(2014, month, 1))\n",
    "\n",
    "third_fridays"
   ]
  },
  {
   "cell_type": "code",
   "execution_count": 15,
   "id": "edc9a854",
   "metadata": {},
   "outputs": [
    {
     "data": {
      "text/html": [
       "<div>\n",
       "<style scoped>\n",
       "    .dataframe tbody tr th:only-of-type {\n",
       "        vertical-align: middle;\n",
       "    }\n",
       "\n",
       "    .dataframe tbody tr th {\n",
       "        vertical-align: top;\n",
       "    }\n",
       "\n",
       "    .dataframe thead th {\n",
       "        text-align: right;\n",
       "    }\n",
       "</style>\n",
       "<table border=\"1\" class=\"dataframe\">\n",
       "  <thead>\n",
       "    <tr style=\"text-align: right;\">\n",
       "      <th></th>\n",
       "      <th>DATE</th>\n",
       "      <th>EXP_YEAR</th>\n",
       "      <th>EXP_MONTH</th>\n",
       "      <th>PRICE</th>\n",
       "      <th>MATURITY</th>\n",
       "    </tr>\n",
       "  </thead>\n",
       "  <tbody>\n",
       "    <tr>\n",
       "      <th>499</th>\n",
       "      <td>2014-03-31</td>\n",
       "      <td>2014</td>\n",
       "      <td>7</td>\n",
       "      <td>20.40</td>\n",
       "      <td>2014-07-18</td>\n",
       "    </tr>\n",
       "    <tr>\n",
       "      <th>500</th>\n",
       "      <td>2014-03-31</td>\n",
       "      <td>2014</td>\n",
       "      <td>8</td>\n",
       "      <td>20.70</td>\n",
       "      <td>2014-08-15</td>\n",
       "    </tr>\n",
       "    <tr>\n",
       "      <th>501</th>\n",
       "      <td>2014-03-31</td>\n",
       "      <td>2014</td>\n",
       "      <td>9</td>\n",
       "      <td>20.95</td>\n",
       "      <td>2014-09-19</td>\n",
       "    </tr>\n",
       "    <tr>\n",
       "      <th>502</th>\n",
       "      <td>2014-03-31</td>\n",
       "      <td>2014</td>\n",
       "      <td>10</td>\n",
       "      <td>21.05</td>\n",
       "      <td>2014-10-17</td>\n",
       "    </tr>\n",
       "    <tr>\n",
       "      <th>503</th>\n",
       "      <td>2014-03-31</td>\n",
       "      <td>2014</td>\n",
       "      <td>11</td>\n",
       "      <td>21.25</td>\n",
       "      <td>2014-11-21</td>\n",
       "    </tr>\n",
       "  </tbody>\n",
       "</table>\n",
       "</div>"
      ],
      "text/plain": [
       "          DATE  EXP_YEAR  EXP_MONTH  PRICE   MATURITY\n",
       "499 2014-03-31      2014          7  20.40 2014-07-18\n",
       "500 2014-03-31      2014          8  20.70 2014-08-15\n",
       "501 2014-03-31      2014          9  20.95 2014-09-19\n",
       "502 2014-03-31      2014         10  21.05 2014-10-17\n",
       "503 2014-03-31      2014         11  21.25 2014-11-21"
      ]
     },
     "execution_count": 15,
     "metadata": {},
     "output_type": "execute_result"
    }
   ],
   "source": [
    "# 위의 만기일을 DataFrame 객체의 EXP_MONTH 열에 적용\n",
    "tf = lambda x: third_fridays[x]\n",
    "vstoxx_futures['MATURITY'] = vstoxx_futures['EXP_MONTH'].apply(tf)\n",
    "\n",
    "vstoxx_futures.tail()"
   ]
  },
  {
   "cell_type": "markdown",
   "id": "da2eb53c",
   "metadata": {},
   "source": [
    "# 19.1.3 VSTOXX 옵션 데이터"
   ]
  },
  {
   "cell_type": "code",
   "execution_count": 16,
   "id": "22522fc5",
   "metadata": {},
   "outputs": [
    {
     "name": "stderr",
     "output_type": "stream",
     "text": [
      "C:\\Users\\anrnd\\anaconda3\\lib\\site-packages\\openpyxl\\worksheet\\_reader.py:312: UserWarning: Unknown extension is not supported and will be removed\n",
      "  warn(msg)\n"
     ]
    }
   ],
   "source": [
    "vstoxx_options = pd.read_excel('C:/Users/anrnd/Desktop/파이썬 금융분석/vstoxx_march_2014.xlsx','vstoxx_options')"
   ]
  },
  {
   "cell_type": "code",
   "execution_count": 17,
   "id": "9c1d0041",
   "metadata": {},
   "outputs": [
    {
     "name": "stdout",
     "output_type": "stream",
     "text": [
      "<class 'pandas.core.frame.DataFrame'>\n",
      "RangeIndex: 46960 entries, 0 to 46959\n",
      "Data columns (total 24 columns):\n",
      " #   Column                     Non-Null Count  Dtype         \n",
      "---  ------                     --------------  -----         \n",
      " 0   A_DATE                     46960 non-null  datetime64[ns]\n",
      " 1   A_EXP_YEAR                 46960 non-null  int64         \n",
      " 2   A_EXP_MONTH                46960 non-null  int64         \n",
      " 3   A_CALL_PUT_FLAG            46960 non-null  object        \n",
      " 4   A_EXERCISE_PRICE           46960 non-null  int64         \n",
      " 5   A_SETTLEMENT_PRICE_SCALED  46960 non-null  int64         \n",
      " 6   A_PRODUCT_ID               46960 non-null  object        \n",
      " 7   SETTLE                     46960 non-null  float64       \n",
      " 8   Unnamed: 8                 0 non-null      float64       \n",
      " 9   Unnamed: 9                 0 non-null      float64       \n",
      " 10  Unnamed: 10                0 non-null      float64       \n",
      " 11  Unnamed: 11                0 non-null      float64       \n",
      " 12  Unnamed: 12                0 non-null      float64       \n",
      " 13  Unnamed: 13                0 non-null      float64       \n",
      " 14  Unnamed: 14                0 non-null      float64       \n",
      " 15  Unnamed: 15                0 non-null      float64       \n",
      " 16  Unnamed: 16                0 non-null      float64       \n",
      " 17  Unnamed: 17                0 non-null      float64       \n",
      " 18  Unnamed: 18                0 non-null      float64       \n",
      " 19  Unnamed: 19                0 non-null      float64       \n",
      " 20  Unnamed: 20                0 non-null      float64       \n",
      " 21  Unnamed: 21                0 non-null      float64       \n",
      " 22  Unnamed: 22                0 non-null      float64       \n",
      " 23  Unnamed: 23                0 non-null      float64       \n",
      "dtypes: datetime64[ns](1), float64(17), int64(4), object(2)\n",
      "memory usage: 8.6+ MB\n"
     ]
    }
   ],
   "source": [
    "vstoxx_options.info()"
   ]
  },
  {
   "cell_type": "code",
   "execution_count": 18,
   "id": "927c8609",
   "metadata": {},
   "outputs": [],
   "source": [
    "del vstoxx_options['A_SETTLEMENT_PRICE_SCALED']\n",
    "del vstoxx_options['A_PRODUCT_ID']\n",
    "del vstoxx_options['Unnamed: 8']\n",
    "del vstoxx_options['Unnamed: 9']\n",
    "del vstoxx_options['Unnamed: 10']\n",
    "del vstoxx_options['Unnamed: 11']\n",
    "del vstoxx_options['Unnamed: 12']\n",
    "del vstoxx_options['Unnamed: 13']\n",
    "del vstoxx_options['Unnamed: 14']\n",
    "del vstoxx_options['Unnamed: 15']\n",
    "del vstoxx_options['Unnamed: 16']\n",
    "del vstoxx_options['Unnamed: 17']\n",
    "del vstoxx_options['Unnamed: 18']\n",
    "del vstoxx_options['Unnamed: 19']\n",
    "del vstoxx_options['Unnamed: 20']\n",
    "del vstoxx_options['Unnamed: 21']\n",
    "del vstoxx_options['Unnamed: 22']\n",
    "del vstoxx_options['Unnamed: 23']"
   ]
  },
  {
   "cell_type": "code",
   "execution_count": 19,
   "id": "fa118cdb",
   "metadata": {},
   "outputs": [],
   "source": [
    "columns = ['DATE', 'EXP_YEAR', 'EXP_MONTH', 'TYPE', 'STRIKE', 'PRICE']\n",
    "vstoxx_options.columns = columns"
   ]
  },
  {
   "cell_type": "code",
   "execution_count": 21,
   "id": "2a27d0a8",
   "metadata": {},
   "outputs": [
    {
     "data": {
      "text/html": [
       "<div>\n",
       "<style scoped>\n",
       "    .dataframe tbody tr th:only-of-type {\n",
       "        vertical-align: middle;\n",
       "    }\n",
       "\n",
       "    .dataframe tbody tr th {\n",
       "        vertical-align: top;\n",
       "    }\n",
       "\n",
       "    .dataframe thead th {\n",
       "        text-align: right;\n",
       "    }\n",
       "</style>\n",
       "<table border=\"1\" class=\"dataframe\">\n",
       "  <thead>\n",
       "    <tr style=\"text-align: right;\">\n",
       "      <th></th>\n",
       "      <th>DATE</th>\n",
       "      <th>EXP_YEAR</th>\n",
       "      <th>EXP_MONTH</th>\n",
       "      <th>TYPE</th>\n",
       "      <th>STRIKE</th>\n",
       "      <th>PRICE</th>\n",
       "      <th>MATURITY</th>\n",
       "    </tr>\n",
       "  </thead>\n",
       "  <tbody>\n",
       "    <tr>\n",
       "      <th>0</th>\n",
       "      <td>2014-01-02</td>\n",
       "      <td>2014</td>\n",
       "      <td>1</td>\n",
       "      <td>C</td>\n",
       "      <td>1000</td>\n",
       "      <td>7.95</td>\n",
       "      <td>2014-01-17</td>\n",
       "    </tr>\n",
       "    <tr>\n",
       "      <th>1</th>\n",
       "      <td>2014-01-02</td>\n",
       "      <td>2014</td>\n",
       "      <td>1</td>\n",
       "      <td>C</td>\n",
       "      <td>1500</td>\n",
       "      <td>3.05</td>\n",
       "      <td>2014-01-17</td>\n",
       "    </tr>\n",
       "    <tr>\n",
       "      <th>2</th>\n",
       "      <td>2014-01-02</td>\n",
       "      <td>2014</td>\n",
       "      <td>1</td>\n",
       "      <td>C</td>\n",
       "      <td>1600</td>\n",
       "      <td>2.20</td>\n",
       "      <td>2014-01-17</td>\n",
       "    </tr>\n",
       "    <tr>\n",
       "      <th>3</th>\n",
       "      <td>2014-01-02</td>\n",
       "      <td>2014</td>\n",
       "      <td>1</td>\n",
       "      <td>C</td>\n",
       "      <td>1700</td>\n",
       "      <td>1.60</td>\n",
       "      <td>2014-01-17</td>\n",
       "    </tr>\n",
       "    <tr>\n",
       "      <th>4</th>\n",
       "      <td>2014-01-02</td>\n",
       "      <td>2014</td>\n",
       "      <td>1</td>\n",
       "      <td>C</td>\n",
       "      <td>1800</td>\n",
       "      <td>1.15</td>\n",
       "      <td>2014-01-17</td>\n",
       "    </tr>\n",
       "  </tbody>\n",
       "</table>\n",
       "</div>"
      ],
      "text/plain": [
       "        DATE  EXP_YEAR  EXP_MONTH TYPE  STRIKE  PRICE   MATURITY\n",
       "0 2014-01-02      2014          1    C    1000   7.95 2014-01-17\n",
       "1 2014-01-02      2014          1    C    1500   3.05 2014-01-17\n",
       "2 2014-01-02      2014          1    C    1600   2.20 2014-01-17\n",
       "3 2014-01-02      2014          1    C    1700   1.60 2014-01-17\n",
       "4 2014-01-02      2014          1    C    1800   1.15 2014-01-17"
      ]
     },
     "execution_count": 21,
     "metadata": {},
     "output_type": "execute_result"
    }
   ],
   "source": [
    "vstoxx_options['MATURITY'] = vstoxx_options['EXP_MONTH'].apply(tf)\n",
    "vstoxx_options.head()"
   ]
  },
  {
   "cell_type": "markdown",
   "id": "a0535dc7",
   "metadata": {},
   "source": [
    "하나의 옵션 계약은 지수 값의 100배 -> 행사가 조정 필요"
   ]
  },
  {
   "cell_type": "code",
   "execution_count": 23,
   "id": "f748f66d",
   "metadata": {},
   "outputs": [],
   "source": [
    "vstoxx_options['STRIKE'] = vstoxx_options['STRIKE'] / 100."
   ]
  },
  {
   "cell_type": "code",
   "execution_count": 24,
   "id": "2416fc9b",
   "metadata": {},
   "outputs": [],
   "source": [
    "save = False\n",
    "if save is True:\n",
    "    import warnings\n",
    "    warnings.simplefilter('ignore')\n",
    "    h5 = pd.HDFStore('C:/Users/anrnd/Desktop/파이썬 금융분석/vstoxx_march_2014.h5', vomplevel = 9, complib = 'blosc')\n",
    "    h5['vstoxx_index'] = vstoxx_index\n",
    "    h5['vstoxx_futures'] = vstoxx_futures\n",
    "    h5['vstoxx_options'] = vstoxx_options\n",
    "    h5.close()"
   ]
  },
  {
   "cell_type": "code",
   "execution_count": null,
   "id": "a6ff866c",
   "metadata": {},
   "outputs": [],
   "source": []
  }
 ],
 "metadata": {
  "kernelspec": {
   "display_name": "Python 3",
   "language": "python",
   "name": "python3"
  },
  "language_info": {
   "codemirror_mode": {
    "name": "ipython",
    "version": 3
   },
   "file_extension": ".py",
   "mimetype": "text/x-python",
   "name": "python",
   "nbconvert_exporter": "python",
   "pygments_lexer": "ipython3",
   "version": "3.7.6"
  }
 },
 "nbformat": 4,
 "nbformat_minor": 5
}
