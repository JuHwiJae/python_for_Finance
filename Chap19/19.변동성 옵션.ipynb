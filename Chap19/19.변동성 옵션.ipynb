{
 "cells": [
  {
   "cell_type": "markdown",
   "id": "4d7108fb",
   "metadata": {},
   "source": [
    "# 19.1 VSTOXX 데이터"
   ]
  },
  {
   "cell_type": "markdown",
   "id": "c61656ed",
   "metadata": {},
   "source": [
    "VSTOXX 변동성 지수의 모형으로는 square_root_diffusion 클래스를 사용\n",
    "& 다음과 같은 점을 고려하여 구현"
   ]
  },
  {
   "cell_type": "markdown",
   "id": "503d806c",
   "metadata": {},
   "source": [
    "1. DATA 수집\n",
    "    - VSTOXX 지수뿐 아니라 이 지수를 기초자산으로 하는 선물과 옵션, 세 가지 유형의 자료가 필요\n",
    "   \n",
    "2. 모형 캘리브레이션\n",
    "    - 시장에서 거래되지 않는 옵션의 가치 평가를 위해선 모형에 사용되는 파라미터들이 현재 거래되는 옵션 가격을 최대한 유사하게 할 수 있는 값을 가지도록 캘리브레이션 해야함\n",
    "\n",
    "3. 포트폴리오 가치 평가\n",
    "    - VSTOXX 변동성 지수를 기초자산으로 하고 시장 가격에 캘리브레이션된 자료 및 모형이 있다면 현재 거래되지 않는 옵션을 모형화하고 가치 평가 할 수 있음"
   ]
  },
  {
   "cell_type": "markdown",
   "id": "59fdce6f",
   "metadata": {},
   "source": [
    "## 19.1.1 VSTOXX 지수 데이터 \n",
    "VSTOXX를 기초자산으로 하는 아메리칸 풋 옵션을 가치 평가하기 위해 필요한 자료 수집"
   ]
  },
  {
   "cell_type": "code",
   "execution_count": 1,
   "id": "65acf441",
   "metadata": {},
   "outputs": [],
   "source": [
    "import numpy as np\n",
    "import pandas as pd"
   ]
  },
  {
   "cell_type": "code",
   "execution_count": 2,
   "id": "ee42b68e",
   "metadata": {},
   "outputs": [],
   "source": [
    "url = 'http://www.stoxx.com/download/historical_values/h_vstoxx.txt'"
   ]
  },
  {
   "cell_type": "code",
   "execution_count": 3,
   "id": "b97d5e37",
   "metadata": {},
   "outputs": [],
   "source": [
    "vstoxx_index = pd.read_csv(url, index_col = 0, header = 2, parse_dates = True, dayfirst = True)"
   ]
  },
  {
   "cell_type": "code",
   "execution_count": 4,
   "id": "c7bb5ef7",
   "metadata": {},
   "outputs": [
    {
     "name": "stdout",
     "output_type": "stream",
     "text": [
      "<class 'pandas.core.frame.DataFrame'>\n",
      "DatetimeIndex: 4357 entries, 1999-01-04 to 2016-02-12\n",
      "Data columns (total 9 columns):\n",
      " #   Column  Non-Null Count  Dtype  \n",
      "---  ------  --------------  -----  \n",
      " 0   V2TX    4357 non-null   float64\n",
      " 1   V6I1    3906 non-null   float64\n",
      " 2   V6I2    4357 non-null   float64\n",
      " 3   V6I3    4296 non-null   float64\n",
      " 4   V6I4    4357 non-null   float64\n",
      " 5   V6I5    4357 non-null   float64\n",
      " 6   V6I6    4340 non-null   float64\n",
      " 7   V6I7    4357 non-null   float64\n",
      " 8   V6I8    4343 non-null   float64\n",
      "dtypes: float64(9)\n",
      "memory usage: 340.4 KB\n"
     ]
    }
   ],
   "source": [
    "vstoxx_index.info()"
   ]
  },
  {
   "cell_type": "markdown",
   "id": "6e06ac1f",
   "metadata": {},
   "source": [
    "2014년 1사분기 자료 사용 -> 그 외 자료는 삭제"
   ]
  },
  {
   "cell_type": "code",
   "execution_count": 5,
   "id": "763c7467",
   "metadata": {},
   "outputs": [],
   "source": [
    "vstoxx_index = vstoxx_index[('2013/12/31' < vstoxx_index.index) & (vstoxx_index.index < '2014/4/1')]"
   ]
  },
  {
   "cell_type": "markdown",
   "id": "89307f07",
   "metadata": {},
   "source": [
    "자료를 보면 V2TX의 일간 종가뿐 아니라 V6I1에서 V6I8까지의 보조 지수의 자료도 존재.\n",
    "\n",
    "* 기호의 마지막 숫자는 만기를 표시(1 = 가장 가까운 만기, 8 = 가장 먼 만기)\n",
    "* 여기서 지수는 V6I1과 V6I2를 내삽한 값(1 : 30일 이내의 만기, 2 : 30일부터 60일 사이의 만기)"
   ]
  },
  {
   "cell_type": "code",
   "execution_count": 6,
   "id": "9b43a817",
   "metadata": {},
   "outputs": [
    {
     "data": {
      "text/html": [
       "<div>\n",
       "<style scoped>\n",
       "    .dataframe tbody tr th:only-of-type {\n",
       "        vertical-align: middle;\n",
       "    }\n",
       "\n",
       "    .dataframe tbody tr th {\n",
       "        vertical-align: top;\n",
       "    }\n",
       "\n",
       "    .dataframe thead th {\n",
       "        text-align: right;\n",
       "    }\n",
       "</style>\n",
       "<table border=\"1\" class=\"dataframe\">\n",
       "  <thead>\n",
       "    <tr style=\"text-align: right;\">\n",
       "      <th></th>\n",
       "      <th>V2TX</th>\n",
       "      <th>V6I1</th>\n",
       "      <th>V6I2</th>\n",
       "      <th>V6I3</th>\n",
       "      <th>V6I4</th>\n",
       "      <th>V6I5</th>\n",
       "      <th>V6I6</th>\n",
       "      <th>V6I7</th>\n",
       "      <th>V6I8</th>\n",
       "    </tr>\n",
       "    <tr>\n",
       "      <th>Date</th>\n",
       "      <th></th>\n",
       "      <th></th>\n",
       "      <th></th>\n",
       "      <th></th>\n",
       "      <th></th>\n",
       "      <th></th>\n",
       "      <th></th>\n",
       "      <th></th>\n",
       "      <th></th>\n",
       "    </tr>\n",
       "  </thead>\n",
       "  <tbody>\n",
       "    <tr>\n",
       "      <th>2014-03-25</th>\n",
       "      <td>18.26</td>\n",
       "      <td>18.23</td>\n",
       "      <td>18.31</td>\n",
       "      <td>19.04</td>\n",
       "      <td>19.84</td>\n",
       "      <td>20.31</td>\n",
       "      <td>18.11</td>\n",
       "      <td>20.83</td>\n",
       "      <td>21.20</td>\n",
       "    </tr>\n",
       "    <tr>\n",
       "      <th>2014-03-26</th>\n",
       "      <td>17.59</td>\n",
       "      <td>17.48</td>\n",
       "      <td>17.70</td>\n",
       "      <td>18.45</td>\n",
       "      <td>19.42</td>\n",
       "      <td>20.00</td>\n",
       "      <td>20.26</td>\n",
       "      <td>20.45</td>\n",
       "      <td>20.86</td>\n",
       "    </tr>\n",
       "    <tr>\n",
       "      <th>2014-03-27</th>\n",
       "      <td>17.64</td>\n",
       "      <td>17.50</td>\n",
       "      <td>17.76</td>\n",
       "      <td>18.62</td>\n",
       "      <td>19.49</td>\n",
       "      <td>20.05</td>\n",
       "      <td>20.11</td>\n",
       "      <td>20.49</td>\n",
       "      <td>20.94</td>\n",
       "    </tr>\n",
       "    <tr>\n",
       "      <th>2014-03-28</th>\n",
       "      <td>17.03</td>\n",
       "      <td>16.68</td>\n",
       "      <td>17.29</td>\n",
       "      <td>18.33</td>\n",
       "      <td>19.30</td>\n",
       "      <td>19.83</td>\n",
       "      <td>20.14</td>\n",
       "      <td>20.38</td>\n",
       "      <td>20.82</td>\n",
       "    </tr>\n",
       "    <tr>\n",
       "      <th>2014-03-31</th>\n",
       "      <td>17.66</td>\n",
       "      <td>17.61</td>\n",
       "      <td>17.69</td>\n",
       "      <td>18.57</td>\n",
       "      <td>19.43</td>\n",
       "      <td>20.04</td>\n",
       "      <td>19.98</td>\n",
       "      <td>20.44</td>\n",
       "      <td>20.90</td>\n",
       "    </tr>\n",
       "  </tbody>\n",
       "</table>\n",
       "</div>"
      ],
      "text/plain": [
       "             V2TX   V6I1   V6I2   V6I3   V6I4   V6I5   V6I6   V6I7   V6I8\n",
       "Date                                                                     \n",
       "2014-03-25  18.26  18.23  18.31  19.04  19.84  20.31  18.11  20.83  21.20\n",
       "2014-03-26  17.59  17.48  17.70  18.45  19.42  20.00  20.26  20.45  20.86\n",
       "2014-03-27  17.64  17.50  17.76  18.62  19.49  20.05  20.11  20.49  20.94\n",
       "2014-03-28  17.03  16.68  17.29  18.33  19.30  19.83  20.14  20.38  20.82\n",
       "2014-03-31  17.66  17.61  17.69  18.57  19.43  20.04  19.98  20.44  20.90"
      ]
     },
     "execution_count": 6,
     "metadata": {},
     "output_type": "execute_result"
    }
   ],
   "source": [
    "np.round(vstoxx_index.tail(), 2)"
   ]
  },
  {
   "cell_type": "markdown",
   "id": "f67f7831",
   "metadata": {},
   "source": [
    "## 19.1.2 VSTOXX 선물 데이터"
   ]
  },
  {
   "cell_type": "code",
   "execution_count": 7,
   "id": "d73c8fdf",
   "metadata": {},
   "outputs": [
    {
     "name": "stderr",
     "output_type": "stream",
     "text": [
      "C:\\Users\\anrnd\\anaconda3\\lib\\site-packages\\openpyxl\\worksheet\\_reader.py:312: UserWarning: Unknown extension is not supported and will be removed\n",
      "  warn(msg)\n"
     ]
    }
   ],
   "source": [
    "vstoxx_futures = pd.read_excel('/Users/anrnd/Desktop/파이썬 금융분석/vstoxx_march_2014.xlsx','vstoxx_futures')"
   ]
  },
  {
   "cell_type": "code",
   "execution_count": 8,
   "id": "bfc0ca17",
   "metadata": {},
   "outputs": [
    {
     "name": "stdout",
     "output_type": "stream",
     "text": [
      "<class 'pandas.core.frame.DataFrame'>\n",
      "RangeIndex: 504 entries, 0 to 503\n",
      "Data columns (total 8 columns):\n",
      " #   Column                     Non-Null Count  Dtype         \n",
      "---  ------                     --------------  -----         \n",
      " 0   A_DATE                     504 non-null    datetime64[ns]\n",
      " 1   A_EXP_YEAR                 504 non-null    int64         \n",
      " 2   A_EXP_MONTH                504 non-null    int64         \n",
      " 3   A_CALL_PUT_FLAG            504 non-null    object        \n",
      " 4   A_EXERCISE_PRICE           504 non-null    int64         \n",
      " 5   A_SETTLEMENT_PRICE_SCALED  504 non-null    int64         \n",
      " 6   A_PRODUCT_ID               504 non-null    object        \n",
      " 7   SETTLE                     504 non-null    float64       \n",
      "dtypes: datetime64[ns](1), float64(1), int64(4), object(2)\n",
      "memory usage: 31.6+ KB\n"
     ]
    }
   ],
   "source": [
    "vstoxx_futures.info()"
   ]
  },
  {
   "cell_type": "code",
   "execution_count": 9,
   "id": "060f2ecb",
   "metadata": {},
   "outputs": [],
   "source": [
    "del vstoxx_futures['A_SETTLEMENT_PRICE_SCALED']\n",
    "del vstoxx_futures['A_CALL_PUT_FLAG']\n",
    "del vstoxx_futures['A_EXERCISE_PRICE']\n",
    "del vstoxx_futures['A_PRODUCT_ID']"
   ]
  },
  {
   "cell_type": "code",
   "execution_count": 10,
   "id": "af6a7a25",
   "metadata": {},
   "outputs": [],
   "source": [
    "columns = ['DATE', 'EXP_YEAR', 'EXP_MONTH', 'PRICE']\n",
    "vstoxx_futures.columns = columns"
   ]
  },
  {
   "cell_type": "markdown",
   "id": "b967a8a3",
   "metadata": {},
   "source": [
    "거래소에서 거래되는 옵션 만기일이 매 만기 월의 세번째 금요일 -> 연도와 월 입력하면 세번째 금요일 날짜를 출력해주는 보조 함수 필요"
   ]
  },
  {
   "cell_type": "code",
   "execution_count": 11,
   "id": "d3d7eda2",
   "metadata": {},
   "outputs": [],
   "source": [
    "import datetime as dt\n",
    "import calendar"
   ]
  },
  {
   "cell_type": "code",
   "execution_count": 12,
   "id": "49ae2866",
   "metadata": {},
   "outputs": [],
   "source": [
    "def third_friday(date):\n",
    "    day = 21 - (calendar.weekday(date.year, date.month, 1) + 2) % 7\n",
    "    return dt.datetime(date.year, date.month, day)"
   ]
  },
  {
   "cell_type": "code",
   "execution_count": 13,
   "id": "dc9efd5f",
   "metadata": {},
   "outputs": [
    {
     "data": {
      "text/plain": [
       "{1, 2, 3, 4, 5, 6, 7, 8, 9, 10, 11}"
      ]
     },
     "execution_count": 13,
     "metadata": {},
     "output_type": "execute_result"
    }
   ],
   "source": [
    "# vstoxx 선물이나 옵션은 언제나 현재 달의 세 번째 금요일과 다음 달의 세 번째 금요일을 포함하여 8개의 만기 존재\n",
    "# 2014년 1월 부터 2014년 11월 까지 11개의 만기 존재\n",
    "\n",
    "set(vstoxx_futures['EXP_MONTH'])"
   ]
  },
  {
   "cell_type": "code",
   "execution_count": 14,
   "id": "62052664",
   "metadata": {},
   "outputs": [
    {
     "data": {
      "text/plain": [
       "{1: datetime.datetime(2014, 1, 17, 0, 0),\n",
       " 2: datetime.datetime(2014, 2, 21, 0, 0),\n",
       " 3: datetime.datetime(2014, 3, 21, 0, 0),\n",
       " 4: datetime.datetime(2014, 4, 18, 0, 0),\n",
       " 5: datetime.datetime(2014, 5, 16, 0, 0),\n",
       " 6: datetime.datetime(2014, 6, 20, 0, 0),\n",
       " 7: datetime.datetime(2014, 7, 18, 0, 0),\n",
       " 8: datetime.datetime(2014, 8, 15, 0, 0),\n",
       " 9: datetime.datetime(2014, 9, 19, 0, 0),\n",
       " 10: datetime.datetime(2014, 10, 17, 0, 0),\n",
       " 11: datetime.datetime(2014, 11, 21, 0, 0)}"
      ]
     },
     "execution_count": 14,
     "metadata": {},
     "output_type": "execute_result"
    }
   ],
   "source": [
    "third_fridays = {}\n",
    "for month in set(vstoxx_futures['EXP_MONTH']):\n",
    "        third_fridays[month] = third_friday(dt.datetime(2014, month, 1))\n",
    "\n",
    "third_fridays"
   ]
  },
  {
   "cell_type": "code",
   "execution_count": 15,
   "id": "edc9a854",
   "metadata": {},
   "outputs": [
    {
     "data": {
      "text/html": [
       "<div>\n",
       "<style scoped>\n",
       "    .dataframe tbody tr th:only-of-type {\n",
       "        vertical-align: middle;\n",
       "    }\n",
       "\n",
       "    .dataframe tbody tr th {\n",
       "        vertical-align: top;\n",
       "    }\n",
       "\n",
       "    .dataframe thead th {\n",
       "        text-align: right;\n",
       "    }\n",
       "</style>\n",
       "<table border=\"1\" class=\"dataframe\">\n",
       "  <thead>\n",
       "    <tr style=\"text-align: right;\">\n",
       "      <th></th>\n",
       "      <th>DATE</th>\n",
       "      <th>EXP_YEAR</th>\n",
       "      <th>EXP_MONTH</th>\n",
       "      <th>PRICE</th>\n",
       "      <th>MATURITY</th>\n",
       "    </tr>\n",
       "  </thead>\n",
       "  <tbody>\n",
       "    <tr>\n",
       "      <th>499</th>\n",
       "      <td>2014-03-31</td>\n",
       "      <td>2014</td>\n",
       "      <td>7</td>\n",
       "      <td>20.40</td>\n",
       "      <td>2014-07-18</td>\n",
       "    </tr>\n",
       "    <tr>\n",
       "      <th>500</th>\n",
       "      <td>2014-03-31</td>\n",
       "      <td>2014</td>\n",
       "      <td>8</td>\n",
       "      <td>20.70</td>\n",
       "      <td>2014-08-15</td>\n",
       "    </tr>\n",
       "    <tr>\n",
       "      <th>501</th>\n",
       "      <td>2014-03-31</td>\n",
       "      <td>2014</td>\n",
       "      <td>9</td>\n",
       "      <td>20.95</td>\n",
       "      <td>2014-09-19</td>\n",
       "    </tr>\n",
       "    <tr>\n",
       "      <th>502</th>\n",
       "      <td>2014-03-31</td>\n",
       "      <td>2014</td>\n",
       "      <td>10</td>\n",
       "      <td>21.05</td>\n",
       "      <td>2014-10-17</td>\n",
       "    </tr>\n",
       "    <tr>\n",
       "      <th>503</th>\n",
       "      <td>2014-03-31</td>\n",
       "      <td>2014</td>\n",
       "      <td>11</td>\n",
       "      <td>21.25</td>\n",
       "      <td>2014-11-21</td>\n",
       "    </tr>\n",
       "  </tbody>\n",
       "</table>\n",
       "</div>"
      ],
      "text/plain": [
       "          DATE  EXP_YEAR  EXP_MONTH  PRICE   MATURITY\n",
       "499 2014-03-31      2014          7  20.40 2014-07-18\n",
       "500 2014-03-31      2014          8  20.70 2014-08-15\n",
       "501 2014-03-31      2014          9  20.95 2014-09-19\n",
       "502 2014-03-31      2014         10  21.05 2014-10-17\n",
       "503 2014-03-31      2014         11  21.25 2014-11-21"
      ]
     },
     "execution_count": 15,
     "metadata": {},
     "output_type": "execute_result"
    }
   ],
   "source": [
    "# 위의 만기일을 DataFrame 객체의 EXP_MONTH 열에 적용\n",
    "tf = lambda x: third_fridays[x]\n",
    "vstoxx_futures['MATURITY'] = vstoxx_futures['EXP_MONTH'].apply(tf)\n",
    "\n",
    "vstoxx_futures.tail()"
   ]
  },
  {
   "cell_type": "markdown",
   "id": "da2eb53c",
   "metadata": {},
   "source": [
    "## 19.1.3 VSTOXX 옵션 데이터"
   ]
  },
  {
   "cell_type": "code",
   "execution_count": 16,
   "id": "22522fc5",
   "metadata": {},
   "outputs": [
    {
     "name": "stderr",
     "output_type": "stream",
     "text": [
      "C:\\Users\\anrnd\\anaconda3\\lib\\site-packages\\openpyxl\\worksheet\\_reader.py:312: UserWarning: Unknown extension is not supported and will be removed\n",
      "  warn(msg)\n"
     ]
    }
   ],
   "source": [
    "vstoxx_options = pd.read_excel('/Users/anrnd/Desktop/파이썬 금융분석/vstoxx_march_2014.xlsx','vstoxx_options')"
   ]
  },
  {
   "cell_type": "code",
   "execution_count": 17,
   "id": "9c1d0041",
   "metadata": {},
   "outputs": [
    {
     "name": "stdout",
     "output_type": "stream",
     "text": [
      "<class 'pandas.core.frame.DataFrame'>\n",
      "RangeIndex: 46960 entries, 0 to 46959\n",
      "Data columns (total 8 columns):\n",
      " #   Column                     Non-Null Count  Dtype         \n",
      "---  ------                     --------------  -----         \n",
      " 0   A_DATE                     46960 non-null  datetime64[ns]\n",
      " 1   A_EXP_YEAR                 46960 non-null  int64         \n",
      " 2   A_EXP_MONTH                46960 non-null  int64         \n",
      " 3   A_CALL_PUT_FLAG            46960 non-null  object        \n",
      " 4   A_EXERCISE_PRICE           46960 non-null  int64         \n",
      " 5   A_SETTLEMENT_PRICE_SCALED  46960 non-null  int64         \n",
      " 6   A_PRODUCT_ID               46960 non-null  object        \n",
      " 7   SETTLE                     46960 non-null  float64       \n",
      "dtypes: datetime64[ns](1), float64(1), int64(4), object(2)\n",
      "memory usage: 2.9+ MB\n"
     ]
    }
   ],
   "source": [
    "vstoxx_options.info()"
   ]
  },
  {
   "cell_type": "code",
   "execution_count": 18,
   "id": "927c8609",
   "metadata": {},
   "outputs": [],
   "source": [
    "del vstoxx_options['A_SETTLEMENT_PRICE_SCALED']\n",
    "del vstoxx_options['A_PRODUCT_ID']"
   ]
  },
  {
   "cell_type": "code",
   "execution_count": 19,
   "id": "fa118cdb",
   "metadata": {},
   "outputs": [],
   "source": [
    "columns = ['DATE', 'EXP_YEAR', 'EXP_MONTH', 'TYPE', 'STRIKE', 'PRICE']\n",
    "vstoxx_options.columns = columns"
   ]
  },
  {
   "cell_type": "code",
   "execution_count": 20,
   "id": "2a27d0a8",
   "metadata": {},
   "outputs": [
    {
     "data": {
      "text/html": [
       "<div>\n",
       "<style scoped>\n",
       "    .dataframe tbody tr th:only-of-type {\n",
       "        vertical-align: middle;\n",
       "    }\n",
       "\n",
       "    .dataframe tbody tr th {\n",
       "        vertical-align: top;\n",
       "    }\n",
       "\n",
       "    .dataframe thead th {\n",
       "        text-align: right;\n",
       "    }\n",
       "</style>\n",
       "<table border=\"1\" class=\"dataframe\">\n",
       "  <thead>\n",
       "    <tr style=\"text-align: right;\">\n",
       "      <th></th>\n",
       "      <th>DATE</th>\n",
       "      <th>EXP_YEAR</th>\n",
       "      <th>EXP_MONTH</th>\n",
       "      <th>TYPE</th>\n",
       "      <th>STRIKE</th>\n",
       "      <th>PRICE</th>\n",
       "      <th>MATURITY</th>\n",
       "    </tr>\n",
       "  </thead>\n",
       "  <tbody>\n",
       "    <tr>\n",
       "      <th>0</th>\n",
       "      <td>2014-01-02</td>\n",
       "      <td>2014</td>\n",
       "      <td>1</td>\n",
       "      <td>C</td>\n",
       "      <td>1000</td>\n",
       "      <td>7.95</td>\n",
       "      <td>2014-01-17</td>\n",
       "    </tr>\n",
       "    <tr>\n",
       "      <th>1</th>\n",
       "      <td>2014-01-02</td>\n",
       "      <td>2014</td>\n",
       "      <td>1</td>\n",
       "      <td>C</td>\n",
       "      <td>1500</td>\n",
       "      <td>3.05</td>\n",
       "      <td>2014-01-17</td>\n",
       "    </tr>\n",
       "    <tr>\n",
       "      <th>2</th>\n",
       "      <td>2014-01-02</td>\n",
       "      <td>2014</td>\n",
       "      <td>1</td>\n",
       "      <td>C</td>\n",
       "      <td>1600</td>\n",
       "      <td>2.20</td>\n",
       "      <td>2014-01-17</td>\n",
       "    </tr>\n",
       "    <tr>\n",
       "      <th>3</th>\n",
       "      <td>2014-01-02</td>\n",
       "      <td>2014</td>\n",
       "      <td>1</td>\n",
       "      <td>C</td>\n",
       "      <td>1700</td>\n",
       "      <td>1.60</td>\n",
       "      <td>2014-01-17</td>\n",
       "    </tr>\n",
       "    <tr>\n",
       "      <th>4</th>\n",
       "      <td>2014-01-02</td>\n",
       "      <td>2014</td>\n",
       "      <td>1</td>\n",
       "      <td>C</td>\n",
       "      <td>1800</td>\n",
       "      <td>1.15</td>\n",
       "      <td>2014-01-17</td>\n",
       "    </tr>\n",
       "  </tbody>\n",
       "</table>\n",
       "</div>"
      ],
      "text/plain": [
       "        DATE  EXP_YEAR  EXP_MONTH TYPE  STRIKE  PRICE   MATURITY\n",
       "0 2014-01-02      2014          1    C    1000   7.95 2014-01-17\n",
       "1 2014-01-02      2014          1    C    1500   3.05 2014-01-17\n",
       "2 2014-01-02      2014          1    C    1600   2.20 2014-01-17\n",
       "3 2014-01-02      2014          1    C    1700   1.60 2014-01-17\n",
       "4 2014-01-02      2014          1    C    1800   1.15 2014-01-17"
      ]
     },
     "execution_count": 20,
     "metadata": {},
     "output_type": "execute_result"
    }
   ],
   "source": [
    "vstoxx_options['MATURITY'] = vstoxx_options['EXP_MONTH'].apply(tf)\n",
    "vstoxx_options.head()"
   ]
  },
  {
   "cell_type": "markdown",
   "id": "a0535dc7",
   "metadata": {},
   "source": [
    "하나의 옵션 계약은 지수 값의 100배 -> 행사가 조정 필요"
   ]
  },
  {
   "cell_type": "code",
   "execution_count": 21,
   "id": "f748f66d",
   "metadata": {},
   "outputs": [],
   "source": [
    "vstoxx_options['STRIKE'] = vstoxx_options['STRIKE'] / 100."
   ]
  },
  {
   "cell_type": "code",
   "execution_count": 22,
   "id": "2416fc9b",
   "metadata": {},
   "outputs": [],
   "source": [
    "save = False\n",
    "if save is True:\n",
    "    import warnings\n",
    "    warnings.simplefilter('ignore')\n",
    "    h5 = pd.HDFStore('C:/Users/anrnd/Desktop/파이썬 금융분석/vstoxx_march_2014.h5', complevel = 9, complib = 'blosc')\n",
    "    h5['vstoxx_index'] = vstoxx_index\n",
    "    h5['vstoxx_futures'] = vstoxx_futures\n",
    "    h5['vstoxx_options'] = vstoxx_options\n",
    "    h5.close()"
   ]
  },
  {
   "cell_type": "markdown",
   "id": "4546e519",
   "metadata": {},
   "source": [
    "# 19.2 모형 캘리브레이션"
   ]
  },
  {
   "cell_type": "markdown",
   "id": "9301d8a7",
   "metadata": {},
   "source": [
    "가치 평가에 사용될 모형을 현재 시장 자료에 맞게 캘리브레시션 해야함\n",
    "\n",
    "1. 어떤 시장 정보를 사용할지 결정"
   ]
  },
  {
   "cell_type": "markdown",
   "id": "7f7352fd",
   "metadata": {},
   "source": [
    "## 19.2.1 관련 시장 정보"
   ]
  },
  {
   "cell_type": "code",
   "execution_count": 23,
   "id": "91fce727",
   "metadata": {},
   "outputs": [],
   "source": [
    "# 다음의 예제에서는 \n",
    "# 가격 계산일 : 2014/03/31\n",
    "# 옵션 만기 : 2014/10\n",
    "\n",
    "pricing_date = dt.datetime(2014, 3, 31)\n",
    "maturity = third_fridays[10]\n",
    "\n",
    "initial_value = vstoxx_index['V2TX'][pricing_date]\n",
    "forward = vstoxx_futures[(vstoxx_futures.DATE == pricing_date) & (vstoxx_futures.MATURITY == maturity)]['PRICE'].values[0]"
   ]
  },
  {
   "cell_type": "code",
   "execution_count": 24,
   "id": "b021530c",
   "metadata": {},
   "outputs": [],
   "source": [
    "# 옵션 자료에서 다음의 값들만 필요\n",
    "# 가치 평가일의 값\n",
    "# 해당 만기일의 값\n",
    "# 콜 옵션 중 20% 이상의 외가격 혹은 내가격 옵션\n",
    "\n",
    "tol = 0.20\n",
    "option_selection = vstoxx_options[(vstoxx_options.DATE == pricing_date)\n",
    "                                  & (vstoxx_options.MATURITY == maturity)\n",
    "                                  & (vstoxx_options.TYPE == 'C')\n",
    "                                  & (vstoxx_options.STRIKE > (1 - tol) * forward)\n",
    "                                  & (vstoxx_options.STRIKE < (1 + tol) * forward)]"
   ]
  },
  {
   "cell_type": "code",
   "execution_count": 25,
   "id": "d89b2ff5",
   "metadata": {},
   "outputs": [
    {
     "data": {
      "text/html": [
       "<div>\n",
       "<style scoped>\n",
       "    .dataframe tbody tr th:only-of-type {\n",
       "        vertical-align: middle;\n",
       "    }\n",
       "\n",
       "    .dataframe tbody tr th {\n",
       "        vertical-align: top;\n",
       "    }\n",
       "\n",
       "    .dataframe thead th {\n",
       "        text-align: right;\n",
       "    }\n",
       "</style>\n",
       "<table border=\"1\" class=\"dataframe\">\n",
       "  <thead>\n",
       "    <tr style=\"text-align: right;\">\n",
       "      <th></th>\n",
       "      <th>DATE</th>\n",
       "      <th>EXP_YEAR</th>\n",
       "      <th>EXP_MONTH</th>\n",
       "      <th>TYPE</th>\n",
       "      <th>STRIKE</th>\n",
       "      <th>PRICE</th>\n",
       "      <th>MATURITY</th>\n",
       "    </tr>\n",
       "  </thead>\n",
       "  <tbody>\n",
       "    <tr>\n",
       "      <th>46482</th>\n",
       "      <td>2014-03-31</td>\n",
       "      <td>2014</td>\n",
       "      <td>10</td>\n",
       "      <td>C</td>\n",
       "      <td>17.0</td>\n",
       "      <td>4.85</td>\n",
       "      <td>2014-10-17</td>\n",
       "    </tr>\n",
       "    <tr>\n",
       "      <th>46483</th>\n",
       "      <td>2014-03-31</td>\n",
       "      <td>2014</td>\n",
       "      <td>10</td>\n",
       "      <td>C</td>\n",
       "      <td>18.0</td>\n",
       "      <td>4.30</td>\n",
       "      <td>2014-10-17</td>\n",
       "    </tr>\n",
       "    <tr>\n",
       "      <th>46484</th>\n",
       "      <td>2014-03-31</td>\n",
       "      <td>2014</td>\n",
       "      <td>10</td>\n",
       "      <td>C</td>\n",
       "      <td>19.0</td>\n",
       "      <td>3.80</td>\n",
       "      <td>2014-10-17</td>\n",
       "    </tr>\n",
       "    <tr>\n",
       "      <th>46485</th>\n",
       "      <td>2014-03-31</td>\n",
       "      <td>2014</td>\n",
       "      <td>10</td>\n",
       "      <td>C</td>\n",
       "      <td>20.0</td>\n",
       "      <td>3.40</td>\n",
       "      <td>2014-10-17</td>\n",
       "    </tr>\n",
       "    <tr>\n",
       "      <th>46486</th>\n",
       "      <td>2014-03-31</td>\n",
       "      <td>2014</td>\n",
       "      <td>10</td>\n",
       "      <td>C</td>\n",
       "      <td>21.0</td>\n",
       "      <td>3.05</td>\n",
       "      <td>2014-10-17</td>\n",
       "    </tr>\n",
       "    <tr>\n",
       "      <th>46487</th>\n",
       "      <td>2014-03-31</td>\n",
       "      <td>2014</td>\n",
       "      <td>10</td>\n",
       "      <td>C</td>\n",
       "      <td>22.0</td>\n",
       "      <td>2.75</td>\n",
       "      <td>2014-10-17</td>\n",
       "    </tr>\n",
       "    <tr>\n",
       "      <th>46488</th>\n",
       "      <td>2014-03-31</td>\n",
       "      <td>2014</td>\n",
       "      <td>10</td>\n",
       "      <td>C</td>\n",
       "      <td>23.0</td>\n",
       "      <td>2.50</td>\n",
       "      <td>2014-10-17</td>\n",
       "    </tr>\n",
       "    <tr>\n",
       "      <th>46489</th>\n",
       "      <td>2014-03-31</td>\n",
       "      <td>2014</td>\n",
       "      <td>10</td>\n",
       "      <td>C</td>\n",
       "      <td>24.0</td>\n",
       "      <td>2.25</td>\n",
       "      <td>2014-10-17</td>\n",
       "    </tr>\n",
       "    <tr>\n",
       "      <th>46490</th>\n",
       "      <td>2014-03-31</td>\n",
       "      <td>2014</td>\n",
       "      <td>10</td>\n",
       "      <td>C</td>\n",
       "      <td>25.0</td>\n",
       "      <td>2.10</td>\n",
       "      <td>2014-10-17</td>\n",
       "    </tr>\n",
       "  </tbody>\n",
       "</table>\n",
       "</div>"
      ],
      "text/plain": [
       "            DATE  EXP_YEAR  EXP_MONTH TYPE  STRIKE  PRICE   MATURITY\n",
       "46482 2014-03-31      2014         10    C    17.0   4.85 2014-10-17\n",
       "46483 2014-03-31      2014         10    C    18.0   4.30 2014-10-17\n",
       "46484 2014-03-31      2014         10    C    19.0   3.80 2014-10-17\n",
       "46485 2014-03-31      2014         10    C    20.0   3.40 2014-10-17\n",
       "46486 2014-03-31      2014         10    C    21.0   3.05 2014-10-17\n",
       "46487 2014-03-31      2014         10    C    22.0   2.75 2014-10-17\n",
       "46488 2014-03-31      2014         10    C    23.0   2.50 2014-10-17\n",
       "46489 2014-03-31      2014         10    C    24.0   2.25 2014-10-17\n",
       "46490 2014-03-31      2014         10    C    25.0   2.10 2014-10-17"
      ]
     },
     "execution_count": 25,
     "metadata": {},
     "output_type": "execute_result"
    }
   ],
   "source": [
    "option_selection"
   ]
  },
  {
   "cell_type": "markdown",
   "id": "474d1509",
   "metadata": {},
   "source": [
    "## 19.2.2 옵션 모형"
   ]
  },
  {
   "cell_type": "code",
   "execution_count": 26,
   "id": "aa6cadd8",
   "metadata": {},
   "outputs": [],
   "source": [
    "from dx_frame import *\n",
    "from sn_random_numbers import sn_random_numbers\n",
    "from geometric_brownian_motion import geometric_brownian_motion\n",
    "from jump_diffusion import jump_diffusion\n",
    "from square_root_diffusion import square_root_diffusion\n",
    "from simulation_class import simulation_class\n",
    "\n",
    "from valuation_class import valuation_class\n",
    "from valuation_mcs_european import valuation_mcs_european\n",
    "from valuation_mcs_american import valuation_mcs_american\n",
    "\n",
    "from derivatives_position import derivatives_position\n",
    "from derivatives_portfolio import derivatives_portfolio"
   ]
  },
  {
   "cell_type": "code",
   "execution_count": 27,
   "id": "8b12e75b",
   "metadata": {},
   "outputs": [],
   "source": [
    "me_vstoxx = market_environment('me_vstoxx', pricing_date)\n",
    "me_vstoxx.add_constant('initial_value', initial_value)\n",
    "me_vstoxx.add_constant('final_date', maturity)\n",
    "me_vstoxx.add_constant('currency', 'EUR')\n",
    "me_vstoxx.add_constant('frequency', 'B')\n",
    "me_vstoxx.add_constant('paths', 10000)\n",
    "\n",
    "csr = constant_short_rate('csr', 0.01) \n",
    "# 임의 값 선택"
   ]
  },
  {
   "cell_type": "code",
   "execution_count": 28,
   "id": "47a0471f",
   "metadata": {},
   "outputs": [],
   "source": [
    "me_vstoxx.add_curve('discount_curve', csr)"
   ]
  },
  {
   "cell_type": "code",
   "execution_count": 29,
   "id": "5d5901e8",
   "metadata": {},
   "outputs": [],
   "source": [
    "# 캘리브레이션의 주요 목표는 square_root_diffusion에서 필요한 kappa, theta, volatility에 대한 최적 파라미터 값을 찾는것\n",
    "\n",
    "# 추후 캘리브레이션할 값\n",
    "me_vstoxx.add_constant('kappa', 1.0)\n",
    "me_vstoxx.add_constant('theta', 1.2 * initial_value)\n",
    "vol_est = vstoxx_index['V2TX'].std() * np.sqrt(len(vstoxx_index['V2TX']) / 252.)\n",
    "me_vstoxx.add_constant('volatility', vol_est)"
   ]
  },
  {
   "cell_type": "code",
   "execution_count": 30,
   "id": "990a4c70",
   "metadata": {},
   "outputs": [
    {
     "data": {
      "text/plain": [
       "1.0384283035169348"
      ]
     },
     "execution_count": 30,
     "metadata": {},
     "output_type": "execute_result"
    }
   ],
   "source": [
    "vol_est"
   ]
  },
  {
   "cell_type": "code",
   "execution_count": 31,
   "id": "3c55c028",
   "metadata": {},
   "outputs": [],
   "source": [
    "vstoxx_model = square_root_diffusion('vstoxx_model', me_vstoxx)"
   ]
  },
  {
   "cell_type": "code",
   "execution_count": 32,
   "id": "8848fa30",
   "metadata": {},
   "outputs": [],
   "source": [
    "# 위험 요인을 독립적으로 모형화 하려면 market_environment 객체는 다르게 사용해야 한다.\n",
    "# 하나의 market_environment 객체를 기초자산의 위험 요인과 그에 의존하는 옵션 가치 평가에 동시에 사용 할수 있다. 이 경우에는 \n",
    "# market_environment 객체에 만기와 행사가를 각각 넣어야함\n",
    "\n",
    "me_vstoxx.add_constant('strike', forward)\n",
    "me_vstoxx.add_constant('maturity', maturity)"
   ]
  },
  {
   "cell_type": "code",
   "execution_count": 33,
   "id": "9971a857",
   "metadata": {},
   "outputs": [],
   "source": [
    "payoff_func = 'np.maximum(maturity_value - strike, 0)'\n",
    "vstoxx_eur_call = valuation_mcs_european('vstoxx_eur_call', vstoxx_model, me_vstoxx, payoff_func)"
   ]
  },
  {
   "cell_type": "code",
   "execution_count": 34,
   "id": "cbe3a99c",
   "metadata": {},
   "outputs": [
    {
     "data": {
      "text/plain": [
       "0.362053"
      ]
     },
     "execution_count": 34,
     "metadata": {},
     "output_type": "execute_result"
    }
   ],
   "source": [
    "vstoxx_eur_call.present_value()"
   ]
  },
  {
   "cell_type": "code",
   "execution_count": 35,
   "id": "0867535e",
   "metadata": {},
   "outputs": [],
   "source": [
    "option_models = {}\n",
    "for option in option_selection.index:\n",
    "    strike = option_selection['STRIKE'].loc[option]\n",
    "    me_vstoxx.add_constant('strike', strike)\n",
    "    option_models[option] = valuation_mcs_european('eur_call_%d' % strike,\n",
    "                                                  vstoxx_model,\n",
    "                                                  me_vstoxx,\n",
    "                                                  payoff_func)"
   ]
  },
  {
   "cell_type": "code",
   "execution_count": 36,
   "id": "917a31e2",
   "metadata": {},
   "outputs": [],
   "source": [
    "# 캘리브레이션 과정에서 변동성 파라미터를 바꾸면 모든 가치 평가 객체를 갱신하고 모든 옵션의 가격을 재산출해야함\n",
    "def calculate_model_values(p0):\n",
    "    ''' 모든 옵션 가격 반환\n",
    "    \n",
    "    인수\n",
    "    ====\n",
    "    p0 : tuple/list\n",
    "        kappa, theta, volatility 튜플\n",
    "        \n",
    "    반환값\n",
    "    ======\n",
    "    model_values : dict\n",
    "        모형을 값으로 가지는 사전 객체\n",
    "    \n",
    "    '''\n",
    "    kappa, theta, volatility = p0\n",
    "    vstoxx_model.update(kappa = kappa,\n",
    "                        theta = theta,\n",
    "                        volatility = volatility)\n",
    "    model_values = {}\n",
    "    for option in option_models:\n",
    "        model_values[option] = option_models[option].present_value(fixed_seed = True)\n",
    "    return model_values"
   ]
  },
  {
   "cell_type": "code",
   "execution_count": 37,
   "id": "449341a4",
   "metadata": {},
   "outputs": [
    {
     "data": {
      "text/plain": [
       "{46482: 3.224019,\n",
       " 46483: 2.425608,\n",
       " 46484: 1.740539,\n",
       " 46485: 1.1853,\n",
       " 46486: 0.764599,\n",
       " 46487: 0.465031,\n",
       " 46488: 0.265111,\n",
       " 46489: 0.142958,\n",
       " 46490: 0.072587}"
      ]
     },
     "execution_count": 37,
     "metadata": {},
     "output_type": "execute_result"
    }
   ],
   "source": [
    "calculate_model_values((0.5, 27.5, vol_est))"
   ]
  },
  {
   "cell_type": "markdown",
   "id": "49fee8a1",
   "metadata": {},
   "source": [
    "## 19.2.3 캘리브레이션 절차"
   ]
  },
  {
   "cell_type": "markdown",
   "id": "cd95aa60",
   "metadata": {},
   "source": [
    "캘리브레이션에서 가장 많이 사용되는 함수 : 평균 제곱 오차(MSE, mean_squared error)\n",
    "\n",
    "$min_p {1 \\over N}∑^N_{n = 1}(C^*_n - C^{mod}_n(p))^2$ "
   ]
  },
  {
   "cell_type": "code",
   "execution_count": 38,
   "id": "378c991f",
   "metadata": {},
   "outputs": [],
   "source": [
    "i = 0\n",
    "def mean_squared_error(p0):\n",
    "    ''' 주어진 모형과 시장 상황에 따른 평균 제곱 오차 반환\n",
    "    \n",
    "    인수\n",
    "    ====\n",
    "    p0 : tuple/list\n",
    "        tuple of kappa, theta, volatility\n",
    "        \n",
    "    반환값\n",
    "    ======\n",
    "    MSE : float\n",
    "        평균 제곱 오차\n",
    "    \n",
    "    '''\n",
    "    global i\n",
    "    model_values = list(calculate_model_values(p0).values())\n",
    "    market_values = option_selection['PRICE'].values\n",
    "    option_diffs = model_values - market_values\n",
    "    MSE = np.sum(option_diffs ** 2) / len(option_diffs)\n",
    "        # 평균 제곱 오차의 벡터화 연산\n",
    "    if i % 20 == 0:\n",
    "        if i == 0:\n",
    "            print('%4s %6s %6s %6s --> %6s' % ('i', 'kappa', 'theta', 'vola', 'MSE'))\n",
    "            print('%4d %6.3f %6.3f %6.3f --> %6.3f' % (i, p0[0], p0[1], p0[2], MSE))\n",
    "    \n",
    "    i += 1\n",
    "    return MSE"
   ]
  },
  {
   "cell_type": "code",
   "execution_count": 39,
   "id": "f711e6ce",
   "metadata": {},
   "outputs": [
    {
     "name": "stdout",
     "output_type": "stream",
     "text": [
      "   i  kappa  theta   vola -->    MSE\n",
      "   0  0.500 27.500  1.038 -->  4.366\n"
     ]
    },
    {
     "data": {
      "text/plain": [
       "4.3658149609957775"
      ]
     },
     "execution_count": 39,
     "metadata": {},
     "output_type": "execute_result"
    }
   ],
   "source": [
    "mean_squared_error((0.5, 27.5, vol_est))"
   ]
  },
  {
   "cell_type": "code",
   "execution_count": 40,
   "id": "25feaf80",
   "metadata": {},
   "outputs": [],
   "source": [
    "# SpiPy 함수 사용하여 볼록 최적화 문제 해결(9장 참고)"
   ]
  },
  {
   "cell_type": "code",
   "execution_count": 41,
   "id": "7f318960",
   "metadata": {},
   "outputs": [],
   "source": [
    "import scipy.optimize as spo"
   ]
  },
  {
   "cell_type": "markdown",
   "id": "e14525a4",
   "metadata": {},
   "source": [
    "캘리브레이션을 위해 brute 함수로 전역 최적화 시도 후 fmin 함수로 국소 최적화"
   ]
  },
  {
   "cell_type": "code",
   "execution_count": 42,
   "id": "fa9d773e",
   "metadata": {},
   "outputs": [
    {
     "name": "stdout",
     "output_type": "stream",
     "text": [
      "   i  kappa  theta   vola -->    MSE\n",
      "   0  0.500 15.000  0.500 --> 10.389\n",
      "Wall time: 16.9 s\n"
     ]
    }
   ],
   "source": [
    "%%time\n",
    "i = 0\n",
    "opt_global = spo.brute(mean_squared_error, ((0.5, 3.01, 0.5), # range for kappa\n",
    "                                            (15., 30.1, 5.), # range for theta\n",
    "                                            (0.5, 5.51, 1)), # range for volatility\n",
    "                                            finish = None)"
   ]
  },
  {
   "cell_type": "code",
   "execution_count": 43,
   "id": "13271ef9",
   "metadata": {},
   "outputs": [
    {
     "name": "stdout",
     "output_type": "stream",
     "text": [
      "   i  kappa  theta   vola -->    MSE\n",
      "   0  1.500 20.000  4.500 -->  0.009\n"
     ]
    },
    {
     "data": {
      "text/plain": [
       "0.009163717509555585"
      ]
     },
     "execution_count": 43,
     "metadata": {},
     "output_type": "execute_result"
    }
   ],
   "source": [
    "# 전역 최적화 후 결과\n",
    "i = 0\n",
    "mean_squared_error(opt_global)"
   ]
  },
  {
   "cell_type": "code",
   "execution_count": 44,
   "id": "e6b91eac",
   "metadata": {},
   "outputs": [
    {
     "name": "stdout",
     "output_type": "stream",
     "text": [
      "   i  kappa  theta   vola -->    MSE\n",
      "   0  1.500 20.000  4.500 -->  0.009\n",
      "Optimization terminated successfully.\n",
      "         Current function value: 0.004637\n",
      "         Iterations: 69\n",
      "         Function evaluations: 141\n",
      "Wall time: 16 s\n"
     ]
    }
   ],
   "source": [
    "%%time\n",
    "i = 0\n",
    "opt_local = spo.fmin(mean_squared_error, opt_global, xtol = 0.00001, ftol = 0.0001, maxiter = 100, maxfun = 350)"
   ]
  },
  {
   "cell_type": "code",
   "execution_count": 45,
   "id": "a4f47d19",
   "metadata": {},
   "outputs": [
    {
     "name": "stdout",
     "output_type": "stream",
     "text": [
      "   i  kappa  theta   vola -->    MSE\n",
      "   0  1.469 18.871  4.761 -->  0.005\n"
     ]
    },
    {
     "data": {
      "text/plain": [
       "0.0046365696610000074"
      ]
     },
     "execution_count": 45,
     "metadata": {},
     "output_type": "execute_result"
    }
   ],
   "source": [
    "i = 0\n",
    "mean_squared_error(opt_local)"
   ]
  },
  {
   "cell_type": "code",
   "execution_count": 46,
   "id": "74335225",
   "metadata": {},
   "outputs": [
    {
     "data": {
      "text/plain": [
       "{46482: 4.746395,\n",
       " 46483: 4.28691,\n",
       " 46484: 3.862873,\n",
       " 46485: 3.473958,\n",
       " 46486: 3.119423,\n",
       " 46487: 2.793903,\n",
       " 46488: 2.49485,\n",
       " 46489: 2.224958,\n",
       " 46490: 1.981677}"
      ]
     },
     "execution_count": 46,
     "metadata": {},
     "output_type": "execute_result"
    }
   ],
   "source": [
    "calculate_model_values(opt_local)"
   ]
  },
  {
   "cell_type": "code",
   "execution_count": 47,
   "id": "625f3b5f",
   "metadata": {},
   "outputs": [
    {
     "name": "stderr",
     "output_type": "stream",
     "text": [
      "C:\\Users\\anrnd\\anaconda3\\lib\\site-packages\\ipykernel_launcher.py:2: SettingWithCopyWarning: \n",
      "A value is trying to be set on a copy of a slice from a DataFrame.\n",
      "Try using .loc[row_indexer,col_indexer] = value instead\n",
      "\n",
      "See the caveats in the documentation: https://pandas.pydata.org/pandas-docs/stable/user_guide/indexing.html#returning-a-view-versus-a-copy\n",
      "  \n",
      "C:\\Users\\anrnd\\anaconda3\\lib\\site-packages\\ipykernel_launcher.py:3: SettingWithCopyWarning: \n",
      "A value is trying to be set on a copy of a slice from a DataFrame.\n",
      "Try using .loc[row_indexer,col_indexer] = value instead\n",
      "\n",
      "See the caveats in the documentation: https://pandas.pydata.org/pandas-docs/stable/user_guide/indexing.html#returning-a-view-versus-a-copy\n",
      "  This is separate from the ipykernel package so we can avoid doing imports until\n"
     ]
    }
   ],
   "source": [
    "# 이렇게 구한 값들과 시장 가격과의 차이 계산\n",
    "option_selection['MODEL'] = list(calculate_model_values(opt_local).values())\n",
    "option_selection['ERRORS'] = option_selection['MODEL'] - option_selection['PRICE']"
   ]
  },
  {
   "cell_type": "code",
   "execution_count": 48,
   "id": "a0ee9323",
   "metadata": {},
   "outputs": [
    {
     "data": {
      "text/html": [
       "<div>\n",
       "<style scoped>\n",
       "    .dataframe tbody tr th:only-of-type {\n",
       "        vertical-align: middle;\n",
       "    }\n",
       "\n",
       "    .dataframe tbody tr th {\n",
       "        vertical-align: top;\n",
       "    }\n",
       "\n",
       "    .dataframe thead th {\n",
       "        text-align: right;\n",
       "    }\n",
       "</style>\n",
       "<table border=\"1\" class=\"dataframe\">\n",
       "  <thead>\n",
       "    <tr style=\"text-align: right;\">\n",
       "      <th></th>\n",
       "      <th>MODEL</th>\n",
       "      <th>PRICE</th>\n",
       "      <th>ERRORS</th>\n",
       "    </tr>\n",
       "  </thead>\n",
       "  <tbody>\n",
       "    <tr>\n",
       "      <th>46482</th>\n",
       "      <td>4.746395</td>\n",
       "      <td>4.85</td>\n",
       "      <td>-0.103605</td>\n",
       "    </tr>\n",
       "    <tr>\n",
       "      <th>46483</th>\n",
       "      <td>4.286910</td>\n",
       "      <td>4.30</td>\n",
       "      <td>-0.013090</td>\n",
       "    </tr>\n",
       "    <tr>\n",
       "      <th>46484</th>\n",
       "      <td>3.862873</td>\n",
       "      <td>3.80</td>\n",
       "      <td>0.062873</td>\n",
       "    </tr>\n",
       "    <tr>\n",
       "      <th>46485</th>\n",
       "      <td>3.473958</td>\n",
       "      <td>3.40</td>\n",
       "      <td>0.073958</td>\n",
       "    </tr>\n",
       "    <tr>\n",
       "      <th>46486</th>\n",
       "      <td>3.119423</td>\n",
       "      <td>3.05</td>\n",
       "      <td>0.069423</td>\n",
       "    </tr>\n",
       "    <tr>\n",
       "      <th>46487</th>\n",
       "      <td>2.793903</td>\n",
       "      <td>2.75</td>\n",
       "      <td>0.043903</td>\n",
       "    </tr>\n",
       "    <tr>\n",
       "      <th>46488</th>\n",
       "      <td>2.494850</td>\n",
       "      <td>2.50</td>\n",
       "      <td>-0.005150</td>\n",
       "    </tr>\n",
       "    <tr>\n",
       "      <th>46489</th>\n",
       "      <td>2.224958</td>\n",
       "      <td>2.25</td>\n",
       "      <td>-0.025042</td>\n",
       "    </tr>\n",
       "    <tr>\n",
       "      <th>46490</th>\n",
       "      <td>1.981677</td>\n",
       "      <td>2.10</td>\n",
       "      <td>-0.118323</td>\n",
       "    </tr>\n",
       "  </tbody>\n",
       "</table>\n",
       "</div>"
      ],
      "text/plain": [
       "          MODEL  PRICE    ERRORS\n",
       "46482  4.746395   4.85 -0.103605\n",
       "46483  4.286910   4.30 -0.013090\n",
       "46484  3.862873   3.80  0.062873\n",
       "46485  3.473958   3.40  0.073958\n",
       "46486  3.119423   3.05  0.069423\n",
       "46487  2.793903   2.75  0.043903\n",
       "46488  2.494850   2.50 -0.005150\n",
       "46489  2.224958   2.25 -0.025042\n",
       "46490  1.981677   2.10 -0.118323"
      ]
     },
     "execution_count": 48,
     "metadata": {},
     "output_type": "execute_result"
    }
   ],
   "source": [
    "option_selection[['MODEL', 'PRICE', 'ERRORS']]"
   ]
  },
  {
   "cell_type": "code",
   "execution_count": 49,
   "id": "dc421d3a",
   "metadata": {},
   "outputs": [
    {
     "data": {
      "text/plain": [
       "-0.002"
      ]
     },
     "execution_count": 49,
     "metadata": {},
     "output_type": "execute_result"
    }
   ],
   "source": [
    "# 평균 오차\n",
    "round(option_selection['ERRORS'].mean(),3)"
   ]
  },
  {
   "cell_type": "code",
   "execution_count": 50,
   "id": "66e0cacb",
   "metadata": {},
   "outputs": [
    {
     "data": {
      "text/plain": [
       "Text(0.5, 0, 'strikes')"
      ]
     },
     "execution_count": 50,
     "metadata": {},
     "output_type": "execute_result"
    },
    {
     "data": {
      "image/png": "[encoded data removed]",
      "text/plain": [
       "<Figure size 576x576 with 2 Axes>"
      ]
     },
     "metadata": {
      "needs_background": "light"
     },
     "output_type": "display_data"
    }
   ],
   "source": [
    "# 시각화\n",
    "import matplotlib.pyplot as plt\n",
    "%matplotlib inline\n",
    "fix, (ax1, ax2) = plt.subplots(2, sharex = True, figsize = (8, 8))\n",
    "strikes = option_selection['STRIKE'].values\n",
    "ax1.plot(strikes, option_selection['PRICE'], label = 'market quotes')\n",
    "ax1.plot(strikes, option_selection['MODEL'], 'ro', label = 'model values')\n",
    "ax1.set_ylabel('option values')\n",
    "ax1.grid(True)\n",
    "ax1.legend(loc = 0)\n",
    "wi = 0.25\n",
    "ax2.bar(strikes - wi / 2., option_selection['ERRORS'], label = 'market quotes', width = wi)\n",
    "ax2.grid(True)\n",
    "ax2.set_ylabel('differences')\n",
    "ax2.set_xlabel('strikes')"
   ]
  },
  {
   "cell_type": "markdown",
   "id": "76ab68be",
   "metadata": {},
   "source": [
    "# 19.3 VSTOXX 아메리칸 옵션\n",
    "\n",
    "실제 시장에서 거래되지 않는, VSTOXX를 기초자산으로 하는 아메리칸 풋옵션의 가치평가"
   ]
  },
  {
   "cell_type": "markdown",
   "id": "adefb710",
   "metadata": {},
   "source": [
    "## 19.3.1 옵션 포지션 모형"
   ]
  },
  {
   "cell_type": "code",
   "execution_count": 51,
   "id": "c1c42571",
   "metadata": {},
   "outputs": [],
   "source": [
    "# market_environment 객체 정의\n",
    "me_vstoxx = market_environment('me_vstoxx', pricing_date)\n",
    "me_vstoxx.add_constant('initial_value', initial_value)\n",
    "me_vstoxx.add_constant('final_date', pricing_date)\n",
    "me_vstoxx.add_constant('currency', 'NONE')"
   ]
  },
  {
   "cell_type": "code",
   "execution_count": 52,
   "id": "4a6594ec",
   "metadata": {},
   "outputs": [],
   "source": [
    "# 앞서 구한 최적 파라미터값 사용\n",
    "me_vstoxx.add_constant('kappa', opt_local[0])\n",
    "me_vstoxx.add_constant('theta', opt_local[1])\n",
    "me_vstoxx.add_constant('volatility', opt_local[2])"
   ]
  },
  {
   "cell_type": "code",
   "execution_count": 53,
   "id": "f5001148",
   "metadata": {},
   "outputs": [],
   "source": [
    "me_vstoxx.add_constant('model', 'srd')\n",
    "payoff_func = 'np.maximum(strike - instrument_values, 0)'"
   ]
  },
  {
   "cell_type": "code",
   "execution_count": 54,
   "id": "57bd9119",
   "metadata": {},
   "outputs": [],
   "source": [
    "shared = market_environment('share', pricing_date)\n",
    "shared.add_constant('maturity', maturity)\n",
    "shared.add_constant('currency', 'EUR')"
   ]
  },
  {
   "cell_type": "code",
   "execution_count": 55,
   "id": "37576917",
   "metadata": {},
   "outputs": [],
   "source": [
    "option_positions = {}\n",
    "option_environments = {}\n",
    "\n",
    "for option in option_selection.index:\n",
    "    option_environments[option] = market_environment('am_put_%d' % option, pricing_date)\n",
    "        # 각각의 옵션에 대해 새로운 옵션 환경 정의\n",
    "    strike = option_selection['STRIKE'].loc[option]\n",
    "        # 관련 행사가 선택\n",
    "    option_environments[option].add_constant('strike', strike)\n",
    "        # 환경에 추가\n",
    "    option_environments[option].add_environment(shared)\n",
    "        # 공통 데이터 추가\n",
    "    option_positions['am_put_%d' % strike] = derivatives_position('am_put_%d' % strike,\n",
    "                                                                  quantity = 100,\n",
    "                                                                  underlying = 'vstoxx_model',\n",
    "                                                                  mar_env = option_environments[option],\n",
    "                                                                  otype = 'American',\n",
    "                                                                  payoff_func = payoff_func)"
   ]
  },
  {
   "cell_type": "markdown",
   "id": "eda7b19a",
   "metadata": {},
   "source": [
    "## 19.3.2 옵션 포트폴리오"
   ]
  },
  {
   "cell_type": "code",
   "execution_count": 56,
   "id": "9a72cbb0",
   "metadata": {},
   "outputs": [],
   "source": [
    "val_env = market_environment('val_env', pricing_date)\n",
    "val_env.add_constant('starting_date', pricing_date)\n",
    "val_env.add_constant('final_date', pricing_date)\n",
    "# 추후 갱신되는 임시 값들\n",
    "val_env.add_curve('discount_curve', csr)\n",
    "val_env.add_constant('frequency', 'B')\n",
    "val_env.add_constant('paths', 25000)"
   ]
  },
  {
   "cell_type": "code",
   "execution_count": 57,
   "id": "5e663c92",
   "metadata": {},
   "outputs": [],
   "source": [
    "underlyings = {'vstoxx_model' : me_vstoxx}"
   ]
  },
  {
   "cell_type": "code",
   "execution_count": 58,
   "id": "5e731ae9",
   "metadata": {},
   "outputs": [],
   "source": [
    "portfolio = derivatives_portfolio('portfolio', option_positions, val_env, underlyings)"
   ]
  },
  {
   "cell_type": "code",
   "execution_count": 59,
   "id": "205ab2b9",
   "metadata": {},
   "outputs": [
    {
     "name": "stdout",
     "output_type": "stream",
     "text": [
      "Wall time: 37.5 s\n"
     ]
    }
   ],
   "source": [
    "%time results = portfolio.get_statistics(fixed_seed = True)"
   ]
  },
  {
   "cell_type": "code",
   "execution_count": 62,
   "id": "5bbe2588",
   "metadata": {},
   "outputs": [
    {
     "data": {
      "text/html": [
       "<div>\n",
       "<style scoped>\n",
       "    .dataframe tbody tr th:only-of-type {\n",
       "        vertical-align: middle;\n",
       "    }\n",
       "\n",
       "    .dataframe tbody tr th {\n",
       "        vertical-align: top;\n",
       "    }\n",
       "\n",
       "    .dataframe thead th {\n",
       "        text-align: right;\n",
       "    }\n",
       "</style>\n",
       "<table border=\"1\" class=\"dataframe\">\n",
       "  <thead>\n",
       "    <tr style=\"text-align: right;\">\n",
       "      <th></th>\n",
       "      <th>name</th>\n",
       "      <th>quant</th>\n",
       "      <th>value</th>\n",
       "      <th>curr.</th>\n",
       "      <th>pos_value</th>\n",
       "      <th>pos_delta</th>\n",
       "      <th>pos_vega</th>\n",
       "    </tr>\n",
       "  </thead>\n",
       "  <tbody>\n",
       "    <tr>\n",
       "      <th>0</th>\n",
       "      <td>am_put_17</td>\n",
       "      <td>100</td>\n",
       "      <td>4.570485</td>\n",
       "      <td>EUR</td>\n",
       "      <td>457.0485</td>\n",
       "      <td>-27.67</td>\n",
       "      <td>107.80</td>\n",
       "    </tr>\n",
       "    <tr>\n",
       "      <th>1</th>\n",
       "      <td>am_put_18</td>\n",
       "      <td>100</td>\n",
       "      <td>5.190628</td>\n",
       "      <td>EUR</td>\n",
       "      <td>519.0628</td>\n",
       "      <td>-30.62</td>\n",
       "      <td>108.97</td>\n",
       "    </tr>\n",
       "    <tr>\n",
       "      <th>2</th>\n",
       "      <td>am_put_19</td>\n",
       "      <td>100</td>\n",
       "      <td>5.862681</td>\n",
       "      <td>EUR</td>\n",
       "      <td>586.2681</td>\n",
       "      <td>-33.99</td>\n",
       "      <td>108.96</td>\n",
       "    </tr>\n",
       "    <tr>\n",
       "      <th>3</th>\n",
       "      <td>am_put_20</td>\n",
       "      <td>100</td>\n",
       "      <td>6.565225</td>\n",
       "      <td>EUR</td>\n",
       "      <td>656.5225</td>\n",
       "      <td>-34.92</td>\n",
       "      <td>111.54</td>\n",
       "    </tr>\n",
       "    <tr>\n",
       "      <th>4</th>\n",
       "      <td>am_put_21</td>\n",
       "      <td>100</td>\n",
       "      <td>7.306526</td>\n",
       "      <td>EUR</td>\n",
       "      <td>730.6526</td>\n",
       "      <td>-40.01</td>\n",
       "      <td>106.86</td>\n",
       "    </tr>\n",
       "    <tr>\n",
       "      <th>5</th>\n",
       "      <td>am_put_22</td>\n",
       "      <td>100</td>\n",
       "      <td>8.073473</td>\n",
       "      <td>EUR</td>\n",
       "      <td>807.3473</td>\n",
       "      <td>-41.78</td>\n",
       "      <td>106.18</td>\n",
       "    </tr>\n",
       "    <tr>\n",
       "      <th>6</th>\n",
       "      <td>am_put_23</td>\n",
       "      <td>100</td>\n",
       "      <td>8.858895</td>\n",
       "      <td>EUR</td>\n",
       "      <td>885.8895</td>\n",
       "      <td>-42.92</td>\n",
       "      <td>104.72</td>\n",
       "    </tr>\n",
       "    <tr>\n",
       "      <th>7</th>\n",
       "      <td>am_put_24</td>\n",
       "      <td>100</td>\n",
       "      <td>9.667220</td>\n",
       "      <td>EUR</td>\n",
       "      <td>966.7220</td>\n",
       "      <td>-44.24</td>\n",
       "      <td>96.04</td>\n",
       "    </tr>\n",
       "    <tr>\n",
       "      <th>8</th>\n",
       "      <td>am_put_25</td>\n",
       "      <td>100</td>\n",
       "      <td>10.464026</td>\n",
       "      <td>EUR</td>\n",
       "      <td>1046.4026</td>\n",
       "      <td>-42.09</td>\n",
       "      <td>102.14</td>\n",
       "    </tr>\n",
       "  </tbody>\n",
       "</table>\n",
       "</div>"
      ],
      "text/plain": [
       "        name  quant      value curr.  pos_value  pos_delta  pos_vega\n",
       "0  am_put_17    100   4.570485   EUR   457.0485     -27.67    107.80\n",
       "1  am_put_18    100   5.190628   EUR   519.0628     -30.62    108.97\n",
       "2  am_put_19    100   5.862681   EUR   586.2681     -33.99    108.96\n",
       "3  am_put_20    100   6.565225   EUR   656.5225     -34.92    111.54\n",
       "4  am_put_21    100   7.306526   EUR   730.6526     -40.01    106.86\n",
       "5  am_put_22    100   8.073473   EUR   807.3473     -41.78    106.18\n",
       "6  am_put_23    100   8.858895   EUR   885.8895     -42.92    104.72\n",
       "7  am_put_24    100   9.667220   EUR   966.7220     -44.24     96.04\n",
       "8  am_put_25    100  10.464026   EUR  1046.4026     -42.09    102.14"
      ]
     },
     "execution_count": 62,
     "metadata": {},
     "output_type": "execute_result"
    }
   ],
   "source": [
    "results.sort_index()"
   ]
  },
  {
   "cell_type": "code",
   "execution_count": 63,
   "id": "82afd982",
   "metadata": {},
   "outputs": [
    {
     "data": {
      "text/plain": [
       "pos_value    6655.9159\n",
       "pos_delta    -338.2400\n",
       "pos_vega      953.2100\n",
       "dtype: float64"
      ]
     },
     "execution_count": 63,
     "metadata": {},
     "output_type": "execute_result"
    }
   ],
   "source": [
    "results[['pos_value', 'pos_delta', 'pos_vega']].sum()"
   ]
  },
  {
   "cell_type": "code",
   "execution_count": null,
   "id": "658befa9",
   "metadata": {},
   "outputs": [],
   "source": []
  }
 ],
 "metadata": {
  "kernelspec": {
   "display_name": "Python 3",
   "language": "python",
   "name": "python3"
  },
  "language_info": {
   "codemirror_mode": {
    "name": "ipython",
    "version": 3
   },
   "file_extension": ".py",
   "mimetype": "text/x-python",
   "name": "python",
   "nbconvert_exporter": "python",
   "pygments_lexer": "ipython3",
   "version": "3.7.6"
  }
 },
 "nbformat": 4,
 "nbformat_minor": 5
}
